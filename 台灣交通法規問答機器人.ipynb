{
  "nbformat": 4,
  "nbformat_minor": 0,
  "metadata": {
    "colab": {
      "provenance": [],
      "include_colab_link": true
    },
    "kernelspec": {
      "name": "python3",
      "display_name": "Python 3"
    },
    "language_info": {
      "name": "python"
    }
  },
  "cells": [
    {
      "cell_type": "markdown",
      "metadata": {
        "id": "view-in-github",
        "colab_type": "text"
      },
      "source": [
        "<a href=\"https://colab.research.google.com/github/ckjen168/LLMColab/blob/main/%E5%8F%B0%E7%81%A3%E4%BA%A4%E9%80%9A%E6%B3%95%E8%A6%8F%E5%95%8F%E7%AD%94%E6%A9%9F%E5%99%A8%E4%BA%BA.ipynb\" target=\"_parent\"><img src=\"https://colab.research.google.com/assets/colab-badge.svg\" alt=\"Open In Colab\"/></a>"
      ]
    },
    {
      "cell_type": "markdown",
      "source": [
        "# 第 7 章 用 RAG 讓模型增加額外知識"
      ],
      "metadata": {
        "id": "iBmU7eRchZhd"
      }
    },
    {
      "cell_type": "code",
      "execution_count": 1,
      "metadata": {
        "colab": {
          "base_uri": "https://localhost:8080/"
        },
        "id": "F3bvO3XEx738",
        "outputId": "975a23d0-5235-49c1-a77e-cc82da81f13c"
      },
      "outputs": [
        {
          "output_type": "stream",
          "name": "stdout",
          "text": [
            "\u001b[2K   \u001b[90m━━━━━━━━━━━━━━━━━━━━━━━━━━━━━━━━━━━━━━━━\u001b[0m \u001b[32m54.2/54.2 kB\u001b[0m \u001b[31m981.7 kB/s\u001b[0m eta \u001b[36m0:00:00\u001b[0m\n",
            "\u001b[2K   \u001b[90m━━━━━━━━━━━━━━━━━━━━━━━━━━━━━━━━━━━━━━━━\u001b[0m \u001b[32m2.5/2.5 MB\u001b[0m \u001b[31m15.2 MB/s\u001b[0m eta \u001b[36m0:00:00\u001b[0m\n",
            "\u001b[2K   \u001b[90m━━━━━━━━━━━━━━━━━━━━━━━━━━━━━━━━━━━━━━━━\u001b[0m \u001b[32m1.0/1.0 MB\u001b[0m \u001b[31m19.4 MB/s\u001b[0m eta \u001b[36m0:00:00\u001b[0m\n",
            "\u001b[2K   \u001b[90m━━━━━━━━━━━━━━━━━━━━━━━━━━━━━━━━━━━━━━━━\u001b[0m \u001b[32m411.6/411.6 kB\u001b[0m \u001b[31m14.2 MB/s\u001b[0m eta \u001b[36m0:00:00\u001b[0m\n",
            "\u001b[2K   \u001b[90m━━━━━━━━━━━━━━━━━━━━━━━━━━━━━━━━━━━━━━━━\u001b[0m \u001b[32m454.8/454.8 kB\u001b[0m \u001b[31m16.4 MB/s\u001b[0m eta \u001b[36m0:00:00\u001b[0m\n",
            "\u001b[2K   \u001b[90m━━━━━━━━━━━━━━━━━━━━━━━━━━━━━━━━━━━━━━━━\u001b[0m \u001b[32m1.2/1.2 MB\u001b[0m \u001b[31m21.0 MB/s\u001b[0m eta \u001b[36m0:00:00\u001b[0m\n",
            "\u001b[2K   \u001b[90m━━━━━━━━━━━━━━━━━━━━━━━━━━━━━━━━━━━━━━━━\u001b[0m \u001b[32m49.6/49.6 kB\u001b[0m \u001b[31m1.1 MB/s\u001b[0m eta \u001b[36m0:00:00\u001b[0m\n",
            "\u001b[?25h"
          ]
        }
      ],
      "source": [
        "!pip install langchain langchain_openai langchain_community rich --quiet"
      ]
    },
    {
      "cell_type": "code",
      "source": [
        "# 匯入套件和金鑰\n",
        "from google.colab import userdata\n",
        "from rich import print as pprint\n",
        "import os\n",
        "os.environ['OPENAI_API_KEY'] = userdata.get('OPENAI_API_KEY')\n",
        "from langchain_openai import ChatOpenAI\n",
        "chat_model = ChatOpenAI()"
      ],
      "metadata": {
        "id": "vIDYqD-uyVQ0"
      },
      "execution_count": 2,
      "outputs": []
    },
    {
      "cell_type": "markdown",
      "source": [
        "## 7-1 什麼是 RAG?"
      ],
      "metadata": {
        "id": "7dTi9s3W05DY"
      }
    },
    {
      "cell_type": "markdown",
      "source": [
        "### RAG 第一步：資料匯入"
      ],
      "metadata": {
        "id": "0HvxQPGphScx"
      }
    },
    {
      "cell_type": "code",
      "source": [
        "!pip install pypdf chromadb rapidocr-onnxruntime --quiet"
      ],
      "metadata": {
        "id": "1pF9saNdS7kQ",
        "colab": {
          "base_uri": "https://localhost:8080/"
        },
        "outputId": "566635fd-63c2-4cc3-eaa0-a05eea08265d"
      },
      "execution_count": 3,
      "outputs": [
        {
          "output_type": "stream",
          "name": "stdout",
          "text": [
            "\u001b[?25l     \u001b[90m━━━━━━━━━━━━━━━━━━━━━━━━━━━━━━━━━━━━━━━━\u001b[0m \u001b[32m0.0/67.3 kB\u001b[0m \u001b[31m?\u001b[0m eta \u001b[36m-:--:--\u001b[0m\r\u001b[2K     \u001b[90m━━━━━━━━━━━━━━━━━━━━━━━━━━━━━━━━━━━━━━━━\u001b[0m \u001b[32m67.3/67.3 kB\u001b[0m \u001b[31m4.9 MB/s\u001b[0m eta \u001b[36m0:00:00\u001b[0m\n",
            "\u001b[?25h  Installing build dependencies ... \u001b[?25l\u001b[?25hdone\n",
            "  Getting requirements to build wheel ... \u001b[?25l\u001b[?25hdone\n",
            "  Preparing metadata (pyproject.toml) ... \u001b[?25l\u001b[?25hdone\n",
            "\u001b[2K   \u001b[90m━━━━━━━━━━━━━━━━━━━━━━━━━━━━━━━━━━━━━━━━\u001b[0m \u001b[32m298.0/298.0 kB\u001b[0m \u001b[31m13.5 MB/s\u001b[0m eta \u001b[36m0:00:00\u001b[0m\n",
            "\u001b[2K   \u001b[90m━━━━━━━━━━━━━━━━━━━━━━━━━━━━━━━━━━━━━━━━\u001b[0m \u001b[32m611.1/611.1 kB\u001b[0m \u001b[31m34.1 MB/s\u001b[0m eta \u001b[36m0:00:00\u001b[0m\n",
            "\u001b[2K   \u001b[90m━━━━━━━━━━━━━━━━━━━━━━━━━━━━━━━━━━━━━━━━\u001b[0m \u001b[32m2.4/2.4 MB\u001b[0m \u001b[31m65.4 MB/s\u001b[0m eta \u001b[36m0:00:00\u001b[0m\n",
            "\u001b[2K   \u001b[90m━━━━━━━━━━━━━━━━━━━━━━━━━━━━━━━━━━━━━━━━\u001b[0m \u001b[32m14.9/14.9 MB\u001b[0m \u001b[31m87.3 MB/s\u001b[0m eta \u001b[36m0:00:00\u001b[0m\n",
            "\u001b[2K   \u001b[90m━━━━━━━━━━━━━━━━━━━━━━━━━━━━━━━━━━━━━━━━\u001b[0m \u001b[32m278.6/278.6 kB\u001b[0m \u001b[31m20.0 MB/s\u001b[0m eta \u001b[36m0:00:00\u001b[0m\n",
            "\u001b[2K   \u001b[90m━━━━━━━━━━━━━━━━━━━━━━━━━━━━━━━━━━━━━━━━\u001b[0m \u001b[32m94.8/94.8 kB\u001b[0m \u001b[31m7.4 MB/s\u001b[0m eta \u001b[36m0:00:00\u001b[0m\n",
            "\u001b[2K   \u001b[90m━━━━━━━━━━━━━━━━━━━━━━━━━━━━━━━━━━━━━━━━\u001b[0m \u001b[32m1.9/1.9 MB\u001b[0m \u001b[31m67.5 MB/s\u001b[0m eta \u001b[36m0:00:00\u001b[0m\n",
            "\u001b[2K   \u001b[90m━━━━━━━━━━━━━━━━━━━━━━━━━━━━━━━━━━━━━━━━\u001b[0m \u001b[32m93.2/93.2 kB\u001b[0m \u001b[31m6.7 MB/s\u001b[0m eta \u001b[36m0:00:00\u001b[0m\n",
            "\u001b[2K   \u001b[90m━━━━━━━━━━━━━━━━━━━━━━━━━━━━━━━━━━━━━━━━\u001b[0m \u001b[32m13.3/13.3 MB\u001b[0m \u001b[31m83.3 MB/s\u001b[0m eta \u001b[36m0:00:00\u001b[0m\n",
            "\u001b[2K   \u001b[90m━━━━━━━━━━━━━━━━━━━━━━━━━━━━━━━━━━━━━━━━\u001b[0m \u001b[32m55.8/55.8 kB\u001b[0m \u001b[31m4.2 MB/s\u001b[0m eta \u001b[36m0:00:00\u001b[0m\n",
            "\u001b[2K   \u001b[90m━━━━━━━━━━━━━━━━━━━━━━━━━━━━━━━━━━━━━━━━\u001b[0m \u001b[32m64.7/64.7 kB\u001b[0m \u001b[31m4.8 MB/s\u001b[0m eta \u001b[36m0:00:00\u001b[0m\n",
            "\u001b[2K   \u001b[90m━━━━━━━━━━━━━━━━━━━━━━━━━━━━━━━━━━━━━━━━\u001b[0m \u001b[32m912.2/912.2 kB\u001b[0m \u001b[31m43.9 MB/s\u001b[0m eta \u001b[36m0:00:00\u001b[0m\n",
            "\u001b[2K   \u001b[90m━━━━━━━━━━━━━━━━━━━━━━━━━━━━━━━━━━━━━━━━\u001b[0m \u001b[32m62.3/62.3 kB\u001b[0m \u001b[31m4.2 MB/s\u001b[0m eta \u001b[36m0:00:00\u001b[0m\n",
            "\u001b[2K   \u001b[90m━━━━━━━━━━━━━━━━━━━━━━━━━━━━━━━━━━━━━━━━\u001b[0m \u001b[32m442.1/442.1 kB\u001b[0m \u001b[31m30.7 MB/s\u001b[0m eta \u001b[36m0:00:00\u001b[0m\n",
            "\u001b[2K   \u001b[90m━━━━━━━━━━━━━━━━━━━━━━━━━━━━━━━━━━━━━━━━\u001b[0m \u001b[32m319.7/319.7 kB\u001b[0m \u001b[31m22.5 MB/s\u001b[0m eta \u001b[36m0:00:00\u001b[0m\n",
            "\u001b[2K   \u001b[90m━━━━━━━━━━━━━━━━━━━━━━━━━━━━━━━━━━━━━━━━\u001b[0m \u001b[32m73.2/73.2 kB\u001b[0m \u001b[31m4.8 MB/s\u001b[0m eta \u001b[36m0:00:00\u001b[0m\n",
            "\u001b[2K   \u001b[90m━━━━━━━━━━━━━━━━━━━━━━━━━━━━━━━━━━━━━━━━\u001b[0m \u001b[32m3.8/3.8 MB\u001b[0m \u001b[31m77.2 MB/s\u001b[0m eta \u001b[36m0:00:00\u001b[0m\n",
            "\u001b[2K   \u001b[90m━━━━━━━━━━━━━━━━━━━━━━━━━━━━━━━━━━━━━━━━\u001b[0m \u001b[32m452.9/452.9 kB\u001b[0m \u001b[31m27.8 MB/s\u001b[0m eta \u001b[36m0:00:00\u001b[0m\n",
            "\u001b[2K   \u001b[90m━━━━━━━━━━━━━━━━━━━━━━━━━━━━━━━━━━━━━━━━\u001b[0m \u001b[32m46.0/46.0 kB\u001b[0m \u001b[31m3.5 MB/s\u001b[0m eta \u001b[36m0:00:00\u001b[0m\n",
            "\u001b[2K   \u001b[90m━━━━━━━━━━━━━━━━━━━━━━━━━━━━━━━━━━━━━━━━\u001b[0m \u001b[32m86.8/86.8 kB\u001b[0m \u001b[31m6.2 MB/s\u001b[0m eta \u001b[36m0:00:00\u001b[0m\n",
            "\u001b[?25h  Building wheel for pypika (pyproject.toml) ... \u001b[?25l\u001b[?25hdone\n",
            "\u001b[31mERROR: pip's dependency resolver does not currently take into account all the packages that are installed. This behaviour is the source of the following dependency conflicts.\n",
            "tensorflow 2.17.1 requires protobuf!=4.21.0,!=4.21.1,!=4.21.2,!=4.21.3,!=4.21.4,!=4.21.5,<5.0.0dev,>=3.20.3, but you have protobuf 5.29.3 which is incompatible.\n",
            "tensorflow-metadata 1.13.1 requires protobuf<5,>=3.20.3, but you have protobuf 5.29.3 which is incompatible.\u001b[0m\u001b[31m\n",
            "\u001b[0m"
          ]
        }
      ]
    },
    {
      "cell_type": "markdown",
      "source": [
        "extract_images 設定 True 可以解析帶有圖片的 PDF"
      ],
      "metadata": {
        "id": "KryjETI5d5CB"
      }
    },
    {
      "cell_type": "code",
      "source": [
        "from langchain_community.document_loaders import PyPDFLoader\n",
        "loader = PyPDFLoader(file_path='https://ppt.cc/f9nc5x')"
      ],
      "metadata": {
        "id": "T6A17PCqybAg"
      },
      "execution_count": 4,
      "outputs": []
    },
    {
      "cell_type": "code",
      "source": [
        "docs = loader.load()\n",
        "pprint(docs[0])"
      ],
      "metadata": {
        "colab": {
          "base_uri": "https://localhost:8080/",
          "height": 177
        },
        "id": "Hl0gpTzchxkh",
        "outputId": "491ffc8c-9ba9-4c3d-f4ec-56b751e51546"
      },
      "execution_count": 5,
      "outputs": [
        {
          "output_type": "display_data",
          "data": {
            "text/plain": [
              "\u001b[1;35mDocument\u001b[0m\u001b[1m(\u001b[0m\n",
              "    \u001b[33mmetadata\u001b[0m=\u001b[1m{\u001b[0m\u001b[32m'source'\u001b[0m: \u001b[32m'https://ppt.cc/f9nc5x'\u001b[0m, \u001b[32m'page'\u001b[0m: \u001b[1;36m0\u001b[0m\u001b[1m}\u001b[0m,\n",
              "    \u001b[33mpage_content\u001b[0m=\u001b[32m'汽車法規是非題  \\n第1頁/共 36頁  \\n                      分類編號欄位說明  \\n分類編\\n號  \u001b[0m\n",
              "\u001b[32m分類項目內容  \\n01  路口安全\u001b[0m\u001b[32m(\u001b[0m\u001b[32m有號誌路口、無號誌路口、停讓行人\u001b[0m\u001b[32m)\u001b[0m\u001b[32m  \\n02  轉彎\u001b[0m\u001b[32m(\u001b[0m\u001b[32m左右轉、迴轉\u001b[0m\u001b[32m)\u001b[0m\u001b[32m \\n03  \u001b[0m\n",
              "\u001b[32m行駛中應注意事項\u001b[0m\u001b[32m(\u001b[0m\u001b[32m保持安全車距、注意前車狀況\u001b[0m\u001b[32m)\u001b[0m\u001b[32m \\n04  正確使用燈光\u001b[0m\u001b[32m(\u001b[0m\u001b[32m頭燈、霧燈、方向燈\u001b[0m\u001b[32m)\u001b[0m\u001b[32m \\n05  \u001b[0m\n",
              "\u001b[32m注意大型車行駛及轉彎\u001b[0m\u001b[32m(\u001b[0m\u001b[32m內輪差、視野死角、不並行\u001b[0m\u001b[32m)\u001b[0m\u001b[32m \\n06  貨物裝載\u001b[0m\u001b[32m(\u001b[0m\u001b[32m防止掉落或滲漏\u001b[0m\u001b[32m)\u001b[0m\u001b[32m \\n07 \u001b[0m\n",
              "\u001b[32m事故預防及處理\u001b[0m\u001b[32m(\u001b[0m\u001b[32m預防國道二次事故、急救常識\u001b[0m\u001b[32m)\u001b[0m\u001b[32m \\n08 禁止不當行為\u001b[0m\u001b[32m(\u001b[0m\u001b[32m酒駕、不使用手機、危險駕駛\u001b[0m\u001b[32m)\u001b[0m\u001b[32m \\n09 行車檢查\u001b[0m\u001b[32m(\u001b[0m\u001b[32m設備、燈光\u001b[0m\u001b[32m)\u001b[0m\u001b[32m \u001b[0m\n",
              "\u001b[32m\\n10 其他\u001b[0m\u001b[32m(\u001b[0m\u001b[32m平交道、強制險、環保駕駛、特殊天候、駕駛道德\u001b[0m\u001b[32m)\u001b[0m\u001b[32m \\n  '\u001b[0m\n",
              "\u001b[1m)\u001b[0m\n"
            ],
            "text/html": [
              "<pre style=\"white-space:pre;overflow-x:auto;line-height:normal;font-family:Menlo,'DejaVu Sans Mono',consolas,'Courier New',monospace\"><span style=\"color: #800080; text-decoration-color: #800080; font-weight: bold\">Document</span><span style=\"font-weight: bold\">(</span>\n",
              "    <span style=\"color: #808000; text-decoration-color: #808000\">metadata</span>=<span style=\"font-weight: bold\">{</span><span style=\"color: #008000; text-decoration-color: #008000\">'source'</span>: <span style=\"color: #008000; text-decoration-color: #008000\">'https://ppt.cc/f9nc5x'</span>, <span style=\"color: #008000; text-decoration-color: #008000\">'page'</span>: <span style=\"color: #008080; text-decoration-color: #008080; font-weight: bold\">0</span><span style=\"font-weight: bold\">}</span>,\n",
              "    <span style=\"color: #808000; text-decoration-color: #808000\">page_content</span>=<span style=\"color: #008000; text-decoration-color: #008000\">'汽車法規是非題  \\n第1頁/共 36頁  \\n                      分類編號欄位說明  \\n分類編\\n號  </span>\n",
              "<span style=\"color: #008000; text-decoration-color: #008000\">分類項目內容  \\n01  路口安全(有號誌路口、無號誌路口、停讓行人)  \\n02  轉彎(左右轉、迴轉) \\n03  </span>\n",
              "<span style=\"color: #008000; text-decoration-color: #008000\">行駛中應注意事項(保持安全車距、注意前車狀況) \\n04  正確使用燈光(頭燈、霧燈、方向燈) \\n05  </span>\n",
              "<span style=\"color: #008000; text-decoration-color: #008000\">注意大型車行駛及轉彎(內輪差、視野死角、不並行) \\n06  貨物裝載(防止掉落或滲漏) \\n07 </span>\n",
              "<span style=\"color: #008000; text-decoration-color: #008000\">事故預防及處理(預防國道二次事故、急救常識) \\n08 禁止不當行為(酒駕、不使用手機、危險駕駛) \\n09 行車檢查(設備、燈光) </span>\n",
              "<span style=\"color: #008000; text-decoration-color: #008000\">\\n10 其他(平交道、強制險、環保駕駛、特殊天候、駕駛道德) \\n  '</span>\n",
              "<span style=\"font-weight: bold\">)</span>\n",
              "</pre>\n"
            ]
          },
          "metadata": {}
        }
      ]
    },
    {
      "cell_type": "code",
      "source": [
        "from langchain.indexes import VectorstoreIndexCreator\n",
        "from langchain_openai import OpenAIEmbeddings\n",
        "embeddings_model=OpenAIEmbeddings(model='text-embedding-3-large')\n",
        "index = VectorstoreIndexCreator(\n",
        "    embedding=embeddings_model).from_loaders([loader])"
      ],
      "metadata": {
        "id": "AWrnoIU-NOP4",
        "outputId": "0552b247-f492-49d2-d1d6-4ea491f2eff3",
        "colab": {
          "base_uri": "https://localhost:8080/"
        }
      },
      "execution_count": 6,
      "outputs": [
        {
          "output_type": "stream",
          "name": "stderr",
          "text": [
            "/usr/local/lib/python3.10/dist-packages/langchain/indexes/vectorstore.py:128: UserWarning: Using InMemoryVectorStore as the default vectorstore.This memory store won't persist data. You should explicitlyspecify a vectorstore when using VectorstoreIndexCreator\n",
            "  warnings.warn(\n"
          ]
        }
      ]
    },
    {
      "cell_type": "code",
      "source": [
        "query = \"酒後開車且酒精濃度超過規定標準應罰款多少?\"\n",
        "response = index.query(llm=chat_model, question=query)\n",
        "print(response)"
      ],
      "metadata": {
        "colab": {
          "base_uri": "https://localhost:8080/"
        },
        "id": "sTIUnXstOxJF",
        "outputId": "8584b41c-1069-46c3-d135-b324d613678d"
      },
      "execution_count": 7,
      "outputs": [
        {
          "output_type": "stream",
          "name": "stdout",
          "text": [
            "酒後開車且酒精濃度超過規定標準應處以新臺幣30,000到120,000元罰款，並當場移置保管汽車及吊銷駕照。\n"
          ]
        }
      ]
    },
    {
      "cell_type": "markdown",
      "source": [
        "### RAG 第二步：資料分割"
      ],
      "metadata": {
        "id": "FK8E0mN0fLZq"
      }
    },
    {
      "cell_type": "code",
      "source": [
        "test_doc = docs[1].page_content[:200]\n",
        "test_doc"
      ],
      "metadata": {
        "id": "-P7qzZDq91EZ",
        "colab": {
          "base_uri": "https://localhost:8080/",
          "height": 52
        },
        "outputId": "e4db32ee-eaf4-4e3b-94fd-72ecc97a5005"
      },
      "execution_count": 8,
      "outputs": [
        {
          "output_type": "execute_result",
          "data": {
            "text/plain": [
              "'汽車法規是非題  \\n第2頁/共 36頁  \\n  \\n題號 答案 題   目  \\n分類\\n編號  \\n001  ○  \\n尊重生命是駕駛道德最重要的一點，我們開車時要處處顧及行人，尤\\n其應該注意讓老弱婦孺身心障礙者優先通行。  10 \\n002  X  遵守交通法規與秩序，只算是優良駕駛人，與駕駛道德無關。  10 \\n003  ○  汽油著火時，應用滅火器、泥沙或用水浸濕棉被、衣服覆蓋撲滅。  07 \\n004'"
            ],
            "application/vnd.google.colaboratory.intrinsic+json": {
              "type": "string"
            }
          },
          "metadata": {},
          "execution_count": 8
        }
      ]
    },
    {
      "cell_type": "code",
      "source": [
        "from langchain_text_splitters import (\n",
        "    CharacterTextSplitter, RecursiveCharacterTextSplitter)"
      ],
      "metadata": {
        "id": "ikiYJ0KYiHsO"
      },
      "execution_count": 14,
      "outputs": []
    },
    {
      "cell_type": "code",
      "source": [
        "text_splitter = CharacterTextSplitter(separator='',chunk_size=10,chunk_overlap=2)\n",
        "chunks = text_splitter.split_text(test_doc)\n",
        "pprint(chunks)"
      ],
      "metadata": {
        "colab": {
          "base_uri": "https://localhost:8080/",
          "height": 510
        },
        "id": "NRTXw7gbBO3j",
        "outputId": "5fef4cda-b993-49fe-855d-ddf0f7f43fa3"
      },
      "execution_count": 15,
      "outputs": [
        {
          "output_type": "display_data",
          "data": {
            "text/plain": [
              "\u001b[1m[\u001b[0m\n",
              "    \u001b[32m'汽車法規是非題'\u001b[0m,\n",
              "    \u001b[32m'第2頁/共 36'\u001b[0m,\n",
              "    \u001b[32m'36頁  \\n  \\n題'\u001b[0m,\n",
              "    \u001b[32m'題號 答案 題'\u001b[0m,\n",
              "    \u001b[32m'目  \\n分類'\u001b[0m,\n",
              "    \u001b[32m'類\\n編號  \\n001'\u001b[0m,\n",
              "    \u001b[32m'01  ○  \\n尊重'\u001b[0m,\n",
              "    \u001b[32m'尊重生命是駕駛道德最'\u001b[0m,\n",
              "    \u001b[32m'德最重要的一點，我們'\u001b[0m,\n",
              "    \u001b[32m'我們開車時要處處顧及'\u001b[0m,\n",
              "    \u001b[32m'顧及行人，尤\\n其應該'\u001b[0m,\n",
              "    \u001b[32m'應該注意讓老弱婦孺身'\u001b[0m,\n",
              "    \u001b[32m'孺身心障礙者優先通行'\u001b[0m,\n",
              "    \u001b[32m'通行。  10 \\n0'\u001b[0m,\n",
              "    \u001b[32m'002  X  遵'\u001b[0m,\n",
              "    \u001b[32m'遵守交通法規與秩序'\u001b[0m,\n",
              "    \u001b[32m'秩序，只算是優良駕駛'\u001b[0m,\n",
              "    \u001b[32m'駕駛人，與駕駛道德無'\u001b[0m,\n",
              "    \u001b[32m'德無關。  10'\u001b[0m,\n",
              "    \u001b[32m'003  ○'\u001b[0m,\n",
              "    \u001b[32m'汽油著火時，應用'\u001b[0m,\n",
              "    \u001b[32m'應用滅火器、泥沙或用'\u001b[0m,\n",
              "    \u001b[32m'或用水浸濕棉被、衣服'\u001b[0m,\n",
              "    \u001b[32m'衣服覆蓋撲滅。  0'\u001b[0m,\n",
              "    \u001b[32m'07 \\n004'\u001b[0m\n",
              "\u001b[1m]\u001b[0m\n"
            ],
            "text/html": [
              "<pre style=\"white-space:pre;overflow-x:auto;line-height:normal;font-family:Menlo,'DejaVu Sans Mono',consolas,'Courier New',monospace\"><span style=\"font-weight: bold\">[</span>\n",
              "    <span style=\"color: #008000; text-decoration-color: #008000\">'汽車法規是非題'</span>,\n",
              "    <span style=\"color: #008000; text-decoration-color: #008000\">'第2頁/共 36'</span>,\n",
              "    <span style=\"color: #008000; text-decoration-color: #008000\">'36頁  \\n  \\n題'</span>,\n",
              "    <span style=\"color: #008000; text-decoration-color: #008000\">'題號 答案 題'</span>,\n",
              "    <span style=\"color: #008000; text-decoration-color: #008000\">'目  \\n分類'</span>,\n",
              "    <span style=\"color: #008000; text-decoration-color: #008000\">'類\\n編號  \\n001'</span>,\n",
              "    <span style=\"color: #008000; text-decoration-color: #008000\">'01  ○  \\n尊重'</span>,\n",
              "    <span style=\"color: #008000; text-decoration-color: #008000\">'尊重生命是駕駛道德最'</span>,\n",
              "    <span style=\"color: #008000; text-decoration-color: #008000\">'德最重要的一點，我們'</span>,\n",
              "    <span style=\"color: #008000; text-decoration-color: #008000\">'我們開車時要處處顧及'</span>,\n",
              "    <span style=\"color: #008000; text-decoration-color: #008000\">'顧及行人，尤\\n其應該'</span>,\n",
              "    <span style=\"color: #008000; text-decoration-color: #008000\">'應該注意讓老弱婦孺身'</span>,\n",
              "    <span style=\"color: #008000; text-decoration-color: #008000\">'孺身心障礙者優先通行'</span>,\n",
              "    <span style=\"color: #008000; text-decoration-color: #008000\">'通行。  10 \\n0'</span>,\n",
              "    <span style=\"color: #008000; text-decoration-color: #008000\">'002  X  遵'</span>,\n",
              "    <span style=\"color: #008000; text-decoration-color: #008000\">'遵守交通法規與秩序'</span>,\n",
              "    <span style=\"color: #008000; text-decoration-color: #008000\">'秩序，只算是優良駕駛'</span>,\n",
              "    <span style=\"color: #008000; text-decoration-color: #008000\">'駕駛人，與駕駛道德無'</span>,\n",
              "    <span style=\"color: #008000; text-decoration-color: #008000\">'德無關。  10'</span>,\n",
              "    <span style=\"color: #008000; text-decoration-color: #008000\">'003  ○'</span>,\n",
              "    <span style=\"color: #008000; text-decoration-color: #008000\">'汽油著火時，應用'</span>,\n",
              "    <span style=\"color: #008000; text-decoration-color: #008000\">'應用滅火器、泥沙或用'</span>,\n",
              "    <span style=\"color: #008000; text-decoration-color: #008000\">'或用水浸濕棉被、衣服'</span>,\n",
              "    <span style=\"color: #008000; text-decoration-color: #008000\">'衣服覆蓋撲滅。  0'</span>,\n",
              "    <span style=\"color: #008000; text-decoration-color: #008000\">'07 \\n004'</span>\n",
              "<span style=\"font-weight: bold\">]</span>\n",
              "</pre>\n"
            ]
          },
          "metadata": {}
        }
      ]
    },
    {
      "cell_type": "code",
      "source": [
        "text_splitter = RecursiveCharacterTextSplitter(separators=['○','X'],chunk_size=10,chunk_overlap=3)\n",
        "chunks = text_splitter.split_text(test_doc)\n",
        "pprint(chunks)"
      ],
      "metadata": {
        "colab": {
          "base_uri": "https://localhost:8080/",
          "height": 140
        },
        "id": "4oMlHYV59v6f",
        "outputId": "4942cb4f-a104-4f37-a9c9-bb7bb2eca990"
      },
      "execution_count": 16,
      "outputs": [
        {
          "output_type": "display_data",
          "data": {
            "text/plain": [
              "\u001b[1m[\u001b[0m\n",
              "    \u001b[32m'汽車法規是非題  \\n第2頁/共 36頁  \\n  \\n題號 答案 題   目  \\n分類\\n編號  \\n001  '\u001b[0m,\n",
              "    \u001b[32m'○  \\n尊重生命是駕駛道德最重要的一點，我們開車時要處處顧及行人，尤\\n其應該注意讓老弱婦孺身心障礙者優先通行。  \u001b[0m\n",
              "\u001b[32m10 \\n002  '\u001b[0m,\n",
              "    \u001b[32m'X  遵守交通法規與秩序，只算是優良駕駛人，與駕駛道德無關。  10 \\n003  '\u001b[0m,\n",
              "    \u001b[32m'○  汽油著火時，應用滅火器、泥沙或用水浸濕棉被、衣服覆蓋撲滅。  07 \\n004'\u001b[0m\n",
              "\u001b[1m]\u001b[0m\n"
            ],
            "text/html": [
              "<pre style=\"white-space:pre;overflow-x:auto;line-height:normal;font-family:Menlo,'DejaVu Sans Mono',consolas,'Courier New',monospace\"><span style=\"font-weight: bold\">[</span>\n",
              "    <span style=\"color: #008000; text-decoration-color: #008000\">'汽車法規是非題  \\n第2頁/共 36頁  \\n  \\n題號 答案 題   目  \\n分類\\n編號  \\n001  '</span>,\n",
              "    <span style=\"color: #008000; text-decoration-color: #008000\">'○  \\n尊重生命是駕駛道德最重要的一點，我們開車時要處處顧及行人，尤\\n其應該注意讓老弱婦孺身心障礙者優先通行。  </span>\n",
              "<span style=\"color: #008000; text-decoration-color: #008000\">10 \\n002  '</span>,\n",
              "    <span style=\"color: #008000; text-decoration-color: #008000\">'X  遵守交通法規與秩序，只算是優良駕駛人，與駕駛道德無關。  10 \\n003  '</span>,\n",
              "    <span style=\"color: #008000; text-decoration-color: #008000\">'○  汽油著火時，應用滅火器、泥沙或用水浸濕棉被、衣服覆蓋撲滅。  07 \\n004'</span>\n",
              "<span style=\"font-weight: bold\">]</span>\n",
              "</pre>\n"
            ]
          },
          "metadata": {}
        }
      ]
    },
    {
      "cell_type": "code",
      "source": [
        "from langchain_text_splitters import TokenTextSplitter\n",
        "text_splitter = TokenTextSplitter(chunk_size=10,\n",
        "                                  chunk_overlap=2)\n",
        "chunks = text_splitter.split_text(test_doc)\n",
        "pprint(chunks)"
      ],
      "metadata": {
        "colab": {
          "base_uri": "https://localhost:8080/",
          "height": 849
        },
        "id": "Bq3iVaqn8GCM",
        "outputId": "2fca484e-3383-48f5-e078-986308d0cb64"
      },
      "execution_count": 17,
      "outputs": [
        {
          "output_type": "display_data",
          "data": {
            "text/plain": [
              "\u001b[1m[\u001b[0m\n",
              "    \u001b[32m'汽車法規是'\u001b[0m,\n",
              "    \u001b[32m'�是非題  '\u001b[0m,\n",
              "    \u001b[32m'  \\n第2頁'\u001b[0m,\n",
              "    \u001b[32m'��/共 36頁 '\u001b[0m,\n",
              "    \u001b[32m'�  \\n  \\n題'\u001b[0m,\n",
              "    \u001b[32m'��號 答案'\u001b[0m,\n",
              "    \u001b[32m'�� 題   目'\u001b[0m,\n",
              "    \u001b[32m'��  \\n分類'\u001b[0m,\n",
              "    \u001b[32m'��\\n編號  '\u001b[0m,\n",
              "    \u001b[32m'  \\n001  ○  \\n'\u001b[0m,\n",
              "    \u001b[32m' \\n尊重生命是'\u001b[0m,\n",
              "    \u001b[32m'�是駕駛道'\u001b[0m,\n",
              "    \u001b[32m'道德最重要'\u001b[0m,\n",
              "    \u001b[32m'要的一點，'\u001b[0m,\n",
              "    \u001b[32m'��我們開�'\u001b[0m,\n",
              "    \u001b[32m'�車時要處'\u001b[0m,\n",
              "    \u001b[32m'��處顧及'\u001b[0m,\n",
              "    \u001b[32m'及行人，尤'\u001b[0m,\n",
              "    \u001b[32m'尤\\n其應該'\u001b[0m,\n",
              "    \u001b[32m'��注意讓�'\u001b[0m,\n",
              "    \u001b[32m'�老弱婦孺'\u001b[0m,\n",
              "    \u001b[32m'孺身心障�'\u001b[0m,\n",
              "    \u001b[32m'�礙者優先'\u001b[0m,\n",
              "    \u001b[32m'先通行。  10 '\u001b[0m,\n",
              "    \u001b[32m' 10 \\n002  X  遵'\u001b[0m,\n",
              "    \u001b[32m'��守交通法'\u001b[0m,\n",
              "    \u001b[32m'法規與秩�'\u001b[0m,\n",
              "    \u001b[32m'�序，只�'\u001b[0m,\n",
              "    \u001b[32m'算是優良'\u001b[0m,\n",
              "    \u001b[32m'��駕駛人�'\u001b[0m,\n",
              "    \u001b[32m'人，與駕�'\u001b[0m,\n",
              "    \u001b[32m'�駛道德無'\u001b[0m,\n",
              "    \u001b[32m'無關。  10 \\n003'\u001b[0m,\n",
              "    \u001b[32m'\\n003  ○  汽�'\u001b[0m,\n",
              "    \u001b[32m'�油著火�'\u001b[0m,\n",
              "    \u001b[32m'��時，應�'\u001b[0m,\n",
              "    \u001b[32m'�用滅火�'\u001b[0m,\n",
              "    \u001b[32m'器、泥沙�'\u001b[0m,\n",
              "    \u001b[32m'�或用水浸�'\u001b[0m,\n",
              "    \u001b[32m'�濕棉被'\u001b[0m,\n",
              "    \u001b[32m'��、衣服覆�'\u001b[0m,\n",
              "    \u001b[32m'�蓋撲滅'\u001b[0m,\n",
              "    \u001b[32m'��。  07 \\n004'\u001b[0m\n",
              "\u001b[1m]\u001b[0m\n"
            ],
            "text/html": [
              "<pre style=\"white-space:pre;overflow-x:auto;line-height:normal;font-family:Menlo,'DejaVu Sans Mono',consolas,'Courier New',monospace\"><span style=\"font-weight: bold\">[</span>\n",
              "    <span style=\"color: #008000; text-decoration-color: #008000\">'汽車法規是'</span>,\n",
              "    <span style=\"color: #008000; text-decoration-color: #008000\">'�是非題  '</span>,\n",
              "    <span style=\"color: #008000; text-decoration-color: #008000\">'  \\n第2頁'</span>,\n",
              "    <span style=\"color: #008000; text-decoration-color: #008000\">'��/共 36頁 '</span>,\n",
              "    <span style=\"color: #008000; text-decoration-color: #008000\">'�  \\n  \\n題'</span>,\n",
              "    <span style=\"color: #008000; text-decoration-color: #008000\">'��號 答案'</span>,\n",
              "    <span style=\"color: #008000; text-decoration-color: #008000\">'�� 題   目'</span>,\n",
              "    <span style=\"color: #008000; text-decoration-color: #008000\">'��  \\n分類'</span>,\n",
              "    <span style=\"color: #008000; text-decoration-color: #008000\">'��\\n編號  '</span>,\n",
              "    <span style=\"color: #008000; text-decoration-color: #008000\">'  \\n001  ○  \\n'</span>,\n",
              "    <span style=\"color: #008000; text-decoration-color: #008000\">' \\n尊重生命是'</span>,\n",
              "    <span style=\"color: #008000; text-decoration-color: #008000\">'�是駕駛道'</span>,\n",
              "    <span style=\"color: #008000; text-decoration-color: #008000\">'道德最重要'</span>,\n",
              "    <span style=\"color: #008000; text-decoration-color: #008000\">'要的一點，'</span>,\n",
              "    <span style=\"color: #008000; text-decoration-color: #008000\">'��我們開�'</span>,\n",
              "    <span style=\"color: #008000; text-decoration-color: #008000\">'�車時要處'</span>,\n",
              "    <span style=\"color: #008000; text-decoration-color: #008000\">'��處顧及'</span>,\n",
              "    <span style=\"color: #008000; text-decoration-color: #008000\">'及行人，尤'</span>,\n",
              "    <span style=\"color: #008000; text-decoration-color: #008000\">'尤\\n其應該'</span>,\n",
              "    <span style=\"color: #008000; text-decoration-color: #008000\">'��注意讓�'</span>,\n",
              "    <span style=\"color: #008000; text-decoration-color: #008000\">'�老弱婦孺'</span>,\n",
              "    <span style=\"color: #008000; text-decoration-color: #008000\">'孺身心障�'</span>,\n",
              "    <span style=\"color: #008000; text-decoration-color: #008000\">'�礙者優先'</span>,\n",
              "    <span style=\"color: #008000; text-decoration-color: #008000\">'先通行。  10 '</span>,\n",
              "    <span style=\"color: #008000; text-decoration-color: #008000\">' 10 \\n002  X  遵'</span>,\n",
              "    <span style=\"color: #008000; text-decoration-color: #008000\">'��守交通法'</span>,\n",
              "    <span style=\"color: #008000; text-decoration-color: #008000\">'法規與秩�'</span>,\n",
              "    <span style=\"color: #008000; text-decoration-color: #008000\">'�序，只�'</span>,\n",
              "    <span style=\"color: #008000; text-decoration-color: #008000\">'算是優良'</span>,\n",
              "    <span style=\"color: #008000; text-decoration-color: #008000\">'��駕駛人�'</span>,\n",
              "    <span style=\"color: #008000; text-decoration-color: #008000\">'人，與駕�'</span>,\n",
              "    <span style=\"color: #008000; text-decoration-color: #008000\">'�駛道德無'</span>,\n",
              "    <span style=\"color: #008000; text-decoration-color: #008000\">'無關。  10 \\n003'</span>,\n",
              "    <span style=\"color: #008000; text-decoration-color: #008000\">'\\n003  ○  汽�'</span>,\n",
              "    <span style=\"color: #008000; text-decoration-color: #008000\">'�油著火�'</span>,\n",
              "    <span style=\"color: #008000; text-decoration-color: #008000\">'��時，應�'</span>,\n",
              "    <span style=\"color: #008000; text-decoration-color: #008000\">'�用滅火�'</span>,\n",
              "    <span style=\"color: #008000; text-decoration-color: #008000\">'器、泥沙�'</span>,\n",
              "    <span style=\"color: #008000; text-decoration-color: #008000\">'�或用水浸�'</span>,\n",
              "    <span style=\"color: #008000; text-decoration-color: #008000\">'�濕棉被'</span>,\n",
              "    <span style=\"color: #008000; text-decoration-color: #008000\">'��、衣服覆�'</span>,\n",
              "    <span style=\"color: #008000; text-decoration-color: #008000\">'�蓋撲滅'</span>,\n",
              "    <span style=\"color: #008000; text-decoration-color: #008000\">'��。  07 \\n004'</span>\n",
              "<span style=\"font-weight: bold\">]</span>\n",
              "</pre>\n"
            ]
          },
          "metadata": {}
        }
      ]
    },
    {
      "cell_type": "code",
      "source": [
        "from langchain_text_splitters import TokenTextSplitter\n",
        "text_splitter = TokenTextSplitter(model_name='gpt-4-turbo',\n",
        "                                  chunk_size=10,\n",
        "                                  chunk_overlap=2)\n",
        "chunks = text_splitter.split_text(test_doc)\n",
        "pprint(chunks)"
      ],
      "metadata": {
        "colab": {
          "base_uri": "https://localhost:8080/",
          "height": 625
        },
        "id": "eBkfmmDzCZgC",
        "outputId": "7654e6ad-6964-44d4-c7b0-b8c6d46689ec"
      },
      "execution_count": 18,
      "outputs": [
        {
          "output_type": "display_data",
          "data": {
            "text/plain": [
              "\u001b[1m[\u001b[0m\n",
              "    \u001b[32m'汽車法規是非�'\u001b[0m,\n",
              "    \u001b[32m'非題  \\n第2頁/共'\u001b[0m,\n",
              "    \u001b[32m'/共 36頁  \\n  \\n題�'\u001b[0m,\n",
              "    \u001b[32m'�號 答案 題'\u001b[0m,\n",
              "    \u001b[32m'題   目  \\n分類\\n'\u001b[0m,\n",
              "    \u001b[32m'�\\n編號  \\n001  �'\u001b[0m,\n",
              "    \u001b[32m'  ○  \\n尊重生命是'\u001b[0m,\n",
              "    \u001b[32m'命是駕駛道�'\u001b[0m,\n",
              "    \u001b[32m'道德最重要的一點'\u001b[0m,\n",
              "    \u001b[32m'點，我們開車'\u001b[0m,\n",
              "    \u001b[32m'��時要處處顧'\u001b[0m,\n",
              "    \u001b[32m'顧及行人，尤\\n其'\u001b[0m,\n",
              "    \u001b[32m'\\n其應該注意讓'\u001b[0m,\n",
              "    \u001b[32m'讓老弱婦孺'\u001b[0m,\n",
              "    \u001b[32m'孺身心障礙者�'\u001b[0m,\n",
              "    \u001b[32m'者優先通行。  '\u001b[0m,\n",
              "    \u001b[32m'  10 \\n002  X  �'\u001b[0m,\n",
              "    \u001b[32m' 遵守交通法規'\u001b[0m,\n",
              "    \u001b[32m'規與秩序，只算'\u001b[0m,\n",
              "    \u001b[32m'只算是優良�'\u001b[0m,\n",
              "    \u001b[32m'駕駛人，與'\u001b[0m,\n",
              "    \u001b[32m'與駕駛道�'\u001b[0m,\n",
              "    \u001b[32m'道德無關。  10'\u001b[0m,\n",
              "    \u001b[32m' 10 \\n003  ○  �'\u001b[0m,\n",
              "    \u001b[32m' 汽油著火時'\u001b[0m,\n",
              "    \u001b[32m'火時，應用滅火'\u001b[0m,\n",
              "    \u001b[32m'�火器、泥沙或用'\u001b[0m,\n",
              "    \u001b[32m'或用水浸濕棉'\u001b[0m,\n",
              "    \u001b[32m'棉被、衣服覆'\u001b[0m,\n",
              "    \u001b[32m'覆蓋撲滅。'\u001b[0m,\n",
              "    \u001b[32m'�。  07 \\n004'\u001b[0m\n",
              "\u001b[1m]\u001b[0m\n"
            ],
            "text/html": [
              "<pre style=\"white-space:pre;overflow-x:auto;line-height:normal;font-family:Menlo,'DejaVu Sans Mono',consolas,'Courier New',monospace\"><span style=\"font-weight: bold\">[</span>\n",
              "    <span style=\"color: #008000; text-decoration-color: #008000\">'汽車法規是非�'</span>,\n",
              "    <span style=\"color: #008000; text-decoration-color: #008000\">'非題  \\n第2頁/共'</span>,\n",
              "    <span style=\"color: #008000; text-decoration-color: #008000\">'/共 36頁  \\n  \\n題�'</span>,\n",
              "    <span style=\"color: #008000; text-decoration-color: #008000\">'�號 答案 題'</span>,\n",
              "    <span style=\"color: #008000; text-decoration-color: #008000\">'題   目  \\n分類\\n'</span>,\n",
              "    <span style=\"color: #008000; text-decoration-color: #008000\">'�\\n編號  \\n001  �'</span>,\n",
              "    <span style=\"color: #008000; text-decoration-color: #008000\">'  ○  \\n尊重生命是'</span>,\n",
              "    <span style=\"color: #008000; text-decoration-color: #008000\">'命是駕駛道�'</span>,\n",
              "    <span style=\"color: #008000; text-decoration-color: #008000\">'道德最重要的一點'</span>,\n",
              "    <span style=\"color: #008000; text-decoration-color: #008000\">'點，我們開車'</span>,\n",
              "    <span style=\"color: #008000; text-decoration-color: #008000\">'��時要處處顧'</span>,\n",
              "    <span style=\"color: #008000; text-decoration-color: #008000\">'顧及行人，尤\\n其'</span>,\n",
              "    <span style=\"color: #008000; text-decoration-color: #008000\">'\\n其應該注意讓'</span>,\n",
              "    <span style=\"color: #008000; text-decoration-color: #008000\">'讓老弱婦孺'</span>,\n",
              "    <span style=\"color: #008000; text-decoration-color: #008000\">'孺身心障礙者�'</span>,\n",
              "    <span style=\"color: #008000; text-decoration-color: #008000\">'者優先通行。  '</span>,\n",
              "    <span style=\"color: #008000; text-decoration-color: #008000\">'  10 \\n002  X  �'</span>,\n",
              "    <span style=\"color: #008000; text-decoration-color: #008000\">' 遵守交通法規'</span>,\n",
              "    <span style=\"color: #008000; text-decoration-color: #008000\">'規與秩序，只算'</span>,\n",
              "    <span style=\"color: #008000; text-decoration-color: #008000\">'只算是優良�'</span>,\n",
              "    <span style=\"color: #008000; text-decoration-color: #008000\">'駕駛人，與'</span>,\n",
              "    <span style=\"color: #008000; text-decoration-color: #008000\">'與駕駛道�'</span>,\n",
              "    <span style=\"color: #008000; text-decoration-color: #008000\">'道德無關。  10'</span>,\n",
              "    <span style=\"color: #008000; text-decoration-color: #008000\">' 10 \\n003  ○  �'</span>,\n",
              "    <span style=\"color: #008000; text-decoration-color: #008000\">' 汽油著火時'</span>,\n",
              "    <span style=\"color: #008000; text-decoration-color: #008000\">'火時，應用滅火'</span>,\n",
              "    <span style=\"color: #008000; text-decoration-color: #008000\">'�火器、泥沙或用'</span>,\n",
              "    <span style=\"color: #008000; text-decoration-color: #008000\">'或用水浸濕棉'</span>,\n",
              "    <span style=\"color: #008000; text-decoration-color: #008000\">'棉被、衣服覆'</span>,\n",
              "    <span style=\"color: #008000; text-decoration-color: #008000\">'覆蓋撲滅。'</span>,\n",
              "    <span style=\"color: #008000; text-decoration-color: #008000\">'�。  07 \\n004'</span>\n",
              "<span style=\"font-weight: bold\">]</span>\n",
              "</pre>\n"
            ]
          },
          "metadata": {}
        }
      ]
    },
    {
      "cell_type": "code",
      "source": [
        "text_splitter = RecursiveCharacterTextSplitter(separators=[' \\n'],\n",
        "                                               chunk_size=10,\n",
        "                                               chunk_overlap=2)\n",
        "chunks = text_splitter.split_documents(docs)\n",
        "pprint(chunks[15:20])"
      ],
      "metadata": {
        "colab": {
          "base_uri": "https://localhost:8080/",
          "height": 204
        },
        "id": "zo9kH5p7Cylc",
        "outputId": "e16547c3-ffbc-4d01-9efe-013f6888ba08"
      },
      "execution_count": 19,
      "outputs": [
        {
          "output_type": "display_data",
          "data": {
            "text/plain": [
              "\u001b[1m[\u001b[0m\n",
              "    \u001b[1;35mDocument\u001b[0m\u001b[1m(\u001b[0m\u001b[33mmetadata\u001b[0m=\u001b[1m{\u001b[0m\u001b[32m'source'\u001b[0m: \u001b[32m'https://ppt.cc/f9nc5x'\u001b[0m, \u001b[32m'page'\u001b[0m: \u001b[1;36m1\u001b[0m\u001b[1m}\u001b[0m, \u001b[33mpage_content\u001b[0m=\u001b[32m' \\n第2頁/共 36頁 '\u001b[0m\u001b[1m)\u001b[0m,\n",
              "    \u001b[1;35mDocument\u001b[0m\u001b[1m(\u001b[0m\u001b[33mmetadata\u001b[0m=\u001b[1m{\u001b[0m\u001b[32m'source'\u001b[0m: \u001b[32m'https://ppt.cc/f9nc5x'\u001b[0m, \u001b[32m'page'\u001b[0m: \u001b[1;36m1\u001b[0m\u001b[1m}\u001b[0m, \u001b[33mpage_content\u001b[0m=\u001b[32m' \\n題號 答案 題   目 '\u001b[0m\u001b[1m)\u001b[0m,\n",
              "    \u001b[1;35mDocument\u001b[0m\u001b[1m(\u001b[0m\u001b[33mmetadata\u001b[0m=\u001b[1m{\u001b[0m\u001b[32m'source'\u001b[0m: \u001b[32m'https://ppt.cc/f9nc5x'\u001b[0m, \u001b[32m'page'\u001b[0m: \u001b[1;36m1\u001b[0m\u001b[1m}\u001b[0m, \u001b[33mpage_content\u001b[0m=\u001b[32m'分類\\n編號'\u001b[0m\u001b[1m)\u001b[0m,\n",
              "    \u001b[1;35mDocument\u001b[0m\u001b[1m(\u001b[0m\u001b[33mmetadata\u001b[0m=\u001b[1m{\u001b[0m\u001b[32m'source'\u001b[0m: \u001b[32m'https://ppt.cc/f9nc5x'\u001b[0m, \u001b[32m'page'\u001b[0m: \u001b[1;36m1\u001b[0m\u001b[1m}\u001b[0m, \u001b[33mpage_content\u001b[0m=\u001b[32m'001  ○'\u001b[0m\u001b[1m)\u001b[0m,\n",
              "    \u001b[1;35mDocument\u001b[0m\u001b[1m(\u001b[0m\n",
              "        \u001b[33mmetadata\u001b[0m=\u001b[1m{\u001b[0m\u001b[32m'source'\u001b[0m: \u001b[32m'https://ppt.cc/f9nc5x'\u001b[0m, \u001b[32m'page'\u001b[0m: \u001b[1;36m1\u001b[0m\u001b[1m}\u001b[0m,\n",
              "        \u001b[33mpage_content\u001b[0m=\u001b[32m' \u001b[0m\n",
              "\u001b[32m\\n尊重生命是駕駛道德最重要的一點，我們開車時要處處顧及行人，尤\\n其應該注意讓老弱婦孺身心障礙者優先通行。  10'\u001b[0m\n",
              "    \u001b[1m)\u001b[0m\n",
              "\u001b[1m]\u001b[0m\n"
            ],
            "text/html": [
              "<pre style=\"white-space:pre;overflow-x:auto;line-height:normal;font-family:Menlo,'DejaVu Sans Mono',consolas,'Courier New',monospace\"><span style=\"font-weight: bold\">[</span>\n",
              "    <span style=\"color: #800080; text-decoration-color: #800080; font-weight: bold\">Document</span><span style=\"font-weight: bold\">(</span><span style=\"color: #808000; text-decoration-color: #808000\">metadata</span>=<span style=\"font-weight: bold\">{</span><span style=\"color: #008000; text-decoration-color: #008000\">'source'</span>: <span style=\"color: #008000; text-decoration-color: #008000\">'https://ppt.cc/f9nc5x'</span>, <span style=\"color: #008000; text-decoration-color: #008000\">'page'</span>: <span style=\"color: #008080; text-decoration-color: #008080; font-weight: bold\">1</span><span style=\"font-weight: bold\">}</span>, <span style=\"color: #808000; text-decoration-color: #808000\">page_content</span>=<span style=\"color: #008000; text-decoration-color: #008000\">' \\n第2頁/共 36頁 '</span><span style=\"font-weight: bold\">)</span>,\n",
              "    <span style=\"color: #800080; text-decoration-color: #800080; font-weight: bold\">Document</span><span style=\"font-weight: bold\">(</span><span style=\"color: #808000; text-decoration-color: #808000\">metadata</span>=<span style=\"font-weight: bold\">{</span><span style=\"color: #008000; text-decoration-color: #008000\">'source'</span>: <span style=\"color: #008000; text-decoration-color: #008000\">'https://ppt.cc/f9nc5x'</span>, <span style=\"color: #008000; text-decoration-color: #008000\">'page'</span>: <span style=\"color: #008080; text-decoration-color: #008080; font-weight: bold\">1</span><span style=\"font-weight: bold\">}</span>, <span style=\"color: #808000; text-decoration-color: #808000\">page_content</span>=<span style=\"color: #008000; text-decoration-color: #008000\">' \\n題號 答案 題   目 '</span><span style=\"font-weight: bold\">)</span>,\n",
              "    <span style=\"color: #800080; text-decoration-color: #800080; font-weight: bold\">Document</span><span style=\"font-weight: bold\">(</span><span style=\"color: #808000; text-decoration-color: #808000\">metadata</span>=<span style=\"font-weight: bold\">{</span><span style=\"color: #008000; text-decoration-color: #008000\">'source'</span>: <span style=\"color: #008000; text-decoration-color: #008000\">'https://ppt.cc/f9nc5x'</span>, <span style=\"color: #008000; text-decoration-color: #008000\">'page'</span>: <span style=\"color: #008080; text-decoration-color: #008080; font-weight: bold\">1</span><span style=\"font-weight: bold\">}</span>, <span style=\"color: #808000; text-decoration-color: #808000\">page_content</span>=<span style=\"color: #008000; text-decoration-color: #008000\">'分類\\n編號'</span><span style=\"font-weight: bold\">)</span>,\n",
              "    <span style=\"color: #800080; text-decoration-color: #800080; font-weight: bold\">Document</span><span style=\"font-weight: bold\">(</span><span style=\"color: #808000; text-decoration-color: #808000\">metadata</span>=<span style=\"font-weight: bold\">{</span><span style=\"color: #008000; text-decoration-color: #008000\">'source'</span>: <span style=\"color: #008000; text-decoration-color: #008000\">'https://ppt.cc/f9nc5x'</span>, <span style=\"color: #008000; text-decoration-color: #008000\">'page'</span>: <span style=\"color: #008080; text-decoration-color: #008080; font-weight: bold\">1</span><span style=\"font-weight: bold\">}</span>, <span style=\"color: #808000; text-decoration-color: #808000\">page_content</span>=<span style=\"color: #008000; text-decoration-color: #008000\">'001  ○'</span><span style=\"font-weight: bold\">)</span>,\n",
              "    <span style=\"color: #800080; text-decoration-color: #800080; font-weight: bold\">Document</span><span style=\"font-weight: bold\">(</span>\n",
              "        <span style=\"color: #808000; text-decoration-color: #808000\">metadata</span>=<span style=\"font-weight: bold\">{</span><span style=\"color: #008000; text-decoration-color: #008000\">'source'</span>: <span style=\"color: #008000; text-decoration-color: #008000\">'https://ppt.cc/f9nc5x'</span>, <span style=\"color: #008000; text-decoration-color: #008000\">'page'</span>: <span style=\"color: #008080; text-decoration-color: #008080; font-weight: bold\">1</span><span style=\"font-weight: bold\">}</span>,\n",
              "        <span style=\"color: #808000; text-decoration-color: #808000\">page_content</span>=<span style=\"color: #008000; text-decoration-color: #008000\">' </span>\n",
              "<span style=\"color: #008000; text-decoration-color: #008000\">\\n尊重生命是駕駛道德最重要的一點，我們開車時要處處顧及行人，尤\\n其應該注意讓老弱婦孺身心障礙者優先通行。  10'</span>\n",
              "    <span style=\"font-weight: bold\">)</span>\n",
              "<span style=\"font-weight: bold\">]</span>\n",
              "</pre>\n"
            ]
          },
          "metadata": {}
        }
      ]
    },
    {
      "cell_type": "markdown",
      "source": [
        "## 7-2 Embedding 向量化"
      ],
      "metadata": {
        "id": "lzcWd_kF1KBW"
      }
    },
    {
      "cell_type": "markdown",
      "source": [
        "### RAG 第三步：文字轉向量"
      ],
      "metadata": {
        "id": "5Kc7JVYk-yJY"
      }
    },
    {
      "cell_type": "code",
      "source": [
        "embeddings_doc = [\n",
        "    \"天空是藍色的\",\n",
        "    \"天空不是紅色的\",\n",
        "    \"sky is blue\",\n",
        "    \"莓果是藍色的\",\n",
        "    \"我今天吃了漢堡\"\n",
        "]\n",
        "embeddings = embeddings_model.embed_documents(embeddings_doc)\n",
        "len(embeddings[0])"
      ],
      "metadata": {
        "colab": {
          "base_uri": "https://localhost:8080/"
        },
        "id": "5fkh_i6Uql2q",
        "outputId": "76e0e291-b5e7-4c21-f5da-bcc30e26fe01"
      },
      "execution_count": 20,
      "outputs": [
        {
          "output_type": "execute_result",
          "data": {
            "text/plain": [
              "3072"
            ]
          },
          "metadata": {},
          "execution_count": 20
        }
      ]
    },
    {
      "cell_type": "code",
      "source": [
        "query = \"天空的顏色是？\"\n",
        "embedded_query = embeddings_model.embed_query(query)"
      ],
      "metadata": {
        "id": "clkhjXcir5sS"
      },
      "execution_count": 21,
      "outputs": []
    },
    {
      "cell_type": "markdown",
      "source": [
        "餘弦相似度"
      ],
      "metadata": {
        "id": "8hQ9UIXHCYPW"
      }
    },
    {
      "cell_type": "code",
      "source": [
        "import numpy as np\n",
        "def cosine_similarity(a, b):\n",
        "    return np.dot(a, b)"
      ],
      "metadata": {
        "id": "2SLR8F6usBqn"
      },
      "execution_count": 22,
      "outputs": []
    },
    {
      "cell_type": "code",
      "source": [
        "for doc_res, doc in zip(embeddings, embeddings_doc):\n",
        "    similarity = cosine_similarity(embedded_query,doc_res)\n",
        "    print(f'\"{doc}\" 與問題的相似度：{similarity}')"
      ],
      "metadata": {
        "colab": {
          "base_uri": "https://localhost:8080/"
        },
        "id": "NP7l3XNAzNHO",
        "outputId": "cd6d7ebc-9ca1-4469-8b82-73e310f80b7e"
      },
      "execution_count": 23,
      "outputs": [
        {
          "output_type": "stream",
          "name": "stdout",
          "text": [
            "\"天空是藍色的\" 與問題的相似度：0.750690576104704\n",
            "\"天空不是紅色的\" 與問題的相似度：0.6954274413696448\n",
            "\"sky is blue\" 與問題的相似度：0.5886609903775393\n",
            "\"莓果是藍色的\" 與問題的相似度：0.3678271743679623\n",
            "\"我今天吃了漢堡\" 與問題的相似度：0.08472869956688046\n"
          ]
        }
      ]
    },
    {
      "cell_type": "markdown",
      "source": [
        "### RAG 第四步：儲存到向量資料庫 Chroma"
      ],
      "metadata": {
        "id": "E3k7_z5R-5Yu"
      }
    },
    {
      "cell_type": "code",
      "source": [
        "from google.colab import drive\n",
        "drive.mount('/content/drive')"
      ],
      "metadata": {
        "colab": {
          "base_uri": "https://localhost:8080/"
        },
        "id": "W1ewfrqpxHlr",
        "outputId": "55c402ce-966e-477f-f85e-f685d9c7430e"
      },
      "execution_count": 24,
      "outputs": [
        {
          "output_type": "stream",
          "name": "stdout",
          "text": [
            "Mounted at /content/drive\n"
          ]
        }
      ]
    },
    {
      "cell_type": "code",
      "source": [
        "from langchain_community.vectorstores import Chroma\n",
        "Chroma.from_documents(documents=chunks,\n",
        "                embedding=embeddings_model,\n",
        "                persist_directory='/content/drive/MyDrive/db',\n",
        "                collection_metadata={\"hnsw:space\": \"cosine\"})"
      ],
      "metadata": {
        "id": "zm97vHL9ywbP",
        "outputId": "968f5fdd-876c-4390-ea68-87f9314a2114",
        "colab": {
          "base_uri": "https://localhost:8080/"
        }
      },
      "execution_count": 25,
      "outputs": [
        {
          "output_type": "execute_result",
          "data": {
            "text/plain": [
              "<langchain_community.vectorstores.chroma.Chroma at 0x784a3e346620>"
            ]
          },
          "metadata": {},
          "execution_count": 25
        }
      ]
    },
    {
      "cell_type": "markdown",
      "source": [
        "hnsw:space 有 l2、ip、cosine"
      ],
      "metadata": {
        "id": "OhGPDqKnb3gH"
      }
    },
    {
      "cell_type": "code",
      "source": [
        "db = Chroma(persist_directory='/content/drive/MyDrive/db',\n",
        "            embedding_function=embeddings_model)"
      ],
      "metadata": {
        "id": "4fqm2f9V5nSi",
        "outputId": "2d8b1aab-4d20-43a1-ee83-e16294818c3f",
        "colab": {
          "base_uri": "https://localhost:8080/"
        }
      },
      "execution_count": 26,
      "outputs": [
        {
          "output_type": "stream",
          "name": "stderr",
          "text": [
            "<ipython-input-26-7ab32535ab52>:1: LangChainDeprecationWarning: The class `Chroma` was deprecated in LangChain 0.2.9 and will be removed in 1.0. An updated version of the class exists in the :class:`~langchain-chroma package and should be used instead. To use it run `pip install -U :class:`~langchain-chroma` and import as `from :class:`~langchain_chroma import Chroma``.\n",
            "  db = Chroma(persist_directory='/content/drive/MyDrive/db',\n"
          ]
        }
      ]
    },
    {
      "cell_type": "code",
      "source": [
        "pprint(db.search('紅燈右轉', k=2, search_type='similarity'))"
      ],
      "metadata": {
        "id": "sCK5k0DkwwZP",
        "outputId": "cbbcb7d6-c139-4347-8f10-e8eb5abbb76c",
        "colab": {
          "base_uri": "https://localhost:8080/",
          "height": 201
        }
      },
      "execution_count": 27,
      "outputs": [
        {
          "output_type": "display_data",
          "data": {
            "text/plain": [
              "\u001b[1m[\u001b[0m\n",
              "    \u001b[1;35mDocument\u001b[0m\u001b[1m(\u001b[0m\n",
              "        \u001b[33mmetadata\u001b[0m=\u001b[1m{\u001b[0m\u001b[32m'page'\u001b[0m: \u001b[1;36m12\u001b[0m, \u001b[32m'source'\u001b[0m: \u001b[32m'https://ppt.cc/f9nc5x'\u001b[0m\u001b[1m}\u001b[0m,\n",
              "        \u001b[33mpage_content\u001b[0m=\u001b[32m' \\n汽車行駛至交岔路口，欲右轉彎時，應距交岔路口 30 \u001b[0m\n",
              "\u001b[32m公尺前，顯示\\n方向燈或手勢，換入外側車道、右轉車道或慢車道，行至路口後再行\\n右轉。 '\u001b[0m\n",
              "    \u001b[1m)\u001b[0m,\n",
              "    \u001b[1;35mDocument\u001b[0m\u001b[1m(\u001b[0m\n",
              "        \u001b[33mmetadata\u001b[0m=\u001b[1m{\u001b[0m\u001b[32m'page'\u001b[0m: \u001b[1;36m24\u001b[0m, \u001b[32m'source'\u001b[0m: \u001b[32m'https://ppt.cc/f9nc5x'\u001b[0m\u001b[1m}\u001b[0m,\n",
              "        \u001b[33mpage_content\u001b[0m=\u001b[32m' \\n447  X  在交岔路口等候左轉之車輛，綠燈亮時即可搶先左轉。  02'\u001b[0m\n",
              "    \u001b[1m)\u001b[0m\n",
              "\u001b[1m]\u001b[0m\n"
            ],
            "text/html": [
              "<pre style=\"white-space:pre;overflow-x:auto;line-height:normal;font-family:Menlo,'DejaVu Sans Mono',consolas,'Courier New',monospace\"><span style=\"font-weight: bold\">[</span>\n",
              "    <span style=\"color: #800080; text-decoration-color: #800080; font-weight: bold\">Document</span><span style=\"font-weight: bold\">(</span>\n",
              "        <span style=\"color: #808000; text-decoration-color: #808000\">metadata</span>=<span style=\"font-weight: bold\">{</span><span style=\"color: #008000; text-decoration-color: #008000\">'page'</span>: <span style=\"color: #008080; text-decoration-color: #008080; font-weight: bold\">12</span>, <span style=\"color: #008000; text-decoration-color: #008000\">'source'</span>: <span style=\"color: #008000; text-decoration-color: #008000\">'https://ppt.cc/f9nc5x'</span><span style=\"font-weight: bold\">}</span>,\n",
              "        <span style=\"color: #808000; text-decoration-color: #808000\">page_content</span>=<span style=\"color: #008000; text-decoration-color: #008000\">' \\n汽車行駛至交岔路口，欲右轉彎時，應距交岔路口 30 </span>\n",
              "<span style=\"color: #008000; text-decoration-color: #008000\">公尺前，顯示\\n方向燈或手勢，換入外側車道、右轉車道或慢車道，行至路口後再行\\n右轉。 '</span>\n",
              "    <span style=\"font-weight: bold\">)</span>,\n",
              "    <span style=\"color: #800080; text-decoration-color: #800080; font-weight: bold\">Document</span><span style=\"font-weight: bold\">(</span>\n",
              "        <span style=\"color: #808000; text-decoration-color: #808000\">metadata</span>=<span style=\"font-weight: bold\">{</span><span style=\"color: #008000; text-decoration-color: #008000\">'page'</span>: <span style=\"color: #008080; text-decoration-color: #008080; font-weight: bold\">24</span>, <span style=\"color: #008000; text-decoration-color: #008000\">'source'</span>: <span style=\"color: #008000; text-decoration-color: #008000\">'https://ppt.cc/f9nc5x'</span><span style=\"font-weight: bold\">}</span>,\n",
              "        <span style=\"color: #808000; text-decoration-color: #808000\">page_content</span>=<span style=\"color: #008000; text-decoration-color: #008000\">' \\n447  X  在交岔路口等候左轉之車輛，綠燈亮時即可搶先左轉。  02'</span>\n",
              "    <span style=\"font-weight: bold\">)</span>\n",
              "<span style=\"font-weight: bold\">]</span>\n",
              "</pre>\n"
            ]
          },
          "metadata": {}
        }
      ]
    },
    {
      "cell_type": "code",
      "source": [
        "pprint(db.max_marginal_relevance_search(\"紅燈右轉\",k=2))"
      ],
      "metadata": {
        "id": "5Ui44Xegw7cR",
        "outputId": "1d79b11a-7d8d-4eb5-f8ff-f6ce50c5daf3",
        "colab": {
          "base_uri": "https://localhost:8080/",
          "height": 201
        }
      },
      "execution_count": 28,
      "outputs": [
        {
          "output_type": "display_data",
          "data": {
            "text/plain": [
              "\u001b[1m[\u001b[0m\n",
              "    \u001b[1;35mDocument\u001b[0m\u001b[1m(\u001b[0m\n",
              "        \u001b[33mmetadata\u001b[0m=\u001b[1m{\u001b[0m\u001b[32m'page'\u001b[0m: \u001b[1;36m12\u001b[0m, \u001b[32m'source'\u001b[0m: \u001b[32m'https://ppt.cc/f9nc5x'\u001b[0m\u001b[1m}\u001b[0m,\n",
              "        \u001b[33mpage_content\u001b[0m=\u001b[32m' \\n汽車行駛至交岔路口，欲右轉彎時，應距交岔路口 30 \u001b[0m\n",
              "\u001b[32m公尺前，顯示\\n方向燈或手勢，換入外側車道、右轉車道或慢車道，行至路口後再行\\n右轉。 '\u001b[0m\n",
              "    \u001b[1m)\u001b[0m,\n",
              "    \u001b[1;35mDocument\u001b[0m\u001b[1m(\u001b[0m\n",
              "        \u001b[33mmetadata\u001b[0m=\u001b[1m{\u001b[0m\u001b[32m'page'\u001b[0m: \u001b[1;36m1\u001b[0m, \u001b[32m'source'\u001b[0m: \u001b[32m'https://ppt.cc/f9nc5x'\u001b[0m\u001b[1m}\u001b[0m,\n",
              "        \u001b[33mpage_content\u001b[0m=\u001b[32m' \\n006  ○  綠燈允許你依序通過，但駕駛人仍應注意違規闖紅燈的人和車。  01'\u001b[0m\n",
              "    \u001b[1m)\u001b[0m\n",
              "\u001b[1m]\u001b[0m\n"
            ],
            "text/html": [
              "<pre style=\"white-space:pre;overflow-x:auto;line-height:normal;font-family:Menlo,'DejaVu Sans Mono',consolas,'Courier New',monospace\"><span style=\"font-weight: bold\">[</span>\n",
              "    <span style=\"color: #800080; text-decoration-color: #800080; font-weight: bold\">Document</span><span style=\"font-weight: bold\">(</span>\n",
              "        <span style=\"color: #808000; text-decoration-color: #808000\">metadata</span>=<span style=\"font-weight: bold\">{</span><span style=\"color: #008000; text-decoration-color: #008000\">'page'</span>: <span style=\"color: #008080; text-decoration-color: #008080; font-weight: bold\">12</span>, <span style=\"color: #008000; text-decoration-color: #008000\">'source'</span>: <span style=\"color: #008000; text-decoration-color: #008000\">'https://ppt.cc/f9nc5x'</span><span style=\"font-weight: bold\">}</span>,\n",
              "        <span style=\"color: #808000; text-decoration-color: #808000\">page_content</span>=<span style=\"color: #008000; text-decoration-color: #008000\">' \\n汽車行駛至交岔路口，欲右轉彎時，應距交岔路口 30 </span>\n",
              "<span style=\"color: #008000; text-decoration-color: #008000\">公尺前，顯示\\n方向燈或手勢，換入外側車道、右轉車道或慢車道，行至路口後再行\\n右轉。 '</span>\n",
              "    <span style=\"font-weight: bold\">)</span>,\n",
              "    <span style=\"color: #800080; text-decoration-color: #800080; font-weight: bold\">Document</span><span style=\"font-weight: bold\">(</span>\n",
              "        <span style=\"color: #808000; text-decoration-color: #808000\">metadata</span>=<span style=\"font-weight: bold\">{</span><span style=\"color: #008000; text-decoration-color: #008000\">'page'</span>: <span style=\"color: #008080; text-decoration-color: #008080; font-weight: bold\">1</span>, <span style=\"color: #008000; text-decoration-color: #008000\">'source'</span>: <span style=\"color: #008000; text-decoration-color: #008000\">'https://ppt.cc/f9nc5x'</span><span style=\"font-weight: bold\">}</span>,\n",
              "        <span style=\"color: #808000; text-decoration-color: #808000\">page_content</span>=<span style=\"color: #008000; text-decoration-color: #008000\">' \\n006  ○  綠燈允許你依序通過，但駕駛人仍應注意違規闖紅燈的人和車。  01'</span>\n",
              "    <span style=\"font-weight: bold\">)</span>\n",
              "<span style=\"font-weight: bold\">]</span>\n",
              "</pre>\n"
            ]
          },
          "metadata": {}
        }
      ]
    },
    {
      "cell_type": "code",
      "source": [
        "pprint(db.similarity_search_with_relevance_scores('紅燈右轉',k=2))"
      ],
      "metadata": {
        "id": "_ye-yx0Dv5iX",
        "outputId": "d6d20488-8a22-450a-b9c6-4b7e1d96b8e1",
        "colab": {
          "base_uri": "https://localhost:8080/",
          "height": 297
        }
      },
      "execution_count": 29,
      "outputs": [
        {
          "output_type": "display_data",
          "data": {
            "text/plain": [
              "\u001b[1m[\u001b[0m\n",
              "    \u001b[1m(\u001b[0m\n",
              "        \u001b[1;35mDocument\u001b[0m\u001b[1m(\u001b[0m\n",
              "            \u001b[33mmetadata\u001b[0m=\u001b[1m{\u001b[0m\u001b[32m'page'\u001b[0m: \u001b[1;36m12\u001b[0m, \u001b[32m'source'\u001b[0m: \u001b[32m'https://ppt.cc/f9nc5x'\u001b[0m\u001b[1m}\u001b[0m,\n",
              "            \u001b[33mpage_content\u001b[0m=\u001b[32m' \\n汽車行駛至交岔路口，欲右轉彎時，應距交岔路口 30 \u001b[0m\n",
              "\u001b[32m公尺前，顯示\\n方向燈或手勢，換入外側車道、右轉車道或慢車道，行至路口後再行\\n右轉。 '\u001b[0m\n",
              "        \u001b[1m)\u001b[0m,\n",
              "        \u001b[1;36m0.6080599427223206\u001b[0m\n",
              "    \u001b[1m)\u001b[0m,\n",
              "    \u001b[1m(\u001b[0m\n",
              "        \u001b[1;35mDocument\u001b[0m\u001b[1m(\u001b[0m\n",
              "            \u001b[33mmetadata\u001b[0m=\u001b[1m{\u001b[0m\u001b[32m'page'\u001b[0m: \u001b[1;36m24\u001b[0m, \u001b[32m'source'\u001b[0m: \u001b[32m'https://ppt.cc/f9nc5x'\u001b[0m\u001b[1m}\u001b[0m,\n",
              "            \u001b[33mpage_content\u001b[0m=\u001b[32m' \\n447  X  在交岔路口等候左轉之車輛，綠燈亮時即可搶先左轉。  02'\u001b[0m\n",
              "        \u001b[1m)\u001b[0m,\n",
              "        \u001b[1;36m0.5934140682220459\u001b[0m\n",
              "    \u001b[1m)\u001b[0m\n",
              "\u001b[1m]\u001b[0m\n"
            ],
            "text/html": [
              "<pre style=\"white-space:pre;overflow-x:auto;line-height:normal;font-family:Menlo,'DejaVu Sans Mono',consolas,'Courier New',monospace\"><span style=\"font-weight: bold\">[</span>\n",
              "    <span style=\"font-weight: bold\">(</span>\n",
              "        <span style=\"color: #800080; text-decoration-color: #800080; font-weight: bold\">Document</span><span style=\"font-weight: bold\">(</span>\n",
              "            <span style=\"color: #808000; text-decoration-color: #808000\">metadata</span>=<span style=\"font-weight: bold\">{</span><span style=\"color: #008000; text-decoration-color: #008000\">'page'</span>: <span style=\"color: #008080; text-decoration-color: #008080; font-weight: bold\">12</span>, <span style=\"color: #008000; text-decoration-color: #008000\">'source'</span>: <span style=\"color: #008000; text-decoration-color: #008000\">'https://ppt.cc/f9nc5x'</span><span style=\"font-weight: bold\">}</span>,\n",
              "            <span style=\"color: #808000; text-decoration-color: #808000\">page_content</span>=<span style=\"color: #008000; text-decoration-color: #008000\">' \\n汽車行駛至交岔路口，欲右轉彎時，應距交岔路口 30 </span>\n",
              "<span style=\"color: #008000; text-decoration-color: #008000\">公尺前，顯示\\n方向燈或手勢，換入外側車道、右轉車道或慢車道，行至路口後再行\\n右轉。 '</span>\n",
              "        <span style=\"font-weight: bold\">)</span>,\n",
              "        <span style=\"color: #008080; text-decoration-color: #008080; font-weight: bold\">0.6080599427223206</span>\n",
              "    <span style=\"font-weight: bold\">)</span>,\n",
              "    <span style=\"font-weight: bold\">(</span>\n",
              "        <span style=\"color: #800080; text-decoration-color: #800080; font-weight: bold\">Document</span><span style=\"font-weight: bold\">(</span>\n",
              "            <span style=\"color: #808000; text-decoration-color: #808000\">metadata</span>=<span style=\"font-weight: bold\">{</span><span style=\"color: #008000; text-decoration-color: #008000\">'page'</span>: <span style=\"color: #008080; text-decoration-color: #008080; font-weight: bold\">24</span>, <span style=\"color: #008000; text-decoration-color: #008000\">'source'</span>: <span style=\"color: #008000; text-decoration-color: #008000\">'https://ppt.cc/f9nc5x'</span><span style=\"font-weight: bold\">}</span>,\n",
              "            <span style=\"color: #808000; text-decoration-color: #808000\">page_content</span>=<span style=\"color: #008000; text-decoration-color: #008000\">' \\n447  X  在交岔路口等候左轉之車輛，綠燈亮時即可搶先左轉。  02'</span>\n",
              "        <span style=\"font-weight: bold\">)</span>,\n",
              "        <span style=\"color: #008080; text-decoration-color: #008080; font-weight: bold\">0.5934140682220459</span>\n",
              "    <span style=\"font-weight: bold\">)</span>\n",
              "<span style=\"font-weight: bold\">]</span>\n",
              "</pre>\n"
            ]
          },
          "metadata": {}
        }
      ]
    },
    {
      "cell_type": "code",
      "source": [
        "embedded_query = embeddings_model.embed_query(\"紅燈右轉\")\n",
        "pprint(db.similarity_search_by_vector(embedded_query ,k=2))"
      ],
      "metadata": {
        "id": "Z5CrfzG7wbPF",
        "outputId": "9d0d0c20-a331-4199-bf07-9c1b4283ec7c",
        "colab": {
          "base_uri": "https://localhost:8080/",
          "height": 201
        }
      },
      "execution_count": 30,
      "outputs": [
        {
          "output_type": "display_data",
          "data": {
            "text/plain": [
              "\u001b[1m[\u001b[0m\n",
              "    \u001b[1;35mDocument\u001b[0m\u001b[1m(\u001b[0m\n",
              "        \u001b[33mmetadata\u001b[0m=\u001b[1m{\u001b[0m\u001b[32m'page'\u001b[0m: \u001b[1;36m12\u001b[0m, \u001b[32m'source'\u001b[0m: \u001b[32m'https://ppt.cc/f9nc5x'\u001b[0m\u001b[1m}\u001b[0m,\n",
              "        \u001b[33mpage_content\u001b[0m=\u001b[32m' \\n汽車行駛至交岔路口，欲右轉彎時，應距交岔路口 30 \u001b[0m\n",
              "\u001b[32m公尺前，顯示\\n方向燈或手勢，換入外側車道、右轉車道或慢車道，行至路口後再行\\n右轉。 '\u001b[0m\n",
              "    \u001b[1m)\u001b[0m,\n",
              "    \u001b[1;35mDocument\u001b[0m\u001b[1m(\u001b[0m\n",
              "        \u001b[33mmetadata\u001b[0m=\u001b[1m{\u001b[0m\u001b[32m'page'\u001b[0m: \u001b[1;36m24\u001b[0m, \u001b[32m'source'\u001b[0m: \u001b[32m'https://ppt.cc/f9nc5x'\u001b[0m\u001b[1m}\u001b[0m,\n",
              "        \u001b[33mpage_content\u001b[0m=\u001b[32m' \\n447  X  在交岔路口等候左轉之車輛，綠燈亮時即可搶先左轉。  02'\u001b[0m\n",
              "    \u001b[1m)\u001b[0m\n",
              "\u001b[1m]\u001b[0m\n"
            ],
            "text/html": [
              "<pre style=\"white-space:pre;overflow-x:auto;line-height:normal;font-family:Menlo,'DejaVu Sans Mono',consolas,'Courier New',monospace\"><span style=\"font-weight: bold\">[</span>\n",
              "    <span style=\"color: #800080; text-decoration-color: #800080; font-weight: bold\">Document</span><span style=\"font-weight: bold\">(</span>\n",
              "        <span style=\"color: #808000; text-decoration-color: #808000\">metadata</span>=<span style=\"font-weight: bold\">{</span><span style=\"color: #008000; text-decoration-color: #008000\">'page'</span>: <span style=\"color: #008080; text-decoration-color: #008080; font-weight: bold\">12</span>, <span style=\"color: #008000; text-decoration-color: #008000\">'source'</span>: <span style=\"color: #008000; text-decoration-color: #008000\">'https://ppt.cc/f9nc5x'</span><span style=\"font-weight: bold\">}</span>,\n",
              "        <span style=\"color: #808000; text-decoration-color: #808000\">page_content</span>=<span style=\"color: #008000; text-decoration-color: #008000\">' \\n汽車行駛至交岔路口，欲右轉彎時，應距交岔路口 30 </span>\n",
              "<span style=\"color: #008000; text-decoration-color: #008000\">公尺前，顯示\\n方向燈或手勢，換入外側車道、右轉車道或慢車道，行至路口後再行\\n右轉。 '</span>\n",
              "    <span style=\"font-weight: bold\">)</span>,\n",
              "    <span style=\"color: #800080; text-decoration-color: #800080; font-weight: bold\">Document</span><span style=\"font-weight: bold\">(</span>\n",
              "        <span style=\"color: #808000; text-decoration-color: #808000\">metadata</span>=<span style=\"font-weight: bold\">{</span><span style=\"color: #008000; text-decoration-color: #008000\">'page'</span>: <span style=\"color: #008080; text-decoration-color: #008080; font-weight: bold\">24</span>, <span style=\"color: #008000; text-decoration-color: #008000\">'source'</span>: <span style=\"color: #008000; text-decoration-color: #008000\">'https://ppt.cc/f9nc5x'</span><span style=\"font-weight: bold\">}</span>,\n",
              "        <span style=\"color: #808000; text-decoration-color: #808000\">page_content</span>=<span style=\"color: #008000; text-decoration-color: #008000\">' \\n447  X  在交岔路口等候左轉之車輛，綠燈亮時即可搶先左轉。  02'</span>\n",
              "    <span style=\"font-weight: bold\">)</span>\n",
              "<span style=\"font-weight: bold\">]</span>\n",
              "</pre>\n"
            ]
          },
          "metadata": {}
        }
      ]
    },
    {
      "cell_type": "markdown",
      "source": [
        "## 7-3 檢索對話流程鏈"
      ],
      "metadata": {
        "id": "Ax3fufIYfqL9"
      }
    },
    {
      "cell_type": "markdown",
      "source": [
        "檢索器的search_type可以設定 similarity、mmr、similarity_score_threshold"
      ],
      "metadata": {
        "id": "Ml0dfA52tXnm"
      }
    },
    {
      "cell_type": "code",
      "source": [
        "retriever = db.as_retriever(search_type=\"similarity\",\n",
        "                            search_kwargs={\"k\": 6})"
      ],
      "metadata": {
        "id": "U5pqWEQYvzzt"
      },
      "execution_count": 31,
      "outputs": []
    },
    {
      "cell_type": "code",
      "source": [
        "retrieved_docs = retriever.invoke(\"紅燈右轉\")\n",
        "print(f'傳回 {len(retrieved_docs)} 筆資料')"
      ],
      "metadata": {
        "id": "-aXFlUtqyXQ5",
        "outputId": "9fe55929-0f30-48a1-8818-17a29fd68cc5",
        "colab": {
          "base_uri": "https://localhost:8080/"
        }
      },
      "execution_count": 32,
      "outputs": [
        {
          "output_type": "stream",
          "name": "stdout",
          "text": [
            "傳回 6 筆資料\n"
          ]
        }
      ]
    },
    {
      "cell_type": "code",
      "source": [
        "from langchain_core.output_parsers import StrOutputParser\n",
        "from langchain_core.prompts import ChatPromptTemplate\n",
        "from langchain_core.runnables import RunnablePassthrough"
      ],
      "metadata": {
        "id": "H_es23mdZY8A"
      },
      "execution_count": 33,
      "outputs": []
    },
    {
      "cell_type": "code",
      "source": [
        "str_parser = StrOutputParser()\n",
        "template = (\n",
        "    \"請根據以下內容加上自身判斷回答問題:\\n\"\n",
        "    \"{context}\\n\"\n",
        "    \"問題: {question}\"\n",
        "    )\n",
        "prompt = ChatPromptTemplate.from_template(template)"
      ],
      "metadata": {
        "id": "mjp2ZfNIZaZ7"
      },
      "execution_count": 34,
      "outputs": []
    },
    {
      "cell_type": "code",
      "source": [
        "chain = (\n",
        "    {\"context\": retriever, \"question\": RunnablePassthrough()}\n",
        "    | prompt\n",
        "    | chat_model\n",
        "    | str_parser\n",
        ")"
      ],
      "metadata": {
        "id": "5bzSqScIZbo6"
      },
      "execution_count": 35,
      "outputs": []
    },
    {
      "cell_type": "code",
      "source": [
        "print(chain.invoke(\"汽車駕駛人若喝酒後，會使反應遲延，視力變差。請問是否正確\"))"
      ],
      "metadata": {
        "id": "Yk0RtFhuZce8",
        "outputId": "d0a5f96d-d02c-404e-8e8c-e143b4eb9c3a",
        "colab": {
          "base_uri": "https://localhost:8080/"
        }
      },
      "execution_count": 36,
      "outputs": [
        {
          "output_type": "stream",
          "name": "stdout",
          "text": [
            "根據提供的文件內容來看，確實有提到酒後駕車會使反應遲延，視力變差，因此這句描述是正確的。喝酒後駕車將會危害自己和他人的生命安全，因此應嚴格禁止。\n"
          ]
        }
      ]
    },
    {
      "cell_type": "code",
      "source": [
        "for chunk in chain.stream(\"汽車駕駛人若喝酒後，會使反應遲延，視力增加。請問是否正確\"):\n",
        "    print(chunk, end=\"\", flush=True)"
      ],
      "metadata": {
        "id": "cIr8mnjJ089q",
        "outputId": "75a0c866-f41c-433b-e61e-c4469a12fbe5",
        "colab": {
          "base_uri": "https://localhost:8080/"
        }
      },
      "execution_count": 37,
      "outputs": [
        {
          "output_type": "stream",
          "name": "stdout",
          "text": [
            "根據提供的文件內容可以得知，飲酒後會使視覺能力變差，運動反射神經遲鈍，肇事率增加，因此汽車駕駛人若喝酒後，會使反應遲延，視力增加這個說法是不正確的。飲酒後會對駕駛能力造成負面影響，不應該飲酒後駕駛汽車。"
          ]
        }
      ]
    },
    {
      "cell_type": "markdown",
      "source": [
        "### 傳回關聯資料"
      ],
      "metadata": {
        "id": "o4PZ8sdTdEVB"
      }
    },
    {
      "cell_type": "code",
      "source": [
        "rag_chain_from_docs = (\n",
        "    prompt\n",
        "    | chat_model\n",
        "    | StrOutputParser()\n",
        ")"
      ],
      "metadata": {
        "id": "H9tQaybkeliU"
      },
      "execution_count": null,
      "outputs": []
    },
    {
      "cell_type": "code",
      "source": [
        "from langchain_core.runnables import RunnableParallel\n",
        "\n",
        "rag_chain_with_source = RunnableParallel(\n",
        "    {\"context\": retriever, \"question\": RunnablePassthrough()}\n",
        ").assign(answer=rag_chain_from_docs)"
      ],
      "metadata": {
        "id": "xtCO_YE4dh_T"
      },
      "execution_count": null,
      "outputs": []
    },
    {
      "cell_type": "code",
      "source": [
        "def chat(query):\n",
        "    output = {}\n",
        "    curr_key = None\n",
        "    for chunk in rag_chain_with_source.stream(query):\n",
        "        for key in chunk:\n",
        "            if key not in output:\n",
        "                output[key] = chunk[key]\n",
        "            else:\n",
        "                output[key] += chunk[key]\n",
        "            if key != curr_key:\n",
        "                print(f\"\\n\\n{key}: {chunk[key]}\", end=\"\", flush=True)\n",
        "            else:\n",
        "                print(chunk[key], end=\"\", flush=True)\n",
        "            curr_key = key\n",
        "chat(\"汽車駕駛人若喝酒後，會使反應遲延，視力變差。是否正確\")"
      ],
      "metadata": {
        "id": "kZX37Xu8Q65i"
      },
      "execution_count": null,
      "outputs": []
    },
    {
      "cell_type": "code",
      "source": [
        "chat(\"紅燈可以右轉。是否正確\")"
      ],
      "metadata": {
        "id": "teQTpJsoZRNC"
      },
      "execution_count": null,
      "outputs": []
    },
    {
      "cell_type": "markdown",
      "source": [
        "### RAG 集大成：建立檢索對話代理"
      ],
      "metadata": {
        "id": "DhzAf70VW-Il"
      }
    },
    {
      "cell_type": "code",
      "source": [
        "from langchain.tools.retriever import create_retriever_tool\n",
        "\n",
        "tool = create_retriever_tool(\n",
        "    retriever=retriever,\n",
        "    name=\"retriever_by_car_regulations\",\n",
        "    description=\"搜尋並返回汽車法規是非題內容\",\n",
        ")\n",
        "tools = [tool]"
      ],
      "metadata": {
        "id": "gMLbLe05ft1t"
      },
      "execution_count": null,
      "outputs": []
    },
    {
      "cell_type": "code",
      "source": [
        "from langchain_core.prompts import MessagesPlaceholder\n",
        "prompt = ChatPromptTemplate.from_messages([\n",
        "    ('system','你是一位善用工具的好助理, '\n",
        "              '請自己判斷上下文來回答問題, 不要盲目地使用工具'),\n",
        "    MessagesPlaceholder(variable_name=\"chat_history\"),\n",
        "    ('human','{input}'),\n",
        "    MessagesPlaceholder(variable_name=\"agent_scratchpad\")\n",
        "])"
      ],
      "metadata": {
        "id": "wV9BolNFVqXv"
      },
      "execution_count": null,
      "outputs": []
    },
    {
      "cell_type": "code",
      "source": [
        "from langchain.agents import (\n",
        "    AgentExecutor, create_openai_tools_agent)\n",
        "\n",
        "agent = create_openai_tools_agent(chat_model, tools, prompt)\n",
        "agent_executor = AgentExecutor(agent=agent, tools=tools)"
      ],
      "metadata": {
        "id": "NOXMgIXbfx8Z"
      },
      "execution_count": null,
      "outputs": []
    },
    {
      "cell_type": "code",
      "source": [
        "from langchain_community.chat_message_histories import (\n",
        "    SQLChatMessageHistory)\n",
        "from langchain_core.runnables.history import (\n",
        "    RunnableWithMessageHistory)\n",
        "\n",
        "memory = SQLChatMessageHistory(\n",
        "        session_id=\"test_id\",\n",
        "        connection_string='sqlite:////content/drive/MyDrive/retriever.db'\n",
        "    )\n",
        "\n",
        "def window_messages(chain_input):\n",
        "    if len(memory.messages) > 6:\n",
        "        cur_messages = memory.messages\n",
        "        memory.clear()\n",
        "        for message in cur_messages[-6:]:\n",
        "            memory.add_message(message)\n",
        "    return\n",
        "\n",
        "def add_history(agent_executor):\n",
        "    agent_with_chat_history = RunnableWithMessageHistory(\n",
        "        agent_executor,\n",
        "        lambda session_id: memory,\n",
        "        input_messages_key=\"input\",\n",
        "        history_messages_key=\"chat_history\",\n",
        "    )\n",
        "    memory_chain = (\n",
        "        RunnablePassthrough.assign(messages=window_messages)\n",
        "        | agent_with_chat_history\n",
        "    )\n",
        "    return memory_chain"
      ],
      "metadata": {
        "id": "vYqB0eENV9w-"
      },
      "execution_count": null,
      "outputs": []
    },
    {
      "cell_type": "code",
      "source": [
        "memory_chain = add_history(agent_executor)"
      ],
      "metadata": {
        "id": "vf4S76J1XQM7"
      },
      "execution_count": null,
      "outputs": []
    },
    {
      "cell_type": "code",
      "source": [
        "while True:\n",
        "    msg = input(\"我說：\")\n",
        "    if not msg.strip():\n",
        "        break\n",
        "    for chunk in memory_chain.stream(\n",
        "        {\"input\": msg},\n",
        "        config={\"configurable\": {\"session_id\": \"test_id\"}}):\n",
        "        if 'output' in chunk:\n",
        "            print(f\"AI 回覆：{chunk['output']}\", end=\"\", flush=True)\n",
        "    print('\\n')"
      ],
      "metadata": {
        "id": "2JTDwyPAfzs0"
      },
      "execution_count": null,
      "outputs": []
    },
    {
      "cell_type": "markdown",
      "source": [
        "## 7-4 總結文件的流程鏈"
      ],
      "metadata": {
        "id": "EuVr2Ncuf0wd"
      }
    },
    {
      "cell_type": "code",
      "source": [
        "from langchain_community.document_loaders import WebBaseLoader\n",
        "\n",
        "loader = WebBaseLoader(\"https://blog.langchain.dev/nvidia-nim/\")\n",
        "langchain_docs = loader.load()"
      ],
      "metadata": {
        "id": "wzoA9OIqgFwK"
      },
      "execution_count": null,
      "outputs": []
    },
    {
      "cell_type": "code",
      "source": [
        "text_splitter = RecursiveCharacterTextSplitter(chunk_size=200,\n",
        "                                               chunk_overlap=10)\n",
        "langchain_splits = text_splitter.split_documents(langchain_docs)"
      ],
      "metadata": {
        "id": "gUpooolesTb1"
      },
      "execution_count": null,
      "outputs": []
    },
    {
      "cell_type": "markdown",
      "source": [
        "### 不同的總結方式"
      ],
      "metadata": {
        "id": "_CPsTgXF-ZZ3"
      }
    },
    {
      "cell_type": "markdown",
      "source": [
        "stuff"
      ],
      "metadata": {
        "id": "WrCa0pz0GxRb"
      }
    },
    {
      "cell_type": "code",
      "source": [
        "language_prompt = '使用繁體中文和台灣用詞'\n",
        "prompt = ChatPromptTemplate.from_messages(\n",
        "    [(\"system\", \"{language}總結以下內容：\\n\\n{text}\")]\n",
        ").partial(language=language_prompt)"
      ],
      "metadata": {
        "id": "npv5GkdnJzkK"
      },
      "execution_count": null,
      "outputs": []
    },
    {
      "cell_type": "code",
      "source": [
        "from langchain.chains.summarize import load_summarize_chain\n",
        "chain = load_summarize_chain(llm=chat_model,\n",
        "                             prompt=prompt,\n",
        "                             chain_type=\"stuff\")\n",
        "print(chain.invoke(langchain_splits)['output_text'])"
      ],
      "metadata": {
        "id": "2AlSuZxDSBh9"
      },
      "execution_count": null,
      "outputs": []
    },
    {
      "cell_type": "markdown",
      "source": [
        "MapReduce"
      ],
      "metadata": {
        "id": "g5iNm4zeGzjn"
      }
    },
    {
      "cell_type": "code",
      "source": [
        "reduce_prompt = ChatPromptTemplate.from_messages(\n",
        "    [(\"system\", \"{language}, 以下是文件內容：\\n\"\n",
        "                \"{text}\\n\"\n",
        "                \"將這些內容進行總結且保持核心內容\")]\n",
        ").partial(language=language_prompt)\n",
        "\n",
        "map_prompt = ChatPromptTemplate.from_messages(\n",
        "    [(\"system\", \"{language}, 以下是一組文件串列：\\n\"\n",
        "                \"{text}\\n\"\n",
        "                \"根據此文件串列, 請作摘要並確保核心內容\")]\n",
        ").partial(language=language_prompt)"
      ],
      "metadata": {
        "id": "19lFZ1vjATvL"
      },
      "execution_count": null,
      "outputs": []
    },
    {
      "cell_type": "code",
      "source": [
        "chain = load_summarize_chain(llm=chat_model,\n",
        "                             combine_prompt=reduce_prompt,\n",
        "                             map_prompt=map_prompt,\n",
        "                             chain_type=\"map_reduce\")\n",
        "print(chain.invoke(langchain_splits)['output_text'])"
      ],
      "metadata": {
        "id": "k_581eLnSLAW"
      },
      "execution_count": null,
      "outputs": []
    },
    {
      "cell_type": "code",
      "source": [
        "prompt = ChatPromptTemplate.from_messages(\n",
        "    [(\"system\", \"{language}, 以下是文件的開頭內容：\\n\"\n",
        "                \"{text}\\n\"\n",
        "                \"將這些內容進行總結且保持核心內容\")]\n",
        ").partial(language=language_prompt)\n",
        "\n",
        "refine_prompt = ChatPromptTemplate.from_messages(\n",
        "    [(\"system\", \"{language}, 你的工作是撰寫綜合摘要\\n\"\n",
        "                \"這是目前的摘要成果：{existing_answer}\\n\"\n",
        "                \"藉由底下的額外內容\"\n",
        "                \"（若需要的話）請再補強摘要內容：\\n\"\n",
        "                \"------------\\n\"\n",
        "                \"{text}\\n\"\n",
        "                \"------------\\n\"\n",
        "                \"如果這些額外內容沒有用，請返回原始摘要。\")\n",
        "    ]\n",
        ").partial(language=language_prompt)"
      ],
      "metadata": {
        "id": "j4TwGLiEAxJ_"
      },
      "execution_count": null,
      "outputs": []
    },
    {
      "cell_type": "code",
      "source": [
        "chain = load_summarize_chain(chat_model,\n",
        "                             question_prompt=prompt,\n",
        "                             refine_prompt=refine_prompt,\n",
        "                             chain_type=\"refine\")\n",
        "print(chain.invoke(langchain_splits)['output_text'])"
      ],
      "metadata": {
        "id": "p34CcoNwTq20"
      },
      "execution_count": null,
      "outputs": []
    },
    {
      "cell_type": "markdown",
      "source": [
        "## 7-5 其他的分割器"
      ],
      "metadata": {
        "id": "bywjZt09ax6y"
      }
    },
    {
      "cell_type": "code",
      "source": [
        "json_example={\n",
        "    \"school\": {\n",
        "        \"name\": \"精英中學\",\n",
        "        \"address\": {\n",
        "            \"street\": \"高科技大道200號\",\n",
        "            \"city\": \"台北\",\n",
        "            \"zip_code\": \"100\"\n",
        "        },\n",
        "        \"departments\": [\n",
        "            {\n",
        "                \"name\": \"數學系\",\n",
        "                \"courses\": [\n",
        "                    {\n",
        "                        \"course_name\": \"高等數學\",\n",
        "                        \"teacher\": \"李老師\",\n",
        "                        \"students\": [\"張三\", \"李四\", \"王五\"]\n",
        "                    },\n",
        "                    {\n",
        "                        \"course_name\": \"線性代數\",\n",
        "                        \"teacher\": \"周老師\",\n",
        "                        \"students\": [\"趙六\", \"孫七\", \"周八\"]\n",
        "                    }\n",
        "                ]\n",
        "            },\n",
        "            {\n",
        "                \"name\": \"物理系\",\n",
        "                \"courses\": [\n",
        "                    {\n",
        "                        \"course_name\": \"量子物理\",\n",
        "                        \"teacher\": \"張老師\",\n",
        "                        \"students\": [\"陳九\", \"鄭十\"]\n",
        "                    }\n",
        "                ]\n",
        "            }\n",
        "        ]\n",
        "    }\n",
        "}"
      ],
      "metadata": {
        "id": "0fWJwdbYLBQN"
      },
      "execution_count": null,
      "outputs": []
    },
    {
      "cell_type": "code",
      "source": [
        "from langchain.text_splitter import RecursiveJsonSplitter\n",
        "splitter = RecursiveJsonSplitter(max_chunk_size=30)\n",
        "docs = splitter.create_documents(texts=[json_example],\n",
        "                                 convert_lists=True)\n",
        "pprint(docs[:5])"
      ],
      "metadata": {
        "id": "tqQFZZeqebr7"
      },
      "execution_count": null,
      "outputs": []
    },
    {
      "cell_type": "markdown",
      "source": [
        "### markdown"
      ],
      "metadata": {
        "id": "MkUuWW3Ga6Xh"
      }
    },
    {
      "cell_type": "code",
      "source": [
        "md = '''\n",
        "# 時間管理的藝術\n",
        "\n",
        "時間管理是一項關鍵技能，可以幫助個人有效地利用時間，提高生產力和效率。\n",
        "本文件旨在提供一些基本的時間管理技巧，幫助讀者更好地規劃和利用自己的時間。\n",
        "\n",
        "## 為什麼時間管理如此重要？\n",
        "\n",
        "在快節奏的現代生活中，時間成為了一種寶貴的資源。\n",
        "良好的時間管理不僅可以幫助我們完成更多的工作，還可以提高生活質量，\n",
        "給予我們更多時間去追求個人興趣和與家人、朋友相處的時光。\n",
        "\n",
        "## 基本時間管理技巧\n",
        "\n",
        "### 設定目標\n",
        "\n",
        "- **確定優先順序**：了解哪些任務最重要，哪些可以稍後處理。\n",
        "- **SMART目標**：設定具體（Specific）、可衡量（Measurable）、\n",
        "可達成（Achievable）、相關（Relevant）、時間限定（Time-bound）的目標。\n",
        "\n",
        "### 規劃你的時間\n",
        "\n",
        "- **每日計劃**：每天制定一個實際可行的待辦事項清單。\n",
        "- **時間塊劃分**：將一天分成幾個時間塊，每個時間塊分配特定的任務。\n",
        "\n",
        "### 避免拖延\n",
        "\n",
        "- **使用番茄工作法**：專注工作25分鐘，然後休息5分鐘。\n",
        "- **設定獎勵**：完成任務後給自己一些小獎勵。\n",
        "\n",
        "## 工具和應用\n",
        "\n",
        "- **Google Calendar**：用於時間規劃和會議安排。\n",
        "- **Trello**：一個項目管理工具，有助於跟蹤任務和進度。\n",
        "- **Pomodoro Timer**：一個簡單的線上番茄鐘工具。\n",
        "\n",
        "## 結語\n",
        "\n",
        "有效的時間管理要求持之以恆的努力和自我反思。透過實踐上述技巧，\n",
        "您將能夠更有效地利用您的時間，達成個人和專業目標，同時享有更豐富的個人生活。\n",
        "'''"
      ],
      "metadata": {
        "id": "GmYdKwVAgz2o"
      },
      "execution_count": null,
      "outputs": []
    },
    {
      "cell_type": "code",
      "source": [
        "from langchain_text_splitters import MarkdownHeaderTextSplitter"
      ],
      "metadata": {
        "id": "ACjPPrQFhBAz"
      },
      "execution_count": null,
      "outputs": []
    },
    {
      "cell_type": "code",
      "source": [
        "headers_to_split_on = [\n",
        "    (\"#\", \"Header 1\"),\n",
        "    (\"##\", \"Header 2\"),\n",
        "    (\"###\", \"Header 3\"),\n",
        "]\n",
        "\n",
        "markdown_splitter = MarkdownHeaderTextSplitter(\n",
        "    headers_to_split_on=headers_to_split_on, strip_headers=True)\n",
        "\n",
        "md_header_splits = markdown_splitter.split_text(md)\n",
        "pprint(md_header_splits)"
      ],
      "metadata": {
        "id": "62FlBQ0mhCRt"
      },
      "execution_count": null,
      "outputs": []
    },
    {
      "cell_type": "code",
      "source": [
        "chunk_size = 50\n",
        "chunk_overlap = 10\n",
        "\n",
        "text_splitter = RecursiveCharacterTextSplitter(\n",
        "    chunk_size=chunk_size, chunk_overlap=chunk_overlap\n",
        ")\n",
        "\n",
        "splits = text_splitter.split_documents(md_header_splits)\n",
        "pprint(splits[:2])"
      ],
      "metadata": {
        "id": "E2qz7GxRhRnI"
      },
      "execution_count": null,
      "outputs": []
    },
    {
      "cell_type": "markdown",
      "source": [
        "### html"
      ],
      "metadata": {
        "id": "RjTaFBbLa3dC"
      }
    },
    {
      "cell_type": "code",
      "source": [
        "from langchain_text_splitters import HTMLHeaderTextSplitter"
      ],
      "metadata": {
        "id": "yoDc-453hVU9"
      },
      "execution_count": null,
      "outputs": []
    },
    {
      "cell_type": "code",
      "source": [
        "url = \"https://zh.wikipedia.org/zh-tw/%E8%94%A1%E8%8B%B1%E6%96%87\"\n",
        "\n",
        "headers_to_split_on = [\n",
        "    (\"h1\", \"Header 1\"),\n",
        "    (\"h2\", \"Header 2\"),\n",
        "    (\"h3\", \"Header 3\"),\n",
        "    (\"h4\", \"Header 4\"),\n",
        "]\n",
        "\n",
        "html_splitter = HTMLHeaderTextSplitter(\n",
        "    headers_to_split_on=headers_to_split_on\n",
        ")\n",
        "\n",
        "html_header_splits = html_splitter.split_text_from_url(url)\n",
        "pprint(html_header_splits[5:8])"
      ],
      "metadata": {
        "id": "dxc83EOGhXt9"
      },
      "execution_count": null,
      "outputs": []
    },
    {
      "cell_type": "code",
      "source": [
        "chunk_size = 500\n",
        "chunk_overlap = 30\n",
        "text_splitter = RecursiveCharacterTextSplitter(\n",
        "    chunk_size=chunk_size, chunk_overlap=chunk_overlap\n",
        ")\n",
        "\n",
        "splits = text_splitter.split_documents(html_header_splits)\n",
        "pprint(splits[5:8])"
      ],
      "metadata": {
        "id": "_PjgeFB_vOmm"
      },
      "execution_count": null,
      "outputs": []
    },
    {
      "cell_type": "markdown",
      "source": [
        "### code"
      ],
      "metadata": {
        "id": "JOvNiyQdbHyy"
      }
    },
    {
      "cell_type": "code",
      "source": [
        "from langchain_text_splitters import Language"
      ],
      "metadata": {
        "id": "_UDjnkcYbOyT"
      },
      "execution_count": null,
      "outputs": []
    },
    {
      "cell_type": "code",
      "source": [
        "[e.value for e in Language]"
      ],
      "metadata": {
        "id": "X1wP45XHcs3a"
      },
      "execution_count": null,
      "outputs": []
    },
    {
      "cell_type": "code",
      "source": [
        "RecursiveCharacterTextSplitter.get_separators_for_language(\n",
        "    Language.PYTHON)"
      ],
      "metadata": {
        "id": "MWIJNZtDcuvo"
      },
      "execution_count": null,
      "outputs": []
    },
    {
      "cell_type": "code",
      "source": [
        "python_code = \"\"\"\n",
        "def hello_world():\n",
        "    print(\"Hello, World!\")\n",
        "\n",
        "# 呼叫函式\n",
        "hello_world()\n",
        "\"\"\"\n",
        "python_splitter = RecursiveCharacterTextSplitter.from_language(\n",
        "    language=Language.PYTHON, chunk_size=50, chunk_overlap=0\n",
        ")\n",
        "python_docs = python_splitter.create_documents([python_code])\n",
        "for doc in python_docs:\n",
        "    print(doc.page_content)\n",
        "    print('.'*10)"
      ],
      "metadata": {
        "id": "9ZPIWQEccyy7"
      },
      "execution_count": null,
      "outputs": []
    },
    {
      "cell_type": "code",
      "source": [
        "csharp_code = \"\"\"\n",
        "using System;\n",
        "class Program\n",
        "{\n",
        "    static void Main()\n",
        "    {\n",
        "        int age = 30; // 根據需要更改年齡值\n",
        "\n",
        "        // 根據年齡對人進行分類，並輸出到控制台\n",
        "        if (age < 18)\n",
        "        {\n",
        "            Console.WriteLine(\"年齡小於18：未成年\");\n",
        "        }\n",
        "        else if (age >= 18 && age < 65)\n",
        "        {\n",
        "            Console.WriteLine(\"年齡在18至64之間：成年人\");\n",
        "        }\n",
        "        else\n",
        "        {\n",
        "            Console.WriteLine(\"年齡65歲或以上：老年人\");\n",
        "        }\n",
        "    }\n",
        "}\n",
        "\n",
        "\"\"\""
      ],
      "metadata": {
        "id": "IC6gQDkie-th"
      },
      "execution_count": null,
      "outputs": []
    },
    {
      "cell_type": "code",
      "source": [
        "RecursiveCharacterTextSplitter.get_separators_for_language(\n",
        "    language=Language.CSHARP)"
      ],
      "metadata": {
        "id": "3dR_iNy5blMb"
      },
      "execution_count": null,
      "outputs": []
    },
    {
      "cell_type": "code",
      "source": [
        "csharp_splitter = RecursiveCharacterTextSplitter.from_language(\n",
        "    language=Language.CSHARP, chunk_size=50, chunk_overlap=0\n",
        ")\n",
        "csharp_docs = csharp_splitter.create_documents([csharp_code])\n",
        "for doc in csharp_docs:\n",
        "    print(doc.page_content)\n",
        "    print('.'*10)"
      ],
      "metadata": {
        "id": "QZ6eezTnagBQ"
      },
      "execution_count": null,
      "outputs": []
    }
  ]
}