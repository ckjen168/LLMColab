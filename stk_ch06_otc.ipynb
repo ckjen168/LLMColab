{
  "cells": [
    {
      "cell_type": "markdown",
      "metadata": {
        "id": "view-in-github",
        "colab_type": "text"
      },
      "source": [
        "<a href=\"https://colab.research.google.com/github/ckjen168/LLMColab/blob/main/stk_ch06_otc.ipynb\" target=\"_parent\"><img src=\"https://colab.research.google.com/assets/colab-badge.svg\" alt=\"Open In Colab\"/></a>"
      ]
    },
    {
      "cell_type": "markdown",
      "metadata": {
        "id": "TFQ17AmL0Yd0"
      },
      "source": [
        "# CH-06 個股分析機器人"
      ]
    },
    {
      "cell_type": "markdown",
      "metadata": {
        "id": "rwGTl75BLNwu"
      },
      "source": [
        "### 1️⃣ 安裝及匯入套件"
      ]
    },
    {
      "cell_type": "code",
      "execution_count": null,
      "metadata": {
        "colab": {
          "base_uri": "https://localhost:8080/"
        },
        "id": "V9x1F86C4T9u",
        "outputId": "05f7939e-507b-4391-d825-b91915d79ca5"
      },
      "outputs": [
        {
          "output_type": "stream",
          "name": "stdout",
          "text": [
            "Collecting openai\n",
            "  Downloading openai-1.13.3-py3-none-any.whl (227 kB)\n",
            "\u001b[2K     \u001b[90m━━━━━━━━━━━━━━━━━━━━━━━━━━━━━━━━━━━━━━━━\u001b[0m \u001b[32m227.4/227.4 kB\u001b[0m \u001b[31m4.6 MB/s\u001b[0m eta \u001b[36m0:00:00\u001b[0m\n",
            "\u001b[?25hRequirement already satisfied: anyio<5,>=3.5.0 in /usr/local/lib/python3.10/dist-packages (from openai) (3.7.1)\n",
            "Requirement already satisfied: distro<2,>=1.7.0 in /usr/lib/python3/dist-packages (from openai) (1.7.0)\n",
            "Collecting httpx<1,>=0.23.0 (from openai)\n",
            "  Downloading httpx-0.27.0-py3-none-any.whl (75 kB)\n",
            "\u001b[2K     \u001b[90m━━━━━━━━━━━━━━━━━━━━━━━━━━━━━━━━━━━━━━━━\u001b[0m \u001b[32m75.6/75.6 kB\u001b[0m \u001b[31m11.1 MB/s\u001b[0m eta \u001b[36m0:00:00\u001b[0m\n",
            "\u001b[?25hRequirement already satisfied: pydantic<3,>=1.9.0 in /usr/local/lib/python3.10/dist-packages (from openai) (2.6.3)\n",
            "Requirement already satisfied: sniffio in /usr/local/lib/python3.10/dist-packages (from openai) (1.3.1)\n",
            "Requirement already satisfied: tqdm>4 in /usr/local/lib/python3.10/dist-packages (from openai) (4.66.2)\n",
            "Requirement already satisfied: typing-extensions<5,>=4.7 in /usr/local/lib/python3.10/dist-packages (from openai) (4.10.0)\n",
            "Requirement already satisfied: idna>=2.8 in /usr/local/lib/python3.10/dist-packages (from anyio<5,>=3.5.0->openai) (3.6)\n",
            "Requirement already satisfied: exceptiongroup in /usr/local/lib/python3.10/dist-packages (from anyio<5,>=3.5.0->openai) (1.2.0)\n",
            "Requirement already satisfied: certifi in /usr/local/lib/python3.10/dist-packages (from httpx<1,>=0.23.0->openai) (2024.2.2)\n",
            "Collecting httpcore==1.* (from httpx<1,>=0.23.0->openai)\n",
            "  Downloading httpcore-1.0.4-py3-none-any.whl (77 kB)\n",
            "\u001b[2K     \u001b[90m━━━━━━━━━━━━━━━━━━━━━━━━━━━━━━━━━━━━━━━━\u001b[0m \u001b[32m77.8/77.8 kB\u001b[0m \u001b[31m10.0 MB/s\u001b[0m eta \u001b[36m0:00:00\u001b[0m\n",
            "\u001b[?25hCollecting h11<0.15,>=0.13 (from httpcore==1.*->httpx<1,>=0.23.0->openai)\n",
            "  Downloading h11-0.14.0-py3-none-any.whl (58 kB)\n",
            "\u001b[2K     \u001b[90m━━━━━━━━━━━━━━━━━━━━━━━━━━━━━━━━━━━━━━━━\u001b[0m \u001b[32m58.3/58.3 kB\u001b[0m \u001b[31m7.2 MB/s\u001b[0m eta \u001b[36m0:00:00\u001b[0m\n",
            "\u001b[?25hRequirement already satisfied: annotated-types>=0.4.0 in /usr/local/lib/python3.10/dist-packages (from pydantic<3,>=1.9.0->openai) (0.6.0)\n",
            "Requirement already satisfied: pydantic-core==2.16.3 in /usr/local/lib/python3.10/dist-packages (from pydantic<3,>=1.9.0->openai) (2.16.3)\n",
            "Installing collected packages: h11, httpcore, httpx, openai\n",
            "Successfully installed h11-0.14.0 httpcore-1.0.4 httpx-0.27.0 openai-1.13.3\n",
            "Requirement already satisfied: yfinance in /usr/local/lib/python3.10/dist-packages (0.2.37)\n",
            "Requirement already satisfied: pandas>=1.3.0 in /usr/local/lib/python3.10/dist-packages (from yfinance) (1.5.3)\n",
            "Requirement already satisfied: numpy>=1.16.5 in /usr/local/lib/python3.10/dist-packages (from yfinance) (1.25.2)\n",
            "Requirement already satisfied: requests>=2.31 in /usr/local/lib/python3.10/dist-packages (from yfinance) (2.31.0)\n",
            "Requirement already satisfied: multitasking>=0.0.7 in /usr/local/lib/python3.10/dist-packages (from yfinance) (0.0.11)\n",
            "Requirement already satisfied: lxml>=4.9.1 in /usr/local/lib/python3.10/dist-packages (from yfinance) (4.9.4)\n",
            "Requirement already satisfied: appdirs>=1.4.4 in /usr/local/lib/python3.10/dist-packages (from yfinance) (1.4.4)\n",
            "Requirement already satisfied: pytz>=2022.5 in /usr/local/lib/python3.10/dist-packages (from yfinance) (2023.4)\n",
            "Requirement already satisfied: frozendict>=2.3.4 in /usr/local/lib/python3.10/dist-packages (from yfinance) (2.4.0)\n",
            "Requirement already satisfied: peewee>=3.16.2 in /usr/local/lib/python3.10/dist-packages (from yfinance) (3.17.1)\n",
            "Requirement already satisfied: beautifulsoup4>=4.11.1 in /usr/local/lib/python3.10/dist-packages (from yfinance) (4.12.3)\n",
            "Requirement already satisfied: html5lib>=1.1 in /usr/local/lib/python3.10/dist-packages (from yfinance) (1.1)\n",
            "Requirement already satisfied: soupsieve>1.2 in /usr/local/lib/python3.10/dist-packages (from beautifulsoup4>=4.11.1->yfinance) (2.5)\n",
            "Requirement already satisfied: six>=1.9 in /usr/local/lib/python3.10/dist-packages (from html5lib>=1.1->yfinance) (1.16.0)\n",
            "Requirement already satisfied: webencodings in /usr/local/lib/python3.10/dist-packages (from html5lib>=1.1->yfinance) (0.5.1)\n",
            "Requirement already satisfied: python-dateutil>=2.8.1 in /usr/local/lib/python3.10/dist-packages (from pandas>=1.3.0->yfinance) (2.8.2)\n",
            "Requirement already satisfied: charset-normalizer<4,>=2 in /usr/local/lib/python3.10/dist-packages (from requests>=2.31->yfinance) (3.3.2)\n",
            "Requirement already satisfied: idna<4,>=2.5 in /usr/local/lib/python3.10/dist-packages (from requests>=2.31->yfinance) (3.6)\n",
            "Requirement already satisfied: urllib3<3,>=1.21.1 in /usr/local/lib/python3.10/dist-packages (from requests>=2.31->yfinance) (2.0.7)\n",
            "Requirement already satisfied: certifi>=2017.4.17 in /usr/local/lib/python3.10/dist-packages (from requests>=2.31->yfinance) (2024.2.2)\n"
          ]
        }
      ],
      "source": [
        "!pip install openai\n",
        "!pip install yfinance==0.2.38\n",
        "from openai import OpenAI, OpenAIError # 串接 OpenAI API\n",
        "import yfinance as yf\n",
        "import pandas as pd # 資料處理套件\n",
        "import numpy as np\n",
        "import datetime as dt # 時間套件\n",
        "import requests\n",
        "from bs4 import BeautifulSoup"
      ]
    },
    {
      "cell_type": "markdown",
      "metadata": {
        "id": "wGukHBkyiQA2"
      },
      "source": [
        "### 2️⃣ 輸入 OpenAI API KEY"
      ]
    },
    {
      "cell_type": "code",
      "execution_count": null,
      "metadata": {
        "colab": {
          "base_uri": "https://localhost:8080/"
        },
        "id": "ZN8CnE789cPy",
        "outputId": "55dc5026-8d3a-46df-cf04-6ce1e4005a3d"
      },
      "outputs": [
        {
          "name": "stdout",
          "output_type": "stream",
          "text": [
            "請輸入金鑰：··········\n"
          ]
        }
      ],
      "source": [
        "import getpass # 保密輸入套件\n",
        "api_key = getpass.getpass(\"請輸入金鑰：\")\n",
        "client = OpenAI(api_key = api_key) # 建立 OpenAI 物件"
      ]
    },
    {
      "cell_type": "markdown",
      "source": [
        "### 3️⃣ 取得股價資料"
      ],
      "metadata": {
        "id": "ebiRubdMv_AZ"
      }
    },
    {
      "cell_type": "code",
      "source": [
        "# 從 yfinance 取得一周股價資料\n",
        "def stock_price(stock_id=\"大盤\", days = 10):\n",
        "  if stock_id == \"大盤\":\n",
        "    stock_id=\"^TWII\"\n",
        "  else:\n",
        "    stock_id\n",
        "\n",
        "  end = dt.date.today() # 資料結束時間\n",
        "  start = end - dt.timedelta(days=days) # 資料開始時間\n",
        "  # 下載資料\n",
        "  df = yf.download(stock_id, start=start)\n",
        "\n",
        "  # 更換列名\n",
        "  df.columns = ['開盤價', '最高價', '最低價',\n",
        "                '收盤價', '調整後收盤價', '成交量']\n",
        "\n",
        "  data = {\n",
        "    '日期': df.index.strftime('%Y-%m-%d').tolist(),\n",
        "    '收盤價': df['收盤價'].tolist(),\n",
        "    '每日報酬': df['收盤價'].pct_change().tolist(),\n",
        "    '漲跌價差': df['調整後收盤價'].diff().tolist()\n",
        "    }\n",
        "\n",
        "  return data\n",
        "\n",
        "print(stock_price(\"4205.TWO\"))"
      ],
      "metadata": {
        "colab": {
          "base_uri": "https://localhost:8080/"
        },
        "id": "t30pt68amGmN",
        "outputId": "98e6b278-3543-4239-dfab-f61634285661"
      },
      "execution_count": null,
      "outputs": [
        {
          "output_type": "stream",
          "name": "stderr",
          "text": [
            "\r[*********************100%%**********************]  1 of 1 completed"
          ]
        },
        {
          "output_type": "stream",
          "name": "stdout",
          "text": [
            "{'日期': ['2024-02-23', '2024-02-26', '2024-02-27', '2024-02-29', '2024-03-01', '2024-03-04'], '收盤價': [49.650001525878906, 49.650001525878906, 49.849998474121094, 49.79999923706055, 49.75, 50.0], '每日報酬': [nan, 0.0, 0.004028135792462084, -0.0010029937530791067, -0.0010040007595690792, 0.005025125628140614], '漲跌價差': [nan, 0.0, 0.1999969482421875, -0.049999237060546875, -0.049999237060546875, 0.25]}\n"
          ]
        },
        {
          "output_type": "stream",
          "name": "stderr",
          "text": [
            "\n"
          ]
        }
      ]
    },
    {
      "cell_type": "markdown",
      "source": [
        "### 4️⃣ 取得基本面資料"
      ],
      "metadata": {
        "id": "T59rbTgDwoAZ"
      }
    },
    {
      "cell_type": "code",
      "source": [
        "# 基本面資料\n",
        "def stock_fundamental(stock_id= \"大盤\"):\n",
        "  if stock_id == \"大盤\":\n",
        "      return None\n",
        "\n",
        "  stock = yf.Ticker(stock_id)\n",
        "\n",
        "  # 營收成長率\n",
        "  quarterly_revenue_growth = np.round(stock.quarterly_financials.loc[\"Total Revenue\"].pct_change(-1).dropna().tolist(), 2)\n",
        "\n",
        "  # 每季EPS\n",
        "  quarterly_eps = np.round(stock.quarterly_financials.loc[\"Basic EPS\"].dropna().tolist(), 2)\n",
        "\n",
        "  # EPS季增率\n",
        "  quarterly_eps_growth = np.round(stock.quarterly_financials.loc[\"Basic EPS\"].pct_change(-1).dropna().tolist(), 2)\n",
        "\n",
        "  # 轉換日期\n",
        "  dates = [date.strftime('%Y-%m-%d') for date in stock.quarterly_financials.columns]\n",
        "\n",
        "  data = {\n",
        "      '季日期': dates[:len(quarterly_revenue_growth)],\n",
        "      '營收成長率': quarterly_revenue_growth.tolist(),\n",
        "      'EPS': quarterly_eps[0:3].tolist(),\n",
        "      'EPS 季增率': quarterly_eps_growth[0:3].tolist()\n",
        "  }\n",
        "\n",
        "  return data\n",
        "\n",
        "print(stock_fundamental(\"3526.TWO\"))"
      ],
      "metadata": {
        "colab": {
          "base_uri": "https://localhost:8080/"
        },
        "id": "4C7n0hxlwx-x",
        "outputId": "0af4b878-c3d9-4ff7-8b48-716525f3c1e5"
      },
      "execution_count": null,
      "outputs": [
        {
          "output_type": "stream",
          "name": "stdout",
          "text": [
            "{'季日期': ['2023-09-30', '2023-06-30', '2023-03-31'], '營收成長率': [0.14, 0.39, -0.18], 'EPS': [3.27, 3.07, 1.21], 'EPS 季增率': [0.07, 1.54, -0.28]}\n"
          ]
        }
      ]
    },
    {
      "cell_type": "markdown",
      "metadata": {
        "id": "pC1gzHDLiqhT"
      },
      "source": [
        "### 5️⃣ 取得新聞資料"
      ]
    },
    {
      "cell_type": "code",
      "execution_count": null,
      "metadata": {
        "id": "OBkpRomPEXd1",
        "colab": {
          "base_uri": "https://localhost:8080/"
        },
        "outputId": "4f42ca65-69d4-471f-c358-e23605f7325c"
      },
      "outputs": [
        {
          "output_type": "stream",
          "name": "stdout",
          "text": [
            "[['台積電', '2024-03-04', '〈台幣〉股匯雙漲 往31.5元關卡靠攏 攀1周高點', '觀察主要貨幣今天對美元的表現，新台幣、泰銖早盤均升值逾 0.1%，韓元、人民幣、新加坡幣都在平盤附近整理，日元則貶值 0.03%。本週國際重點財經大事包含美國總統初選「超級星期二」，以及 2 月非農報告及失業率、ISM 非製造業指數、上週失業金等經濟數據。此外，聯準會 (Fed) 褐皮書定於本週出爐，市場同時關注 Fed 主席鮑爾的國會證詞，以及多位 Fed 官員的發言。歐洲央行 (ECB) 和加拿大央行也將在本週公布最新利率決議。台股方面，在台積電 ADR 大漲 4% 創波段新高的激勵下，台積電 (2330-TW) 今天一度衝上 715 元寫新天價，大盤同步飛越 19000 點大關，漲點更放大至 300 點以上，最高來到 19272 點，改寫歷史新高。本周國內有多場法說會，可望吸引市場買盤押寶，加上第一季作帳行情開跑，為多頭再添火力。下一篇'], ['台積電', '2024-03-04', '戴爾蝴碟效應漲勢擴散 繼技嘉、廣運後最便宜的AI股換「它」接棒！', 'AI 股將輪動輪漲 基期愈低接棒大漲機會愈大！今日台積電大漲再創新高價，2/15 的 709 元已非天價。無疑是宣告，AI 股輪動輪漲的趨勢仍在運行之中。看看我們今年一路提示，通吃 AI PC、AI 手機、AI 伺服器的散熱族群—奇鋐 (3017-TW)、雙鴻(3324-TW)、健策(3653-TW)、技嘉(2376-TW)，皆已如預期已是遍地開花。再看近期強力鎖定的另一檔散熱股廣運(6125-TW) 更是有後來居上之勢！這是為何？關鍵就在股價的基期位置。所以，3 月主升股將換誰接棒？該如何選？誰將複製 DELL 大漲模式，接棒廣運成為 3 月最猛的主升股？目前江江已鎖定具「低基期 + 大爆發力成長」的新散熱潛龍股已經蓄勢待發，若還不知道該如何應對盤勢變化、不知逢低卡位那隻 AI 潛龍股？手上持股不知如何操作。那建議你務必要鎖定江江在 Line @，將有更進一步的訊息給大家了解。想了解還未起漲的市場主流，同步了解大盤多空轉折點及學習預測技術分析，都可加入密切鎖定 Line@粉絲團關注。接棒廣運重返榮耀！ 散熱裡超大黑馬—高力 (8996-TW)高力為國內唯一掛牌之生產板式熱交換器廠商，為全球前五大的熱交換器廠商，熱能產品強勁→去年營收年增 52%，創歷史新高。大客戶 Bloom Energy 訂單今年將維持高檔→營運向上趨勢不變。而今年的大亮點會在散熱這塊！高力已積極布局伺服器液冷散熱→今年營收增幅將挑戰 200% 的成長。據園區獨家第一手訊息：今年開始的營收→將會有逐季大激增的趨勢。配合技術面：自去年 7 月創 447 元歷史高點修正近 5 成，相較於其他散熱股，具備最大的優勢正是股價「低基期」。目前股價打出 5 個月大底部，月、季線上揚助漲，更重要的是月轉折關鍵價位在 308 元，股價一旦突破月轉折過 308 元就是關鍵的攻擊訊號，長線將有機會越過前高 447，挑戰 500 元大關。有持股問題或想要飆股→請加入江江 Line @：https://lin.ee/vTaRqlQ更多產業趨勢報告 + 盤中訊息→請加入江江 TG：https://t.me/win58899江江的 Youtube【點股成金】解盤：https://reurl.cc/02drMk文章來源：摩爾投顧－江國中分析師本公司所推薦分析之個別有價證券\\n無不當之財務利益關係 以往之績效不保證未來獲利\\n投資人應獨立判斷 審慎評估並自負投資風下一篇'], ['台積電', '2024-03-04', '盤中速報 - 兆利(3548)大漲7.05%，報281元', '近5日籌碼最新相關新聞下一篇'], ['台積電', '2024-03-04', '盤中速報 - 勝一(1773)大漲7.42%，報166.5元', '近5日籌碼最新相關新聞上一篇下一篇'], ['台積電', '2024-03-04', '盤中速報 - 立積(4968)急跌-4.42%報227.5元，成交9,419張', '最新相關新聞上一篇下一篇']]\n"
          ]
        }
      ],
      "source": [
        "# 新聞資料\n",
        "def stock_news(stock_name =\"大盤\"):\n",
        "  if stock_name == \"大盤\":\n",
        "    stock_name=\"台股 -盤中速報\"\n",
        "\n",
        "  data=[]\n",
        "  # 取得 Json 格式資料\n",
        "  json_data = requests.get(f'https://ess.api.cnyes.com/ess/api/v1/news/keyword?q={stock_name}&limit=5&page=1').json()\n",
        "\n",
        "  # 依照格式擷取資料\n",
        "  items=json_data['data']['items']\n",
        "  for item in items:\n",
        "      # 網址、標題和日期\n",
        "      news_id = item[\"newsId\"]\n",
        "      title = item[\"title\"]\n",
        "      publish_at = item[\"publishAt\"]\n",
        "      # 使用 UTC 時間格式\n",
        "      utc_time = dt.datetime.utcfromtimestamp(publish_at)\n",
        "      formatted_date = utc_time.strftime('%Y-%m-%d')\n",
        "      # 前往網址擷取內容\n",
        "      url = requests.get(f'https://news.cnyes.com/'\n",
        "                        f'news/id/{news_id}').content\n",
        "      soup = BeautifulSoup(url, 'html.parser')\n",
        "      p_elements=soup .find_all('p')\n",
        "      # 提取段落内容\n",
        "      p=''\n",
        "      for paragraph in p_elements[4:]:\n",
        "          p+=paragraph.get_text()\n",
        "      data.append([stock_name, formatted_date ,title,p])\n",
        "  return data\n",
        "\n",
        "print(stock_news(\"台積電\"))"
      ]
    },
    {
      "cell_type": "markdown",
      "source": [
        "### 6️⃣ 爬取股號、股名對照表"
      ],
      "metadata": {
        "id": "0jqJLS9TSqyU"
      }
    },
    {
      "cell_type": "code",
      "source": [
        "# 取得全部股票的股號、股名\n",
        "def stock_name(type=2):\n",
        "  print(\"線上讀取股號、股名、及市場別\")\n",
        "\n",
        "  response = requests.get(f'https://isin.twse.com.tw/isin/C_public.jsp?strMode={type}')\n",
        "  url_data = BeautifulSoup(response.text, 'html.parser')\n",
        "  stock_company = url_data.find_all('tr')\n",
        "\n",
        "  # 資料處理\n",
        "  data = [\n",
        "      (row.find_all('td')[0].text.split('\\u3000')[0].strip(),\n",
        "        row.find_all('td')[0].text.split('\\u3000')[1],\n",
        "        row.find_all('td')[3].text.strip())\n",
        "      for row in stock_company[2:] if len(row.find_all('td')[0].text.split('\\u3000')[0].strip()) == 4\n",
        "  ]\n",
        "\n",
        "  df = pd.DataFrame(data, columns=['股號', '股名', '市場別'])\n",
        "\n",
        "  return df\n",
        "\n",
        "name_df = stock_name()\n",
        "name_df = pd.concat([name_df, stock_name(type=4)])"
      ],
      "metadata": {
        "colab": {
          "base_uri": "https://localhost:8080/"
        },
        "id": "PeCJ5-XHSrU9",
        "outputId": "c61314ab-4667-4d22-e51f-2130c735215c"
      },
      "execution_count": null,
      "outputs": [
        {
          "output_type": "stream",
          "name": "stdout",
          "text": [
            "線上讀取股號、股名、及市場別\n",
            "線上讀取股號、股名、及市場別\n"
          ]
        }
      ]
    },
    {
      "cell_type": "markdown",
      "source": [
        "### 7️⃣ 取得股票名稱"
      ],
      "metadata": {
        "id": "xKNkqNWSoAQe"
      }
    },
    {
      "cell_type": "code",
      "source": [
        "# 取得股票名稱\n",
        "def get_stock_name(stock_id, name_df):\n",
        "    stock_name = name_df.set_index('股號').loc[stock_id, '股名']\n",
        "    stock_type = name_df.set_index('股號').loc[stock_id, '市場別']\n",
        "    return stock_name, stock_type\n",
        "\n",
        "\n",
        "print(name_df.head())\n",
        "print(\"--------------------------\")\n",
        "print(get_stock_name(\"3526\",name_df))"
      ],
      "metadata": {
        "colab": {
          "base_uri": "https://localhost:8080/"
        },
        "id": "IZXQFFxZn2rf",
        "outputId": "a004d0d4-0491-42eb-f6a1-e0106e046b3f"
      },
      "execution_count": null,
      "outputs": [
        {
          "output_type": "stream",
          "name": "stdout",
          "text": [
            "     股號  股名 市場別\n",
            "0  1101  台泥  上市\n",
            "1  1102  亞泥  上市\n",
            "2  1103  嘉泥  上市\n",
            "3  1104  環泥  上市\n",
            "4  1108  幸福  上市\n",
            "--------------------------\n",
            "('凡甲', '上櫃')\n"
          ]
        }
      ]
    },
    {
      "cell_type": "markdown",
      "metadata": {
        "id": "pyelatvvLiIn"
      },
      "source": [
        "### 8️⃣ 建構 GPT 3.5 模型"
      ]
    },
    {
      "cell_type": "code",
      "execution_count": null,
      "metadata": {
        "id": "aSjownHrGnde"
      },
      "outputs": [],
      "source": [
        "# 建立 GPT 3.5-16k 模型\n",
        "def get_reply(messages):\n",
        "    try:\n",
        "        response = client.chat.completions.create(\n",
        "            model = \"gpt-3.5-turbo\",\n",
        "            messages = messages\n",
        "        )\n",
        "        reply = response.choices[0].message.content\n",
        "    except OpenAIError as err:\n",
        "        reply = f\"發生 {err.type} 錯誤\\n{err.message}\"\n",
        "    return reply\n",
        "\n",
        "# 建立訊息指令(Prompt)\n",
        "def generate_content_msg(stock_id, name_df):\n",
        "    # 獲取股票名稱和類型\n",
        "    stock_name, stock_type = get_stock_name(stock_id, name_df) if stock_id != \"大盤\" else (stock_id, None)\n",
        "\n",
        "    # 根據股票類型調整股票ID\n",
        "    if stock_type == \"上市\":\n",
        "        stock_id += \".TW\"\n",
        "    elif stock_type == \"上櫃\":\n",
        "        stock_id += \".TWO\"\n",
        "\n",
        "    # 獲取股票價格和新聞資料\n",
        "    price_data = stock_price(stock_id)\n",
        "    news_data = stock_news(stock_name)\n",
        "\n",
        "    # 生成內容訊息\n",
        "    content_msg = f'請依據以下資料來進行分析並給出一份完整的分析報告:\\n'\n",
        "    content_msg += f'近期價格資訊:\\n {price_data}\\n'\n",
        "\n",
        "    if stock_id != \"大盤\":\n",
        "        stock_value_data = stock_fundamental(stock_id)\n",
        "        content_msg += f'每季營收資訊：\\n {stock_value_data}\\n'\n",
        "\n",
        "    content_msg += f'近期新聞資訊: \\n {news_data}\\n'\n",
        "    content_msg += f'請給我{stock_name}近期的趨勢報告,請以詳細、嚴謹及專業的角度撰寫此報告,並提及重要的數字, reply in 繁體中文'\n",
        "\n",
        "    return content_msg\n",
        "\n",
        "\n",
        "# StockGPT\n",
        "def stock_gpt(stock_id, name_df=name_df):\n",
        "    content_msg = generate_content_msg(stock_id, name_df)\n",
        "\n",
        "    msg = [{\n",
        "        \"role\": \"system\",\n",
        "        \"content\": f\"你現在是一位專業的證券分析師, 你會統整近期的股價\\\n",
        "      、基本面、新聞資訊等方面並進行分析, 然後生成一份專業的趨勢分析報告\"\n",
        "    }, {\n",
        "        \"role\": \"user\",\n",
        "        \"content\": content_msg\n",
        "    }]\n",
        "\n",
        "    reply_data = get_reply(msg)\n",
        "\n",
        "    return reply_data\n"
      ]
    },
    {
      "cell_type": "markdown",
      "metadata": {
        "id": "MkoAWO2GjnlT"
      },
      "source": [
        "### 9️⃣ 大盤趨勢報告"
      ]
    },
    {
      "cell_type": "code",
      "execution_count": null,
      "metadata": {
        "colab": {
          "base_uri": "https://localhost:8080/"
        },
        "id": "oDHvn0VCGPzH",
        "outputId": "4e218e8d-b9a3-46e9-b1a5-e88882a17a35"
      },
      "outputs": [
        {
          "output_type": "stream",
          "name": "stderr",
          "text": [
            "\r[*********************100%%**********************]  1 of 1 completed\n"
          ]
        },
        {
          "output_type": "stream",
          "name": "stdout",
          "text": [
            "根據最近的價格資訊，我們可以看到大盤收盤價在短時間內有波動，但整體呈現上升趨勢。截至 2024 年 3 月 4 日，大盤收盤價位於 19278.83984375 點，相較於前幾個交易日有明顯上升。每日報酬率方面，我們可以觀察到對應的漲跌價差，2024 年 2 月 26 日至 3 月 4 日間的漲跌價差分別為 58.861328125、-93.640625、112.359375、-30.83984375、342.91015625 點。從漲跌價差的變化來看，市場波動明顯。\n",
            "\n",
            "就新聞資訊而言，有關全球 CIS 龍頭日商索尼在台積電日本熊本新廠下單的消息顯示，半導體產業持續活躍，並伴隨著在地化生產趨勢，這對大盤有利，對於半導體產業的展望應予以關注。另外，AI 應用帶動的相關製造需求也帶來正面的市場因素。然而，投信資金有趁著電子股衝高後獲利了結的現象，顯示投資者在市場波動時持續保持警覺。\n",
            "\n",
            "從技術面分析來看，股價淨值比為 2.26 倍，且預估台股指數可達 20121 點，上漲空間僅剩 6.2%。考量到短期內大盤的波動，投資者應謹慎評估市場狀況及調整持股策略。\n",
            "\n",
            "綜合分析，雖然大盤短期內有波動，但整體呈現上升趨勢。在半導體產業持續活躍、AI 應用帶動的製造需求增加的情況下，對於市場帶來正面影響。然而，投信資金的獲利了結以及技術面上的警示，提醒投資者需謹慎評估風險並適時調整投資策略。\n",
            "\n",
            "以上報告僅供參考，投資者仍應自行進行詳細分析並謹慎評估風險後進行投資決策。\n"
          ]
        }
      ],
      "source": [
        "reply = stock_gpt(stock_id=\"大盤\")\n",
        "print(reply)"
      ]
    },
    {
      "cell_type": "markdown",
      "metadata": {
        "id": "BP5FkDxALp4e"
      },
      "source": [
        "### 🔟 上市上櫃都 OK"
      ]
    },
    {
      "cell_type": "code",
      "execution_count": null,
      "metadata": {
        "colab": {
          "base_uri": "https://localhost:8080/"
        },
        "id": "j1x0glPsNJe2",
        "outputId": "a823183f-c624-4a9e-86dc-3823884ca1c6"
      },
      "outputs": [
        {
          "output_type": "stream",
          "name": "stderr",
          "text": [
            "\r[*********************100%%**********************]  1 of 1 completed\n"
          ]
        },
        {
          "output_type": "stream",
          "name": "stdout",
          "text": [
            "【凡甲近期趨勢分析報告】\n",
            "\n",
            "一、價格趨勢分析\n",
            "根據最近一段時間的股價表現來看，凡甲股票的收盤價在2024年2月23日至3月4日之間波動不大，最高價為212.5元，最低價為208.0元，整體漲跌幅度較小。每日報酬率方面，2月26日至3月1日期間報酬率波動也較小，整體呈現穩定的走勢。\n",
            "\n",
            "二、基本面分析\n",
            "從凡甲近三季度的營收表現來看，公司營收呈現穩步增長的趨勢，2023年3月31日之負成長率變為2023年9月30日的正成長率，顯示了公司整體業務發展良好的跡象。此外，每股盈餘（EPS）亦有穩步增長，顯示公司盈利能力的提升。\n",
            "\n",
            "三、新聞事件分析\n",
            "根據最近新聞資訊，凡甲公司涉及的公告主要集中在公司內部決策及董事會重要決議等方面，並有轉換公司債相關公告。這些內部管理相關的消息對公司股價走勢影響較小。\n",
            "\n",
            "四、總結與建議\n",
            "綜合以上分析，整體來看，凡甲的股價走勢較為平穩，基本面表現良好，且公司內部管理穩健。建議投資者應密切關注公司的業務拓展以及內部管理的進一步優化，以獲取更穩定的投資收益。\n",
            "\n",
            "以上報告僅供參考，投資者在做出投資決策前還應對更多資訊進行研究及分析。\n"
          ]
        }
      ],
      "source": [
        "reply = stock_gpt(stock_id=\"3526\")\n",
        "print(reply)"
      ]
    }
  ],
  "metadata": {
    "colab": {
      "provenance": [],
      "include_colab_link": true
    },
    "kernelspec": {
      "display_name": "Python 3",
      "name": "python3"
    },
    "language_info": {
      "name": "python"
    }
  },
  "nbformat": 4,
  "nbformat_minor": 0
}