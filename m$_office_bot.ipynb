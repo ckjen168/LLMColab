{
  "cells": [
    {
      "cell_type": "markdown",
      "metadata": {
        "id": "view-in-github",
        "colab_type": "text"
      },
      "source": [
        "<a href=\"https://colab.research.google.com/github/ckjen168/LLMColab/blob/main/m%24_office_bot.ipynb\" target=\"_parent\"><img src=\"https://colab.research.google.com/assets/colab-badge.svg\" alt=\"Open In Colab\"/></a>"
      ]
    },
    {
      "cell_type": "markdown",
      "metadata": {
        "id": "Hwj7Yf7vhQP9"
      },
      "source": [
        "# 辦公室檔案機器人"
      ]
    },
    {
      "cell_type": "code",
      "execution_count": null,
      "metadata": {
        "id": "9ntMwfWogyxX"
      },
      "outputs": [],
      "source": [
        "!pip install langchain langchain_community langchain_openai rich --quiet"
      ]
    },
    {
      "cell_type": "code",
      "execution_count": null,
      "metadata": {
        "id": "9YFtjaYFiJ_k"
      },
      "outputs": [],
      "source": [
        "# 匯入套件和金鑰\n",
        "from google.colab import userdata\n",
        "from rich import print as pprint\n",
        "import os\n",
        "os.environ['OPENAI_API_KEY'] = userdata.get('OPENAI_API_KEY')"
      ]
    },
    {
      "cell_type": "markdown",
      "source": [
        "### 使用 RAG 處理資料"
      ],
      "metadata": {
        "id": "WiBUBgFyXCo6"
      }
    },
    {
      "cell_type": "code",
      "source": [
        "from langchain_text_splitters import RecursiveCharacterTextSplitter"
      ],
      "metadata": {
        "id": "V7B3m7SOFn67"
      },
      "execution_count": null,
      "outputs": []
    },
    {
      "cell_type": "code",
      "source": [
        "!pip install faiss-cpu"
      ],
      "metadata": {
        "id": "AYq-o4WiF5wN",
        "colab": {
          "base_uri": "https://localhost:8080/"
        },
        "outputId": "aa9c03ad-0804-47c1-9896-5e183da7ea87"
      },
      "execution_count": null,
      "outputs": [
        {
          "output_type": "stream",
          "name": "stdout",
          "text": [
            "Collecting faiss-cpu\n",
            "  Downloading faiss_cpu-1.9.0.post1-cp311-cp311-manylinux_2_17_x86_64.manylinux2014_x86_64.whl.metadata (4.4 kB)\n",
            "Requirement already satisfied: numpy<3.0,>=1.25.0 in /usr/local/lib/python3.11/dist-packages (from faiss-cpu) (1.26.4)\n",
            "Requirement already satisfied: packaging in /usr/local/lib/python3.11/dist-packages (from faiss-cpu) (24.2)\n",
            "Downloading faiss_cpu-1.9.0.post1-cp311-cp311-manylinux_2_17_x86_64.manylinux2014_x86_64.whl (27.5 MB)\n",
            "\u001b[2K   \u001b[90m━━━━━━━━━━━━━━━━━━━━━━━━━━━━━━━━━━━━━━━━\u001b[0m \u001b[32m27.5/27.5 MB\u001b[0m \u001b[31m41.2 MB/s\u001b[0m eta \u001b[36m0:00:00\u001b[0m\n",
            "\u001b[?25hInstalling collected packages: faiss-cpu\n",
            "Successfully installed faiss-cpu-1.9.0.post1\n"
          ]
        }
      ]
    },
    {
      "cell_type": "code",
      "source": [
        "from google.colab import drive\n",
        "drive.mount('/content/drive')"
      ],
      "metadata": {
        "id": "Wt_GUiqNW4Ci",
        "colab": {
          "base_uri": "https://localhost:8080/"
        },
        "outputId": "d3077227-5f3a-4a24-9026-1dfd50edfe7d"
      },
      "execution_count": null,
      "outputs": [
        {
          "output_type": "stream",
          "name": "stdout",
          "text": [
            "Mounted at /content/drive\n"
          ]
        }
      ]
    },
    {
      "cell_type": "code",
      "source": [
        "from langchain_community.vectorstores import FAISS\n",
        "from langchain_openai import OpenAIEmbeddings"
      ],
      "metadata": {
        "id": "pg7GW71eW1xR"
      },
      "execution_count": null,
      "outputs": []
    },
    {
      "cell_type": "code",
      "source": [
        "from langchain_core.output_parsers import StrOutputParser\n",
        "from langchain_core.prompts import ChatPromptTemplate\n",
        "from langchain_core.runnables import RunnablePassthrough\n",
        "from langchain_openai import ChatOpenAI"
      ],
      "metadata": {
        "id": "8TU7ENyeR04C"
      },
      "execution_count": null,
      "outputs": []
    },
    {
      "cell_type": "code",
      "source": [
        "embeddings = OpenAIEmbeddings()"
      ],
      "metadata": {
        "id": "jySoD6G6Fu30"
      },
      "execution_count": null,
      "outputs": []
    },
    {
      "cell_type": "code",
      "source": [
        "chat_model = ChatOpenAI()\n",
        "str_parser = StrOutputParser()\n",
        "template = (\n",
        "    \"請根據以下內容加上自身判斷回答問題:\\n\"\n",
        "    \"{context}\\n\"\n",
        "    \"問題: {question}\"\n",
        "    )\n",
        "prompt = ChatPromptTemplate.from_template(template)"
      ],
      "metadata": {
        "id": "fnHqTxYs1wzx"
      },
      "execution_count": null,
      "outputs": []
    },
    {
      "cell_type": "code",
      "source": [
        "!curl https://flagtech.github.io/F4763/example_excel.xlsx -o example_excel.xlsx\n",
        "!curl https://flagtech.github.io/F4763/example_ppt.pptx -o example_ppt.pptx\n",
        "!curl https://flagtech.github.io/F4763/example_word.docx -o example_word.docx\n",
        "!curl https://flagtech.github.io/F4763/example_csv.csv -o example_csv.csv"
      ],
      "metadata": {
        "id": "VkKm5XNCGYtt",
        "colab": {
          "base_uri": "https://localhost:8080/"
        },
        "outputId": "3ebd749a-17ac-43b4-bc22-4c0013871af5"
      },
      "execution_count": null,
      "outputs": [
        {
          "output_type": "stream",
          "name": "stdout",
          "text": [
            "  % Total    % Received % Xferd  Average Speed   Time    Time     Time  Current\n",
            "                                 Dload  Upload   Total   Spent    Left  Speed\n",
            "100 15565  100 15565    0     0  47235      0 --:--:-- --:--:-- --:--:-- 47310\n",
            "  % Total    % Received % Xferd  Average Speed   Time    Time     Time  Current\n",
            "                                 Dload  Upload   Total   Spent    Left  Speed\n",
            "100 5760k  100 5760k    0     0   9.8M      0 --:--:-- --:--:-- --:--:--  9.8M\n",
            "  % Total    % Received % Xferd  Average Speed   Time    Time     Time  Current\n",
            "                                 Dload  Upload   Total   Spent    Left  Speed\n",
            "100 25352  100 25352    0     0  79678      0 --:--:-- --:--:-- --:--:-- 79723\n",
            "  % Total    % Received % Xferd  Average Speed   Time    Time     Time  Current\n",
            "                                 Dload  Upload   Total   Spent    Left  Speed\n",
            "100  1976  100  1976    0     0   9939      0 --:--:-- --:--:-- --:--:--  9979\n"
          ]
        }
      ]
    },
    {
      "cell_type": "markdown",
      "source": [
        "由於 Colab 預先安裝的 NLTK 套件版本是 3.8.1, 但是 unstructured 套件需要使用新版的 NLTK 套件, 所以要先更新套件版本, 才不會出錯。"
      ],
      "metadata": {
        "id": "ACHsmFgVEUdb"
      }
    },
    {
      "cell_type": "code",
      "source": [
        "# unstructured 需要新版 3.9.1 的 nltk, Colab 預先安裝的是 3.8.1\n",
        "!pip install --upgrade nltk\n",
        "!pip install unstructured python-docx python-pptx -q"
      ],
      "metadata": {
        "id": "-GpB4j--Zxd3",
        "colab": {
          "base_uri": "https://localhost:8080/"
        },
        "collapsed": true,
        "outputId": "456e091e-ba46-4706-f65d-6b700ca8d82b"
      },
      "execution_count": null,
      "outputs": [
        {
          "output_type": "stream",
          "name": "stdout",
          "text": [
            "Requirement already satisfied: nltk in /usr/local/lib/python3.11/dist-packages (3.9.1)\n",
            "Requirement already satisfied: click in /usr/local/lib/python3.11/dist-packages (from nltk) (8.1.8)\n",
            "Requirement already satisfied: joblib in /usr/local/lib/python3.11/dist-packages (from nltk) (1.4.2)\n",
            "Requirement already satisfied: regex>=2021.8.3 in /usr/local/lib/python3.11/dist-packages (from nltk) (2024.11.6)\n",
            "Requirement already satisfied: tqdm in /usr/local/lib/python3.11/dist-packages (from nltk) (4.67.1)\n",
            "\u001b[2K     \u001b[90m━━━━━━━━━━━━━━━━━━━━━━━━━━━━━━━━━━━━━━━━\u001b[0m \u001b[32m981.5/981.5 kB\u001b[0m \u001b[31m16.0 MB/s\u001b[0m eta \u001b[36m0:00:00\u001b[0m\n",
            "\u001b[?25h  Preparing metadata (setup.py) ... \u001b[?25l\u001b[?25hdone\n",
            "\u001b[2K   \u001b[90m━━━━━━━━━━━━━━━━━━━━━━━━━━━━━━━━━━━━━━━━\u001b[0m \u001b[32m1.8/1.8 MB\u001b[0m \u001b[31m21.6 MB/s\u001b[0m eta \u001b[36m0:00:00\u001b[0m\n",
            "\u001b[2K   \u001b[90m━━━━━━━━━━━━━━━━━━━━━━━━━━━━━━━━━━━━━━━━\u001b[0m \u001b[32m244.3/244.3 kB\u001b[0m \u001b[31m13.9 MB/s\u001b[0m eta \u001b[36m0:00:00\u001b[0m\n",
            "\u001b[2K   \u001b[90m━━━━━━━━━━━━━━━━━━━━━━━━━━━━━━━━━━━━━━━━\u001b[0m \u001b[32m472.8/472.8 kB\u001b[0m \u001b[31m13.1 MB/s\u001b[0m eta \u001b[36m0:00:00\u001b[0m\n",
            "\u001b[2K   \u001b[90m━━━━━━━━━━━━━━━━━━━━━━━━━━━━━━━━━━━━━━━━\u001b[0m \u001b[32m159.9/159.9 kB\u001b[0m \u001b[31m6.7 MB/s\u001b[0m eta \u001b[36m0:00:00\u001b[0m\n",
            "\u001b[2K   \u001b[90m━━━━━━━━━━━━━━━━━━━━━━━━━━━━━━━━━━━━━━━━\u001b[0m \u001b[32m590.6/590.6 kB\u001b[0m \u001b[31m28.2 MB/s\u001b[0m eta \u001b[36m0:00:00\u001b[0m\n",
            "\u001b[2K   \u001b[90m━━━━━━━━━━━━━━━━━━━━━━━━━━━━━━━━━━━━━━━━\u001b[0m \u001b[32m274.9/274.9 kB\u001b[0m \u001b[31m17.9 MB/s\u001b[0m eta \u001b[36m0:00:00\u001b[0m\n",
            "\u001b[2K   \u001b[90m━━━━━━━━━━━━━━━━━━━━━━━━━━━━━━━━━━━━━━━━\u001b[0m \u001b[32m3.1/3.1 MB\u001b[0m \u001b[31m53.5 MB/s\u001b[0m eta \u001b[36m0:00:00\u001b[0m\n",
            "\u001b[2K   \u001b[90m━━━━━━━━━━━━━━━━━━━━━━━━━━━━━━━━━━━━━━━━\u001b[0m \u001b[32m63.6/63.6 kB\u001b[0m \u001b[31m4.6 MB/s\u001b[0m eta \u001b[36m0:00:00\u001b[0m\n",
            "\u001b[2K   \u001b[90m━━━━━━━━━━━━━━━━━━━━━━━━━━━━━━━━━━━━━━━━\u001b[0m \u001b[32m298.0/298.0 kB\u001b[0m \u001b[31m19.8 MB/s\u001b[0m eta \u001b[36m0:00:00\u001b[0m\n",
            "\u001b[2K   \u001b[90m━━━━━━━━━━━━━━━━━━━━━━━━━━━━━━━━━━━━━━━━\u001b[0m \u001b[32m114.6/114.6 kB\u001b[0m \u001b[31m9.2 MB/s\u001b[0m eta \u001b[36m0:00:00\u001b[0m\n",
            "\u001b[?25h  Building wheel for langdetect (setup.py) ... \u001b[?25l\u001b[?25hdone\n"
          ]
        }
      ]
    },
    {
      "cell_type": "code",
      "source": [
        "import nltk\n",
        "nltk.download('punkt_tab')\n",
        "nltk.download('averaged_perceptron_tagger_eng')"
      ],
      "metadata": {
        "colab": {
          "base_uri": "https://localhost:8080/"
        },
        "id": "UE5-7GDTxcJl",
        "outputId": "a57d0f6b-74be-4eb2-e6c1-38e4cc67d31d"
      },
      "execution_count": null,
      "outputs": [
        {
          "output_type": "stream",
          "name": "stderr",
          "text": [
            "[nltk_data] Downloading package punkt_tab to /root/nltk_data...\n",
            "[nltk_data]   Unzipping tokenizers/punkt_tab.zip.\n",
            "[nltk_data] Downloading package averaged_perceptron_tagger_eng to\n",
            "[nltk_data]     /root/nltk_data...\n",
            "[nltk_data]   Unzipping taggers/averaged_perceptron_tagger_eng.zip.\n"
          ]
        },
        {
          "output_type": "execute_result",
          "data": {
            "text/plain": [
              "True"
            ]
          },
          "metadata": {},
          "execution_count": 15
        }
      ]
    },
    {
      "cell_type": "code",
      "source": [
        "from langchain_community.document_loaders import (\n",
        "    UnstructuredFileLoader)"
      ],
      "metadata": {
        "id": "IwqXABh9Voal"
      },
      "execution_count": null,
      "outputs": []
    },
    {
      "cell_type": "code",
      "source": [
        "def office_file(file_path):\n",
        "    loader = UnstructuredFileLoader(file_path)\n",
        "    docs = loader.load()\n",
        "    return docs"
      ],
      "metadata": {
        "id": "pcyHjPNNYDKg"
      },
      "execution_count": null,
      "outputs": []
    },
    {
      "cell_type": "markdown",
      "source": [
        "### PowerPoint"
      ],
      "metadata": {
        "id": "8S7kJK3t9i2j"
      }
    },
    {
      "cell_type": "code",
      "source": [
        "ppt_docs = office_file('/content/example_ppt.pptx')\n",
        "pprint(ppt_docs)"
      ],
      "metadata": {
        "id": "otDjnMAhYERR",
        "colab": {
          "base_uri": "https://localhost:8080/",
          "height": 1000
        },
        "outputId": "59e84854-7a1f-4300-eb0b-3d2e1d4c9514"
      },
      "execution_count": null,
      "outputs": [
        {
          "output_type": "stream",
          "name": "stderr",
          "text": [
            "<ipython-input-17-58840717bebd>:2: LangChainDeprecationWarning: The class `UnstructuredFileLoader` was deprecated in LangChain 0.2.8 and will be removed in 1.0. An updated version of the class exists in the :class:`~langchain-unstructured package and should be used instead. To use it run `pip install -U :class:`~langchain-unstructured` and import as `from :class:`~langchain_unstructured import UnstructuredLoader``.\n",
            "  loader = UnstructuredFileLoader(file_path)\n"
          ]
        },
        {
          "output_type": "display_data",
          "data": {
            "text/plain": [
              "\u001b[1m[\u001b[0m\n",
              "    \u001b[1;35mDocument\u001b[0m\u001b[1m(\u001b[0m\n",
              "        \u001b[33mmetadata\u001b[0m=\u001b[1m{\u001b[0m\u001b[32m'source'\u001b[0m: \u001b[32m'/content/example_ppt.pptx'\u001b[0m\u001b[1m}\u001b[0m,\n",
              "        \u001b[33mpage_content\u001b[0m=\u001b[32m'立法院第10屆第3會期經濟委員會\\n\\n國家發展委員會\\x0b業務報告\\n\\n國家發展委員會\\n\\n主任委員 \u001b[0m\n",
              "\u001b[32m龔明鑫\\n\\n\\n\\n全球經濟恢復成長\\n\\n國際機構全球經濟成長率預測\\n\\n單位：%\\n\\n2021年1月預測\\n\\n2021年2月預測\\n\\n2021年\u001b[0m\n",
              "\u001b[32m3月預測\\n\\n經濟風險仍高：疫情尚難緩和、美中衝突長期化、全球債務\\x0b攀升金融風險升高、不均衡復甦\\n\\n\\n\\n2021年展望\\n\u001b[0m\n",
              "\u001b[32m\\n實質輸出成長+5.05%\\n\\n全球貿易量回升\\n\\n數位轉型商機\\n\\n新興科技應用需求仍殷\\n\\n2021年\u001b[0m\u001b[32m(\u001b[0m\u001b[32mf\u001b[0m\u001b[32m)\u001b[0m\u001b[32m  \u001b[0m\n",
              "\u001b[32m(\u001b[0m\u001b[32m+4.64%\u001b[0m\u001b[32m)\u001b[0m\u001b[32m\\n\\n單位：%\\n\\n近7年新高!!\\n\\n實質民間消費成長+3.74%\\n\\n國內就業市場穩定\\n\\n國內外股市活絡\\n\\n2020年\u001b[0m\u001b[32m(\u001b[0m\u001b[32mp\u001b[0m\u001b[32m)\u001b[0m\u001b[32m  \u001b[0m\n",
              "\u001b[32m(\u001b[0m\u001b[32m+3.11%\u001b[0m\u001b[32m)\u001b[0m\u001b[32m\\n\\n實質固定投資成長+3.50%\\n\\n半導體、5G及綠能投資\\n\\n臺商回臺三大方案\\n\\n註： \u001b[0m\n",
              "\u001b[32m(\u001b[0m\u001b[32mp\u001b[0m\u001b[32m)\u001b[0m\u001b[32m表初步統計數，\u001b[0m\u001b[32m(\u001b[0m\u001b[32mf\u001b[0m\u001b[32m)\u001b[0m\u001b[32m表預測數。\\n\\n資料來源：行政院主計總處，2021年2月20日。\\n\\n\\n\\n施政方向與重點\\n\\n創新導向，\\n\\n\u001b[0m\n",
              "\u001b[32m成為全球經濟關鍵力量\\n\\n延攬精英，\\n\\n成為國際人才匯集中心\\n\\n精進治理，\\n\\n落實區域永續平衡發展\\n\\n數位政府，\\n\\n\u001b[0m\n",
              "\u001b[32m提升全方位施政效能\\n\\n\\n\\n創新導向，成為全球經濟關鍵力量\\n\\n\\n\\n1\\n\\n協調推動六大核心戰略產業\\n\\n本會、經濟部、科技\u001b[0m\n",
              "\u001b[32m部等18個單位共同推動，\\x0b讓臺灣成為全球經濟的關鍵力量\\n\\n\\n\\n世界經濟論壇\u001b[0m\u001b[32m(\u001b[0m\u001b[32mWEF\u001b[0m\u001b[32m)\u001b[0m\u001b[32m107、108連續兩年評比\\n\\n亞洲‧矽谷1.0\u001b[0m\n",
              "\u001b[32m重要成果\\n\\n2-1\\n\\n臺灣全球4大超級創新國之一\\n\\n積極投資新創\\n\\n物聯網成為兆元產業\\n\\n加碼匡列\\n\\n20億→50億\\n\\n已通\u001b[0m\n",
              "\u001b[32m過131家企業， \u001b[0m\n",
              "\u001b[32m\\n\\n投資19.28億、\\n\\n帶動投資50.48億元\\n\\n形塑國家新創品牌\\n\\n如亞矽執行中心已協助思科於桃園設立智慧創新應用示範中\u001b[0m\n",
              "\u001b[32m心\\n\\n通過181案、投資29.4億\\n\\nStartup Island TAIWAN於CES、Meet \u001b[0m\n",
              "\u001b[32mTaipei等大型國際展曝光\\n\\n引進國際大廠創新研發資源\\n\\n與經濟部共同推動智慧城鄉有感服務\\n\\n活絡人才及法規調適\\n\\nAI\u001b[0m\n",
              "\u001b[32m篩檢及早治療\\n\\n5種眼疾辨識\\n\\n精準度達85%\\n\\n路邊停車位\\n\\n尋位時間 \u001b[0m\n",
              "\u001b[32m\\n\\n減少5-8分\\n\\nAi客製化\\n\\n英語課程\\n\\n提升雙語競爭力\\n\\n空汙AI監測\\n\\n環保稽核效能 \u001b[0m\n",
              "\u001b[32m\\n\\n提高6倍\\n\\n交通\\n\\n停車\\n\\n健康\\n\\n醫療\\n\\n環境\\n\\n品質\\n\\n223項\\n\\n智慧解決方案\\n\\n教育\\n\\n學習\\n\\n出遊旅運\\n\\\u001b[0m\n",
              "\u001b[32mn國道60%路線\\n\\n免排隊購票\\n\\n運用無人機 \\n\\n農耕效率 \u001b[0m\n",
              "\u001b[32m\\n\\n提升10倍\\n\\n新創法規調適平臺已釐清34項法規議題，如透過平臺業者 \u001b[0m\n",
              "\u001b[32m銷售旅遊及健康保險等\\n\\n已核發2,243張就業金卡，首張YouTube創辦人陳士駿已回台協助新創發展\\n\\n農畜\\n\\n漁牧\\n\\n觀光\\n\\\u001b[0m\n",
              "\u001b[32mn零售\\n\\n導入全台22縣市\\n\\n7\\n\\n\\n\\n亞洲‧矽谷2.0規劃方向\\n\\n2-2\\n\\n亞洲‧矽谷2.0\\n\\n\u001b[0m\u001b[32m(\u001b[0m\u001b[32m2021-2024年\u001b[0m\u001b[32m)\u001b[0m\u001b[32m\\n\\n1.1  \u001b[0m\n",
              "\u001b[32m加速AIoT關鍵技術研發\\n\\n1.2  推動國產化5G開放網路\\n\\n1.3  強化5G、AI數位科技應用\\n\\n1.4  促成智慧城鄉跨域合作\\n\\n  \u001b[0m\n",
              "\u001b[32m擴大AIoT\\n\\n       科技應用\\n\\n願景\\n\\n策略1\\n\\n打造台灣成為亞洲數位創新的關鍵力量\\n\\n2.1  \u001b[0m\n",
              "\u001b[32m擴大投融資加速新創成長\\n\\n2.2  形塑國家新創品牌強化商機拓展\\n\\n2.3  促成多元出場帶動正向循環\\n\\n       精進新創\\n\\n\u001b[0m\n",
              "\u001b[32m發展環境\\n\\n策略2\\n\\n3.1  深化物聯網國際夥伴關係\\n\\n3.2  打造國際級亞矽創新聚落\\n\\n3.3  促進AIoT輸出海外市場\\n\\n   \u001b[0m\n",
              "\u001b[32m匯聚系統\\n\\n     輸出能量\\n\\n策略3\\n\\n2025 \u001b[0m\n",
              "\u001b[32mIoT產值\\n\\n占全球比重\\n\\n5%\\n\\nAIoT解決\\n\\n方案海外輸出\\n\\n20案\\n\\n促成新創出場\\n\\n40案\\n\\n培育國際級\\n\\n系統整合公\u001b[0m\n",
              "\u001b[32m司\\n\\n3家\\n\\n促成新創\\n\\n事業成功\\n\\n200家\\n\\n目標\\n\\n8\\n\\n\\n\\n3\\n\\n強化產業及金融鏈結\\n\\n國家融資保證機制\\n\\n保證\u001b[0m\n",
              "\u001b[32m對象\\n\\n行政院109年11月核定「國家融資保證機制推動方案」\\n\\n由國發基金與銀行共同提供專款，提供融資計畫最高6成保證，\u001b[0m\n",
              "\u001b[32m由輸銀擔任執行單位，促進金融機構參與綠能等 \u001b[0m\n",
              "\u001b[32m重大經濟建設\\n\\n110年1月輸銀成立「國家融資保證中心」，將協助業者及銀行申請\\n\\n綠能建設\\n\\n綠能設備與服務\\n\\n重大公\u001b[0m\n",
              "\u001b[32m共建設\\n\\n促進私募股權基金投資產業\\n\\nPE\\n\\n規劃以私募股權基金專業知識結合國內民間資金， \u001b[0m\n",
              "\u001b[32m投入六大、5+2、前瞻基礎建設及具升級或轉型需求之產業，以促進重要策略性產業發展\\n\\n研訂促進私募股權基金投資產業輔導要\u001b[0m\n",
              "\u001b[32m點\u001b[0m\u001b[32m(\u001b[0m\u001b[32m草案\u001b[0m\u001b[32m)\u001b[0m\u001b[32m，   規範PE資格、投資產業面向，公私協力認定機制\\n\\n民間資金\\n\\n六大\\n\\n5+2\\n\\n 前瞻\\n\\n \u001b[0m\n",
              "\u001b[32m升級轉型\\n\\n\\n\\n國發基金投融資計畫\\n\\n透過多元投資及融資方式，協助企業取得營運發展所需資金\\n\\n強化產業數位轉型，要\u001b[0m\n",
              "\u001b[32m求投資事業提出數位轉型計畫\\n\\n投資業務 投資件數 總投資金額\u001b[0m\u001b[32m(\u001b[0m\u001b[32m億元\u001b[0m\u001b[32m)\u001b[0m\u001b[32m 直接投資 62 619.48 投資創業投資事業 53 113.37 \u001b[0m\n",
              "\u001b[32m專案投資 280 78.59 創業天使投資方案 131 19.18 投資新創特別股專案 181 29.41\\n\\n貸款項目 累計核貸件數 \u001b[0m\n",
              "\u001b[32m累計核貸金額\u001b[0m\u001b[32m(\u001b[0m\u001b[32m億元\u001b[0m\u001b[32m)\u001b[0m\u001b[32m 歡迎台商回台投資專案貸款 159 2,786.14 根留台灣企業加速投資專案貸款 66 613.19 海外投資融資貸款 \u001b[0m\n",
              "\u001b[32m102 209.66 其他協助產業政策等貸款 3,961 \u001b[0m\n",
              "\u001b[32m817.12\\n\\n\\n\\n推展數位經濟國際鏈結\\n\\n4\\n\\n高階政策對話平台\\n\\n臺美數位經濟論壇\u001b[0m\u001b[32m(\u001b[0m\u001b[32mDEF\u001b[0m\u001b[32m)\u001b[0m\u001b[32m\\n\\n臺歐盟數位經濟對話\u001b[0m\u001b[32m(\u001b[0m\u001b[32mDDE\u001b[0m\u001b[32m)\u001b[0m\u001b[32m\\n\\n\u001b[0m\n",
              "\u001b[32m本會與歐盟資通訊網絡暨科技    \u001b[0m\n",
              "\u001b[32m總署共同舉辦\\n\\n第1屆會議\u001b[0m\u001b[32m(\u001b[0m\u001b[32m2019年布魯塞爾\u001b[0m\u001b[32m)\u001b[0m\u001b[32m\\n\\n會議主題：總體數位政策、產業數位轉型及人工智慧、數位科技基礎建設、數位\u001b[0m\n",
              "\u001b[32m技能與工作、數位治理、GDPR、金融科技\\n\\n第2屆會議\u001b[0m\u001b[32m(\u001b[0m\u001b[32m2020年12月視訊會議\u001b[0m\u001b[32m)\u001b[0m\u001b[32m\\n\\n會議主題：總體數位經濟發展政策、研究與科技\u001b[0m\n",
              "\u001b[32m合作、區塊鏈、人工智慧、資安產業認證、資料經濟、歐亞數位連結\\n\\n未來將持續召開第3屆\\n\\n本會與美國在台協會\u001b[0m\u001b[32m(\u001b[0m\u001b[32mAIT\u001b[0m\u001b[32m)\u001b[0m\u001b[32m共同\u001b[0m\n",
              "\u001b[32m籌辦，已輪流在台美舉辦3屆會議，於DEF架構下規劃合作項目\\n\\n五大合作面向:\\n\\n數位貿易與投資\\n\\n創新創業\\n\\n智慧技術\u001b[0m\u001b[32m(\u001b[0m\n",
              "\u001b[32m智慧城市、IoT及FinTech\u001b[0m\u001b[32m)\u001b[0m\u001b[32m\\n\\n網路安全\\n\\n全球合作\\n\\n第4屆由美方主辦，規劃於2021年召開\\n\\n\\n\\n延攬精英，成為國際人才\u001b[0m\n",
              "\u001b[32m匯集中心\\n\\n\\n\\n1\\n\\n打造2030雙語國家\\n\\n更進一步接軌國際\\n\\n提升我國人才與產業的國際競爭力\\n\\n提升國人雙語力及數位\u001b[0m\n",
              "\u001b[32m力\\n\\n培育專業領域的雙語人才\\n\\n處理國際組織及使用英語國家之涉外業務公務人員\\n\\n國發會\\x0b統合協調\\n\\n教育部等相關\u001b[0m\n",
              "\u001b[32m部會\\n\\n教育體系\\n\\n非教育體系\\n\\n\u001b[0m\u001b[32m(\u001b[0m\u001b[32m教育部\u001b[0m\u001b[32m)\u001b[0m\u001b[32m\\n\\n\u001b[0m\u001b[32m(\u001b[0m\u001b[32m國發會\u001b[0m\u001b[32m)\u001b[0m\u001b[32m\\n\\n成立行政法人專責推動\\n\\n以重點培育及普及提升為\\x0b推動主\u001b[0m\n",
              "\u001b[32m軸，提升學生英語力\\n\\n運用數位科技提升英語力\\n\\n增加英語師資擴充英語教學能量\\n\\n雙語資料庫\\n\\n學習資源網\\n\\n偏遠地\u001b[0m\n",
              "\u001b[32m區\\n\\n數位學習資源\\n\\n國際學習資源\\n\\n強化學校數位學習軟硬體量能\\n\\n設立國際影音頻道\\n\\n\u001b[0m\u001b[32m(\u001b[0m\u001b[32m教育部、通傳會、科會辦、國\u001b[0m\n",
              "\u001b[32m發會\u001b[0m\u001b[32m)\u001b[0m\u001b[32m\\n\\n延攬外國專業人才來臺\\n\\n成立專業領域英語學院\\n\\n\u001b[0m\u001b[32m(\u001b[0m\u001b[32m文化部\u001b[0m\u001b[32m)\u001b[0m\u001b[32m\\n\\n擴增英語檢測量能\\n\\n\u001b[0m\u001b[32m(\u001b[0m\u001b[32m教育部、金管會、文化部\u001b[0m\u001b[32m)\u001b[0m\u001b[32m\\n\u001b[0m\n",
              "\u001b[32m\\n提升涉外業務\\x0b公務人員英語力\\n\\n\u001b[0m\u001b[32m(\u001b[0m\u001b[32m考選部、人事行政總處\u001b[0m\u001b[32m)\u001b[0m\u001b[32m\\n\\n13\\n\\n\\n\\n2\\n\\n積極培育本土數位人才\\n\\n本會協同相關部\u001b[0m\n",
              "\u001b[32m會研擬「關鍵人才培育及延攬方案\u001b[0m\u001b[32m(\u001b[0m\u001b[32m草案\u001b[0m\u001b[32m)\u001b[0m\u001b[32m」，俟報院核定後，協調相關部會全力落實推動，提升國家競爭力\\n\\n\\n\\n3\\n\\n致力延攬\u001b[0m\n",
              "\u001b[32m國際專業人才\\n\\n推動外國人才專法修法\\n\\n109.11.14 完成預告\\n\\n110.1.29 \u001b[0m\n",
              "\u001b[32m陳報行政院\\n\\n鬆綁工作條件，爭取優秀外國大學畢業生等\\n\\n放寬居留及依親規定，縮短申請永居年限等\\n\\n優化社會保障，增\u001b[0m\n",
              "\u001b[32m加租稅、健保等誘因\\n\\n內容\\n\\n進度\\n\\n實施攬才配套，發揮外國人才專法推動綜效\\n\\n109.10成立就業金卡辦公室，提供一條\u001b[0m\n",
              "\u001b[32m龍專案服務\\n\\n整合就業PASS卡及創業家簽證，納入就業金卡線上  \u001b[0m\n",
              "\u001b[32m申辦平台\\n\\n推動2030雙語國家政策，以及完善海外人才子女在臺教育環境\u001b[0m\u001b[32m(\u001b[0m\u001b[32m教育部\u001b[0m\u001b[32m)\u001b[0m\u001b[32m\\n\\n鎖定我國所需人才，  \u001b[0m\n",
              "\u001b[32m精準全球延攬\\n\\n協助國際人才對接我國產業\u001b[0m\u001b[32m(\u001b[0m\u001b[32m經濟部、科技部等\u001b[0m\u001b[32m)\u001b[0m\u001b[32m\\n\\n強化吸引外國學生      \u001b[0m\n",
              "\u001b[32m來臺就讀重點領域科系\u001b[0m\u001b[32m(\u001b[0m\u001b[32m教育部\u001b[0m\u001b[32m)\u001b[0m\u001b[32m\\n\\n\\n\\n精進治理，落實區域永續平衡發展\\n\\n\\n\\n規劃、審議及管考前瞻基礎建設計畫\\n\\n1\\n\\n\u001b[0m\n",
              "\u001b[32m\\n\\n2\\n\\n精實推動地方創生\\n\\n新增多元徵案管道\\n\\n活化公有空間\\n\\n提供地方團隊實體交流及事業經營空間\\n\\n開放地方團隊\u001b[0m\n",
              "\u001b[32m申請\\n\\n設置在地青年工作站\\n\\n建立地方創生計畫\\n\\n支援系統\\n\\n提供實質補助\\n\\n引領人才返鄉、留鄉\\n\\n成立專案辦公室\\\u001b[0m\n",
              "\u001b[32mn\\n強化政策指導、統合推動及國際連結\\n\\n\\n\\n3\\n\\n優化花東離島建設\\n\\n花東地區永續發展基金\\x0b110年國庫撥充基金255.8\u001b[0m\n",
              "\u001b[32m億元\\x0b110年度基金編列補助預算27億元推動花東  地區相關建設\\n\\n離島建設基金110年編列支出9億元，促進    \u001b[0m\n",
              "\u001b[32m各項基礎建設，並將進行整體發展策略規劃，引導離島朝向永續發展\\n\\n4\\n\\n中興新村整體規劃方向\\n\\n行政機能區\u001b[0m\u001b[32m(\u001b[0m\u001b[32m北核心\u001b[0m\u001b[32m)\u001b[0m\u001b[32m：約\u001b[0m\n",
              "\u001b[32m56公頃     \\n\\n \u001b[0m\u001b[32m(\u001b[0m\u001b[32m行政機關、職務宿舍\u001b[0m\u001b[32m)\u001b[0m\u001b[32m\\n\\n休閒生活區\u001b[0m\u001b[32m(\u001b[0m\u001b[32m中核心\u001b[0m\u001b[32m)\u001b[0m\u001b[32m：約106公頃\\n\\n大學城：約62公頃\u001b[0m\u001b[32m(\u001b[0m\u001b[32m含高爾夫球場\u001b[0m\u001b[32m)\u001b[0m\u001b[32m\\n\\n  \u001b[0m\n",
              "\u001b[32m(\u001b[0m\u001b[32m中興大學南投校區預定地 \u001b[0m\n",
              "\u001b[32m)\u001b[0m\u001b[32m\\n\\n\\n\\n5\\n\\n規劃、協調提出「健全房地產市場方案」\\n\\n各部會啟動各項作為\\n\\n內政部啟動強化預售屋稽查、完成實價登錄2\u001b[0m\n",
              "\u001b[32m.0   相關修法；財政部為防杜以股權交易避稅，啟動 \u001b[0m\n",
              "\u001b[32m專案查核計畫及完成修法等作為，並提出房地合一稅修正案，精準打擊房巿投機炒作；央行針對不動產貸款啟動選擇性信用管制\\n\\\u001b[0m\n",
              "\u001b[32mn四大目標：防炒作房市、防逃漏稅、防止房市資金泛濫，落實居住正義\\n\\n政府迅即採取對策\\n\\n持續觀察後續成效，必要時提出\u001b[0m\n",
              "\u001b[32m具體作為，確保房巿健全發展\\n\\n行政院109年12月通過「健全房地產市場方案」\\n\\n\\n\\n數位政府，提升全方位施政效能\\n\\n\\n\\n\u001b[0m\n",
              "\u001b[32m1\\n\\n優化服務型智慧政府\\n\\n服務型智慧政府2.0推動計畫\u001b[0m\u001b[32m(\u001b[0m\u001b[32m110年至114年\u001b[0m\u001b[32m)\u001b[0m\u001b[32m\\n\\n加速開放資料釋出\\n\\n精進跨機關服務\\n\\n加強循\u001b[0m\n",
              "\u001b[32m證式決策\\n\\n擴大釋出高價值資料與資料再利用程序化\\n\\n推動民生相關資料應用典範\\n\\n簡化民眾申辦程序\\n\\n建構跨機關全程 \u001b[0m\n",
              "\u001b[32m  \u001b[0m\n",
              "\u001b[32m線上申辦\\n\\n聚焦民生關切議題\\n\\n運用跨機關資料分析轉助施政決策\\n\\n完備「資料治理生態」\\n\\n打造「智慧政府服務」\\n\\n\\\u001b[0m\n",
              "\u001b[32mn\\n2\\n\\n推展開放政府國家行動方案\\n\\n19承諾事項\\n\\n5大範疇\\n\\n公私協力推動\\n\\n機制\\n\\n推動資料開放\\n\\n與資訊公開\\n\\n\u001b[0m\n",
              "\u001b[32m落實\\n\\n清廉施政\\n\\n執行\\n\\n洗錢防制\\n\\n擴大\\n\\n公共參與\\n\\n增加性別及族\\n\\n群包容性對話\\n\\n11個權責機關落實執行承\u001b[0m\n",
              "\u001b[32m諾事項\\n\\n本會辦理培力宣導、執行評估\\n\\n工作重點 \u001b[0m\n",
              "\u001b[32m:\\n\\n3\\n\\n積極推動政府服務創新\\n\\n本會辦理第4屆政府服務獎\\n\\n引導機關公私 \u001b[0m\n",
              "\u001b[32m協作服務創新\\n\\n結合數位科技發展多元服務\\n\\n協助經驗交流及標竿學習\\n\\n\\n\\n4\\n\\n推動績效管理智慧化\\n\\n透過計畫績效管\u001b[0m\n",
              "\u001b[32m理智慧化， \u001b[0m\n",
              "\u001b[32m找出最佳資源分配方式，進一步提升公共建設執行效能\\n\\n109年公共建設計畫經費達成率95.48%，創下近13年新高\\n\\n政府計畫管\u001b[0m\n",
              "\u001b[32m理資訊系統升級\\n\\n\u001b[0m\u001b[32m(\u001b[0m\u001b[32m善用科技整合管理\u001b[0m\u001b[32m)\u001b[0m\u001b[32m\\n\\n政府計畫資料\\n\\n多元整合及決策支援\\n\\n \u001b[0m\n",
              "\u001b[32m(\u001b[0m\u001b[32m資料探勘、數據分析及應用\u001b[0m\u001b[32m)\u001b[0m\u001b[32m\\n\\n\\n\\n5\\n\\n建構優質經商法制環境\\n\\n協調部會推動法規鬆綁工作\\n\\n累計共777項成果\\n\\n協處\u001b[0m\n",
              "\u001b[32m國內外商會建言，改善投資環境\\n\\n109年檢討757項議題，協調美、歐、日商會及工總議題，\\x0b友善外人在臺工作、健全能源發\u001b[0m\n",
              "\u001b[32m展法規及提升金融e化等\\n\\n\\n\\n推動檔案整合、創新與智慧服務\\n\\n6\\n\\n\u001b[0m\u001b[32m(\u001b[0m\u001b[32mArchives Integration, Innovation and \u001b[0m\n",
              "\u001b[32mIntelligence, \u001b[0m\n",
              "\u001b[32mAI3\u001b[0m\u001b[32m)\u001b[0m\u001b[32m\\n\\n推動檔案管理人員專業認證\\n\\n建構機關檔案管理評鑑能力\\n\\n評獎評鑑雙軌促進機關重視\\n\\n策進\\n\\n專業\\n\\n啟動國\u001b[0m\n",
              "\u001b[32m家檔案館工程建設\\n\\n運用QR \u001b[0m\n",
              "\u001b[32mCode提升管理效能\\n\\n完成政治檔案整編400公尺及數位化至少100萬頁\\n\\n完成150機關次永久保存檔案屆期移轉鑑選\\n\\n強化民間\u001b[0m\n",
              "\u001b[32m珍貴文書徵集\\n\\n導入AI提升檔案鑑審效率\\n\\n躍升\\n\\n典藏\\n\\n優化徵集\\n\\nAI3\\n\\n擴增國家檔案影像上網150萬頁\\n\\n推動國\u001b[0m\n",
              "\u001b[32m家檔案加值素材圖像服務\\n\\n舉辦10場次國家檔案推廣活動\\n\\n整合\\n\\n應用\\n\\n整合現有系統強化一站式平台\\n\\n運用AI提升文\u001b[0m\n",
              "\u001b[32m檔系統客服品質\\n\\n導入區塊鏈強化公文交換安全\\n\\n智能\\n\\n文檔\\n\\n\\n\\n結  \u001b[0m\n",
              "\u001b[32m語\\n\\n面對後疫情時代的國際新情勢，本會肩負擘劃國家發展的重責大任，自當以前瞻視野與創新思維，推動國家體質的持續進化\u001b[0m\n",
              "\u001b[32m，讓臺灣充分掌握疫後新契機，並力求經濟、社會及環境等兼籌並顧，確保經濟創新成長、   人民幸福有感。 '\u001b[0m\n",
              "    \u001b[1m)\u001b[0m\n",
              "\u001b[1m]\u001b[0m\n"
            ],
            "text/html": [
              "<pre style=\"white-space:pre;overflow-x:auto;line-height:normal;font-family:Menlo,'DejaVu Sans Mono',consolas,'Courier New',monospace\"><span style=\"font-weight: bold\">[</span>\n",
              "    <span style=\"color: #800080; text-decoration-color: #800080; font-weight: bold\">Document</span><span style=\"font-weight: bold\">(</span>\n",
              "        <span style=\"color: #808000; text-decoration-color: #808000\">metadata</span>=<span style=\"font-weight: bold\">{</span><span style=\"color: #008000; text-decoration-color: #008000\">'source'</span>: <span style=\"color: #008000; text-decoration-color: #008000\">'/content/example_ppt.pptx'</span><span style=\"font-weight: bold\">}</span>,\n",
              "        <span style=\"color: #808000; text-decoration-color: #808000\">page_content</span>=<span style=\"color: #008000; text-decoration-color: #008000\">'立法院第10屆第3會期經濟委員會\\n\\n國家發展委員會\\x0b業務報告\\n\\n國家發展委員會\\n\\n主任委員 </span>\n",
              "<span style=\"color: #008000; text-decoration-color: #008000\">龔明鑫\\n\\n\\n\\n全球經濟恢復成長\\n\\n國際機構全球經濟成長率預測\\n\\n單位：%\\n\\n2021年1月預測\\n\\n2021年2月預測\\n\\n2021年</span>\n",
              "<span style=\"color: #008000; text-decoration-color: #008000\">3月預測\\n\\n經濟風險仍高：疫情尚難緩和、美中衝突長期化、全球債務\\x0b攀升金融風險升高、不均衡復甦\\n\\n\\n\\n2021年展望\\n</span>\n",
              "<span style=\"color: #008000; text-decoration-color: #008000\">\\n實質輸出成長+5.05%\\n\\n全球貿易量回升\\n\\n數位轉型商機\\n\\n新興科技應用需求仍殷\\n\\n2021年(f)  </span>\n",
              "<span style=\"color: #008000; text-decoration-color: #008000\">(+4.64%)\\n\\n單位：%\\n\\n近7年新高!!\\n\\n實質民間消費成長+3.74%\\n\\n國內就業市場穩定\\n\\n國內外股市活絡\\n\\n2020年(p)  </span>\n",
              "<span style=\"color: #008000; text-decoration-color: #008000\">(+3.11%)\\n\\n實質固定投資成長+3.50%\\n\\n半導體、5G及綠能投資\\n\\n臺商回臺三大方案\\n\\n註： </span>\n",
              "<span style=\"color: #008000; text-decoration-color: #008000\">(p)表初步統計數，(f)表預測數。\\n\\n資料來源：行政院主計總處，2021年2月20日。\\n\\n\\n\\n施政方向與重點\\n\\n創新導向，\\n\\n</span>\n",
              "<span style=\"color: #008000; text-decoration-color: #008000\">成為全球經濟關鍵力量\\n\\n延攬精英，\\n\\n成為國際人才匯集中心\\n\\n精進治理，\\n\\n落實區域永續平衡發展\\n\\n數位政府，\\n\\n</span>\n",
              "<span style=\"color: #008000; text-decoration-color: #008000\">提升全方位施政效能\\n\\n\\n\\n創新導向，成為全球經濟關鍵力量\\n\\n\\n\\n1\\n\\n協調推動六大核心戰略產業\\n\\n本會、經濟部、科技</span>\n",
              "<span style=\"color: #008000; text-decoration-color: #008000\">部等18個單位共同推動，\\x0b讓臺灣成為全球經濟的關鍵力量\\n\\n\\n\\n世界經濟論壇(WEF)107、108連續兩年評比\\n\\n亞洲‧矽谷1.0</span>\n",
              "<span style=\"color: #008000; text-decoration-color: #008000\">重要成果\\n\\n2-1\\n\\n臺灣全球4大超級創新國之一\\n\\n積極投資新創\\n\\n物聯網成為兆元產業\\n\\n加碼匡列\\n\\n20億→50億\\n\\n已通</span>\n",
              "<span style=\"color: #008000; text-decoration-color: #008000\">過131家企業， </span>\n",
              "<span style=\"color: #008000; text-decoration-color: #008000\">\\n\\n投資19.28億、\\n\\n帶動投資50.48億元\\n\\n形塑國家新創品牌\\n\\n如亞矽執行中心已協助思科於桃園設立智慧創新應用示範中</span>\n",
              "<span style=\"color: #008000; text-decoration-color: #008000\">心\\n\\n通過181案、投資29.4億\\n\\nStartup Island TAIWAN於CES、Meet </span>\n",
              "<span style=\"color: #008000; text-decoration-color: #008000\">Taipei等大型國際展曝光\\n\\n引進國際大廠創新研發資源\\n\\n與經濟部共同推動智慧城鄉有感服務\\n\\n活絡人才及法規調適\\n\\nAI</span>\n",
              "<span style=\"color: #008000; text-decoration-color: #008000\">篩檢及早治療\\n\\n5種眼疾辨識\\n\\n精準度達85%\\n\\n路邊停車位\\n\\n尋位時間 </span>\n",
              "<span style=\"color: #008000; text-decoration-color: #008000\">\\n\\n減少5-8分\\n\\nAi客製化\\n\\n英語課程\\n\\n提升雙語競爭力\\n\\n空汙AI監測\\n\\n環保稽核效能 </span>\n",
              "<span style=\"color: #008000; text-decoration-color: #008000\">\\n\\n提高6倍\\n\\n交通\\n\\n停車\\n\\n健康\\n\\n醫療\\n\\n環境\\n\\n品質\\n\\n223項\\n\\n智慧解決方案\\n\\n教育\\n\\n學習\\n\\n出遊旅運\\n\\</span>\n",
              "<span style=\"color: #008000; text-decoration-color: #008000\">n國道60%路線\\n\\n免排隊購票\\n\\n運用無人機 \\n\\n農耕效率 </span>\n",
              "<span style=\"color: #008000; text-decoration-color: #008000\">\\n\\n提升10倍\\n\\n新創法規調適平臺已釐清34項法規議題，如透過平臺業者 </span>\n",
              "<span style=\"color: #008000; text-decoration-color: #008000\">銷售旅遊及健康保險等\\n\\n已核發2,243張就業金卡，首張YouTube創辦人陳士駿已回台協助新創發展\\n\\n農畜\\n\\n漁牧\\n\\n觀光\\n\\</span>\n",
              "<span style=\"color: #008000; text-decoration-color: #008000\">n零售\\n\\n導入全台22縣市\\n\\n7\\n\\n\\n\\n亞洲‧矽谷2.0規劃方向\\n\\n2-2\\n\\n亞洲‧矽谷2.0\\n\\n(2021-2024年)\\n\\n1.1  </span>\n",
              "<span style=\"color: #008000; text-decoration-color: #008000\">加速AIoT關鍵技術研發\\n\\n1.2  推動國產化5G開放網路\\n\\n1.3  強化5G、AI數位科技應用\\n\\n1.4  促成智慧城鄉跨域合作\\n\\n  </span>\n",
              "<span style=\"color: #008000; text-decoration-color: #008000\">擴大AIoT\\n\\n       科技應用\\n\\n願景\\n\\n策略1\\n\\n打造台灣成為亞洲數位創新的關鍵力量\\n\\n2.1  </span>\n",
              "<span style=\"color: #008000; text-decoration-color: #008000\">擴大投融資加速新創成長\\n\\n2.2  形塑國家新創品牌強化商機拓展\\n\\n2.3  促成多元出場帶動正向循環\\n\\n       精進新創\\n\\n</span>\n",
              "<span style=\"color: #008000; text-decoration-color: #008000\">發展環境\\n\\n策略2\\n\\n3.1  深化物聯網國際夥伴關係\\n\\n3.2  打造國際級亞矽創新聚落\\n\\n3.3  促進AIoT輸出海外市場\\n\\n   </span>\n",
              "<span style=\"color: #008000; text-decoration-color: #008000\">匯聚系統\\n\\n     輸出能量\\n\\n策略3\\n\\n2025 </span>\n",
              "<span style=\"color: #008000; text-decoration-color: #008000\">IoT產值\\n\\n占全球比重\\n\\n5%\\n\\nAIoT解決\\n\\n方案海外輸出\\n\\n20案\\n\\n促成新創出場\\n\\n40案\\n\\n培育國際級\\n\\n系統整合公</span>\n",
              "<span style=\"color: #008000; text-decoration-color: #008000\">司\\n\\n3家\\n\\n促成新創\\n\\n事業成功\\n\\n200家\\n\\n目標\\n\\n8\\n\\n\\n\\n3\\n\\n強化產業及金融鏈結\\n\\n國家融資保證機制\\n\\n保證</span>\n",
              "<span style=\"color: #008000; text-decoration-color: #008000\">對象\\n\\n行政院109年11月核定「國家融資保證機制推動方案」\\n\\n由國發基金與銀行共同提供專款，提供融資計畫最高6成保證，</span>\n",
              "<span style=\"color: #008000; text-decoration-color: #008000\">由輸銀擔任執行單位，促進金融機構參與綠能等 </span>\n",
              "<span style=\"color: #008000; text-decoration-color: #008000\">重大經濟建設\\n\\n110年1月輸銀成立「國家融資保證中心」，將協助業者及銀行申請\\n\\n綠能建設\\n\\n綠能設備與服務\\n\\n重大公</span>\n",
              "<span style=\"color: #008000; text-decoration-color: #008000\">共建設\\n\\n促進私募股權基金投資產業\\n\\nPE\\n\\n規劃以私募股權基金專業知識結合國內民間資金， </span>\n",
              "<span style=\"color: #008000; text-decoration-color: #008000\">投入六大、5+2、前瞻基礎建設及具升級或轉型需求之產業，以促進重要策略性產業發展\\n\\n研訂促進私募股權基金投資產業輔導要</span>\n",
              "<span style=\"color: #008000; text-decoration-color: #008000\">點(草案)，   規範PE資格、投資產業面向，公私協力認定機制\\n\\n民間資金\\n\\n六大\\n\\n5+2\\n\\n 前瞻\\n\\n </span>\n",
              "<span style=\"color: #008000; text-decoration-color: #008000\">升級轉型\\n\\n\\n\\n國發基金投融資計畫\\n\\n透過多元投資及融資方式，協助企業取得營運發展所需資金\\n\\n強化產業數位轉型，要</span>\n",
              "<span style=\"color: #008000; text-decoration-color: #008000\">求投資事業提出數位轉型計畫\\n\\n投資業務 投資件數 總投資金額(億元) 直接投資 62 619.48 投資創業投資事業 53 113.37 </span>\n",
              "<span style=\"color: #008000; text-decoration-color: #008000\">專案投資 280 78.59 創業天使投資方案 131 19.18 投資新創特別股專案 181 29.41\\n\\n貸款項目 累計核貸件數 </span>\n",
              "<span style=\"color: #008000; text-decoration-color: #008000\">累計核貸金額(億元) 歡迎台商回台投資專案貸款 159 2,786.14 根留台灣企業加速投資專案貸款 66 613.19 海外投資融資貸款 </span>\n",
              "<span style=\"color: #008000; text-decoration-color: #008000\">102 209.66 其他協助產業政策等貸款 3,961 </span>\n",
              "<span style=\"color: #008000; text-decoration-color: #008000\">817.12\\n\\n\\n\\n推展數位經濟國際鏈結\\n\\n4\\n\\n高階政策對話平台\\n\\n臺美數位經濟論壇(DEF)\\n\\n臺歐盟數位經濟對話(DDE)\\n\\n</span>\n",
              "<span style=\"color: #008000; text-decoration-color: #008000\">本會與歐盟資通訊網絡暨科技    </span>\n",
              "<span style=\"color: #008000; text-decoration-color: #008000\">總署共同舉辦\\n\\n第1屆會議(2019年布魯塞爾)\\n\\n會議主題：總體數位政策、產業數位轉型及人工智慧、數位科技基礎建設、數位</span>\n",
              "<span style=\"color: #008000; text-decoration-color: #008000\">技能與工作、數位治理、GDPR、金融科技\\n\\n第2屆會議(2020年12月視訊會議)\\n\\n會議主題：總體數位經濟發展政策、研究與科技</span>\n",
              "<span style=\"color: #008000; text-decoration-color: #008000\">合作、區塊鏈、人工智慧、資安產業認證、資料經濟、歐亞數位連結\\n\\n未來將持續召開第3屆\\n\\n本會與美國在台協會(AIT)共同</span>\n",
              "<span style=\"color: #008000; text-decoration-color: #008000\">籌辦，已輪流在台美舉辦3屆會議，於DEF架構下規劃合作項目\\n\\n五大合作面向:\\n\\n數位貿易與投資\\n\\n創新創業\\n\\n智慧技術(</span>\n",
              "<span style=\"color: #008000; text-decoration-color: #008000\">智慧城市、IoT及FinTech)\\n\\n網路安全\\n\\n全球合作\\n\\n第4屆由美方主辦，規劃於2021年召開\\n\\n\\n\\n延攬精英，成為國際人才</span>\n",
              "<span style=\"color: #008000; text-decoration-color: #008000\">匯集中心\\n\\n\\n\\n1\\n\\n打造2030雙語國家\\n\\n更進一步接軌國際\\n\\n提升我國人才與產業的國際競爭力\\n\\n提升國人雙語力及數位</span>\n",
              "<span style=\"color: #008000; text-decoration-color: #008000\">力\\n\\n培育專業領域的雙語人才\\n\\n處理國際組織及使用英語國家之涉外業務公務人員\\n\\n國發會\\x0b統合協調\\n\\n教育部等相關</span>\n",
              "<span style=\"color: #008000; text-decoration-color: #008000\">部會\\n\\n教育體系\\n\\n非教育體系\\n\\n(教育部)\\n\\n(國發會)\\n\\n成立行政法人專責推動\\n\\n以重點培育及普及提升為\\x0b推動主</span>\n",
              "<span style=\"color: #008000; text-decoration-color: #008000\">軸，提升學生英語力\\n\\n運用數位科技提升英語力\\n\\n增加英語師資擴充英語教學能量\\n\\n雙語資料庫\\n\\n學習資源網\\n\\n偏遠地</span>\n",
              "<span style=\"color: #008000; text-decoration-color: #008000\">區\\n\\n數位學習資源\\n\\n國際學習資源\\n\\n強化學校數位學習軟硬體量能\\n\\n設立國際影音頻道\\n\\n(教育部、通傳會、科會辦、國</span>\n",
              "<span style=\"color: #008000; text-decoration-color: #008000\">發會)\\n\\n延攬外國專業人才來臺\\n\\n成立專業領域英語學院\\n\\n(文化部)\\n\\n擴增英語檢測量能\\n\\n(教育部、金管會、文化部)\\n</span>\n",
              "<span style=\"color: #008000; text-decoration-color: #008000\">\\n提升涉外業務\\x0b公務人員英語力\\n\\n(考選部、人事行政總處)\\n\\n13\\n\\n\\n\\n2\\n\\n積極培育本土數位人才\\n\\n本會協同相關部</span>\n",
              "<span style=\"color: #008000; text-decoration-color: #008000\">會研擬「關鍵人才培育及延攬方案(草案)」，俟報院核定後，協調相關部會全力落實推動，提升國家競爭力\\n\\n\\n\\n3\\n\\n致力延攬</span>\n",
              "<span style=\"color: #008000; text-decoration-color: #008000\">國際專業人才\\n\\n推動外國人才專法修法\\n\\n109.11.14 完成預告\\n\\n110.1.29 </span>\n",
              "<span style=\"color: #008000; text-decoration-color: #008000\">陳報行政院\\n\\n鬆綁工作條件，爭取優秀外國大學畢業生等\\n\\n放寬居留及依親規定，縮短申請永居年限等\\n\\n優化社會保障，增</span>\n",
              "<span style=\"color: #008000; text-decoration-color: #008000\">加租稅、健保等誘因\\n\\n內容\\n\\n進度\\n\\n實施攬才配套，發揮外國人才專法推動綜效\\n\\n109.10成立就業金卡辦公室，提供一條</span>\n",
              "<span style=\"color: #008000; text-decoration-color: #008000\">龍專案服務\\n\\n整合就業PASS卡及創業家簽證，納入就業金卡線上  </span>\n",
              "<span style=\"color: #008000; text-decoration-color: #008000\">申辦平台\\n\\n推動2030雙語國家政策，以及完善海外人才子女在臺教育環境(教育部)\\n\\n鎖定我國所需人才，  </span>\n",
              "<span style=\"color: #008000; text-decoration-color: #008000\">精準全球延攬\\n\\n協助國際人才對接我國產業(經濟部、科技部等)\\n\\n強化吸引外國學生      </span>\n",
              "<span style=\"color: #008000; text-decoration-color: #008000\">來臺就讀重點領域科系(教育部)\\n\\n\\n\\n精進治理，落實區域永續平衡發展\\n\\n\\n\\n規劃、審議及管考前瞻基礎建設計畫\\n\\n1\\n\\n</span>\n",
              "<span style=\"color: #008000; text-decoration-color: #008000\">\\n\\n2\\n\\n精實推動地方創生\\n\\n新增多元徵案管道\\n\\n活化公有空間\\n\\n提供地方團隊實體交流及事業經營空間\\n\\n開放地方團隊</span>\n",
              "<span style=\"color: #008000; text-decoration-color: #008000\">申請\\n\\n設置在地青年工作站\\n\\n建立地方創生計畫\\n\\n支援系統\\n\\n提供實質補助\\n\\n引領人才返鄉、留鄉\\n\\n成立專案辦公室\\</span>\n",
              "<span style=\"color: #008000; text-decoration-color: #008000\">n\\n強化政策指導、統合推動及國際連結\\n\\n\\n\\n3\\n\\n優化花東離島建設\\n\\n花東地區永續發展基金\\x0b110年國庫撥充基金255.8</span>\n",
              "<span style=\"color: #008000; text-decoration-color: #008000\">億元\\x0b110年度基金編列補助預算27億元推動花東  地區相關建設\\n\\n離島建設基金110年編列支出9億元，促進    </span>\n",
              "<span style=\"color: #008000; text-decoration-color: #008000\">各項基礎建設，並將進行整體發展策略規劃，引導離島朝向永續發展\\n\\n4\\n\\n中興新村整體規劃方向\\n\\n行政機能區(北核心)：約</span>\n",
              "<span style=\"color: #008000; text-decoration-color: #008000\">56公頃     \\n\\n (行政機關、職務宿舍)\\n\\n休閒生活區(中核心)：約106公頃\\n\\n大學城：約62公頃(含高爾夫球場)\\n\\n  </span>\n",
              "<span style=\"color: #008000; text-decoration-color: #008000\">(中興大學南投校區預定地 </span>\n",
              "<span style=\"color: #008000; text-decoration-color: #008000\">)\\n\\n\\n\\n5\\n\\n規劃、協調提出「健全房地產市場方案」\\n\\n各部會啟動各項作為\\n\\n內政部啟動強化預售屋稽查、完成實價登錄2</span>\n",
              "<span style=\"color: #008000; text-decoration-color: #008000\">.0   相關修法；財政部為防杜以股權交易避稅，啟動 </span>\n",
              "<span style=\"color: #008000; text-decoration-color: #008000\">專案查核計畫及完成修法等作為，並提出房地合一稅修正案，精準打擊房巿投機炒作；央行針對不動產貸款啟動選擇性信用管制\\n\\</span>\n",
              "<span style=\"color: #008000; text-decoration-color: #008000\">n四大目標：防炒作房市、防逃漏稅、防止房市資金泛濫，落實居住正義\\n\\n政府迅即採取對策\\n\\n持續觀察後續成效，必要時提出</span>\n",
              "<span style=\"color: #008000; text-decoration-color: #008000\">具體作為，確保房巿健全發展\\n\\n行政院109年12月通過「健全房地產市場方案」\\n\\n\\n\\n數位政府，提升全方位施政效能\\n\\n\\n\\n</span>\n",
              "<span style=\"color: #008000; text-decoration-color: #008000\">1\\n\\n優化服務型智慧政府\\n\\n服務型智慧政府2.0推動計畫(110年至114年)\\n\\n加速開放資料釋出\\n\\n精進跨機關服務\\n\\n加強循</span>\n",
              "<span style=\"color: #008000; text-decoration-color: #008000\">證式決策\\n\\n擴大釋出高價值資料與資料再利用程序化\\n\\n推動民生相關資料應用典範\\n\\n簡化民眾申辦程序\\n\\n建構跨機關全程 </span>\n",
              "<span style=\"color: #008000; text-decoration-color: #008000\">  </span>\n",
              "<span style=\"color: #008000; text-decoration-color: #008000\">線上申辦\\n\\n聚焦民生關切議題\\n\\n運用跨機關資料分析轉助施政決策\\n\\n完備「資料治理生態」\\n\\n打造「智慧政府服務」\\n\\n\\</span>\n",
              "<span style=\"color: #008000; text-decoration-color: #008000\">n\\n2\\n\\n推展開放政府國家行動方案\\n\\n19承諾事項\\n\\n5大範疇\\n\\n公私協力推動\\n\\n機制\\n\\n推動資料開放\\n\\n與資訊公開\\n\\n</span>\n",
              "<span style=\"color: #008000; text-decoration-color: #008000\">落實\\n\\n清廉施政\\n\\n執行\\n\\n洗錢防制\\n\\n擴大\\n\\n公共參與\\n\\n增加性別及族\\n\\n群包容性對話\\n\\n11個權責機關落實執行承</span>\n",
              "<span style=\"color: #008000; text-decoration-color: #008000\">諾事項\\n\\n本會辦理培力宣導、執行評估\\n\\n工作重點 </span>\n",
              "<span style=\"color: #008000; text-decoration-color: #008000\">:\\n\\n3\\n\\n積極推動政府服務創新\\n\\n本會辦理第4屆政府服務獎\\n\\n引導機關公私 </span>\n",
              "<span style=\"color: #008000; text-decoration-color: #008000\">協作服務創新\\n\\n結合數位科技發展多元服務\\n\\n協助經驗交流及標竿學習\\n\\n\\n\\n4\\n\\n推動績效管理智慧化\\n\\n透過計畫績效管</span>\n",
              "<span style=\"color: #008000; text-decoration-color: #008000\">理智慧化， </span>\n",
              "<span style=\"color: #008000; text-decoration-color: #008000\">找出最佳資源分配方式，進一步提升公共建設執行效能\\n\\n109年公共建設計畫經費達成率95.48%，創下近13年新高\\n\\n政府計畫管</span>\n",
              "<span style=\"color: #008000; text-decoration-color: #008000\">理資訊系統升級\\n\\n(善用科技整合管理)\\n\\n政府計畫資料\\n\\n多元整合及決策支援\\n\\n </span>\n",
              "<span style=\"color: #008000; text-decoration-color: #008000\">(資料探勘、數據分析及應用)\\n\\n\\n\\n5\\n\\n建構優質經商法制環境\\n\\n協調部會推動法規鬆綁工作\\n\\n累計共777項成果\\n\\n協處</span>\n",
              "<span style=\"color: #008000; text-decoration-color: #008000\">國內外商會建言，改善投資環境\\n\\n109年檢討757項議題，協調美、歐、日商會及工總議題，\\x0b友善外人在臺工作、健全能源發</span>\n",
              "<span style=\"color: #008000; text-decoration-color: #008000\">展法規及提升金融e化等\\n\\n\\n\\n推動檔案整合、創新與智慧服務\\n\\n6\\n\\n(Archives Integration, Innovation and </span>\n",
              "<span style=\"color: #008000; text-decoration-color: #008000\">Intelligence, </span>\n",
              "<span style=\"color: #008000; text-decoration-color: #008000\">AI3)\\n\\n推動檔案管理人員專業認證\\n\\n建構機關檔案管理評鑑能力\\n\\n評獎評鑑雙軌促進機關重視\\n\\n策進\\n\\n專業\\n\\n啟動國</span>\n",
              "<span style=\"color: #008000; text-decoration-color: #008000\">家檔案館工程建設\\n\\n運用QR </span>\n",
              "<span style=\"color: #008000; text-decoration-color: #008000\">Code提升管理效能\\n\\n完成政治檔案整編400公尺及數位化至少100萬頁\\n\\n完成150機關次永久保存檔案屆期移轉鑑選\\n\\n強化民間</span>\n",
              "<span style=\"color: #008000; text-decoration-color: #008000\">珍貴文書徵集\\n\\n導入AI提升檔案鑑審效率\\n\\n躍升\\n\\n典藏\\n\\n優化徵集\\n\\nAI3\\n\\n擴增國家檔案影像上網150萬頁\\n\\n推動國</span>\n",
              "<span style=\"color: #008000; text-decoration-color: #008000\">家檔案加值素材圖像服務\\n\\n舉辦10場次國家檔案推廣活動\\n\\n整合\\n\\n應用\\n\\n整合現有系統強化一站式平台\\n\\n運用AI提升文</span>\n",
              "<span style=\"color: #008000; text-decoration-color: #008000\">檔系統客服品質\\n\\n導入區塊鏈強化公文交換安全\\n\\n智能\\n\\n文檔\\n\\n\\n\\n結  </span>\n",
              "<span style=\"color: #008000; text-decoration-color: #008000\">語\\n\\n面對後疫情時代的國際新情勢，本會肩負擘劃國家發展的重責大任，自當以前瞻視野與創新思維，推動國家體質的持續進化</span>\n",
              "<span style=\"color: #008000; text-decoration-color: #008000\">，讓臺灣充分掌握疫後新契機，並力求經濟、社會及環境等兼籌並顧，確保經濟創新成長、   人民幸福有感。 '</span>\n",
              "    <span style=\"font-weight: bold\">)</span>\n",
              "<span style=\"font-weight: bold\">]</span>\n",
              "</pre>\n"
            ]
          },
          "metadata": {}
        }
      ]
    },
    {
      "cell_type": "code",
      "source": [
        "text_splitter = RecursiveCharacterTextSplitter(\n",
        "    separators=[\"\\n\\n\"],\n",
        "    chunk_size=150,\n",
        "    chunk_overlap=0)\n",
        "splits = text_splitter.split_documents(ppt_docs)\n",
        "for i in splits[:5]:\n",
        "    print(i.page_content)\n",
        "    print('_'*10)"
      ],
      "metadata": {
        "id": "QKq1MZJaahbL",
        "colab": {
          "base_uri": "https://localhost:8080/"
        },
        "outputId": "7861b6ef-cd19-4eb9-a59f-da74e8e5ceb6"
      },
      "execution_count": null,
      "outputs": [
        {
          "output_type": "stream",
          "name": "stdout",
          "text": [
            "立法院第10屆第3會期經濟委員會\n",
            "\n",
            "國家發展委員會\u000b業務報告\n",
            "\n",
            "國家發展委員會\n",
            "\n",
            "主任委員 龔明鑫\n",
            "\n",
            "\n",
            "\n",
            "全球經濟恢復成長\n",
            "\n",
            "國際機構全球經濟成長率預測\n",
            "\n",
            "單位：%\n",
            "\n",
            "2021年1月預測\n",
            "\n",
            "2021年2月預測\n",
            "\n",
            "2021年3月預測\n",
            "__________\n",
            "經濟風險仍高：疫情尚難緩和、美中衝突長期化、全球債務\u000b攀升金融風險升高、不均衡復甦\n",
            "\n",
            "\n",
            "\n",
            "2021年展望\n",
            "\n",
            "實質輸出成長+5.05%\n",
            "\n",
            "全球貿易量回升\n",
            "\n",
            "數位轉型商機\n",
            "\n",
            "新興科技應用需求仍殷\n",
            "\n",
            "2021年(f)  (+4.64%)\n",
            "\n",
            "單位：%\n",
            "\n",
            "近7年新高!!\n",
            "\n",
            "實質民間消費成長+3.74%\n",
            "__________\n",
            "國內就業市場穩定\n",
            "\n",
            "國內外股市活絡\n",
            "\n",
            "2020年(p)  (+3.11%)\n",
            "\n",
            "實質固定投資成長+3.50%\n",
            "\n",
            "半導體、5G及綠能投資\n",
            "\n",
            "臺商回臺三大方案\n",
            "\n",
            "註： (p)表初步統計數，(f)表預測數。\n",
            "\n",
            "資料來源：行政院主計總處，2021年2月20日。\n",
            "\n",
            "\n",
            "\n",
            "施政方向與重點\n",
            "\n",
            "創新導向，\n",
            "__________\n",
            "成為全球經濟關鍵力量\n",
            "\n",
            "延攬精英，\n",
            "\n",
            "成為國際人才匯集中心\n",
            "\n",
            "精進治理，\n",
            "\n",
            "落實區域永續平衡發展\n",
            "\n",
            "數位政府，\n",
            "\n",
            "提升全方位施政效能\n",
            "\n",
            "\n",
            "\n",
            "創新導向，成為全球經濟關鍵力量\n",
            "\n",
            "\n",
            "\n",
            "1\n",
            "\n",
            "協調推動六大核心戰略產業\n",
            "\n",
            "本會、經濟部、科技部等18個單位共同推動，\u000b讓臺灣成為全球經濟的關鍵力量\n",
            "__________\n",
            "世界經濟論壇(WEF)107、108連續兩年評比\n",
            "\n",
            "亞洲‧矽谷1.0重要成果\n",
            "\n",
            "2-1\n",
            "\n",
            "臺灣全球4大超級創新國之一\n",
            "\n",
            "積極投資新創\n",
            "\n",
            "物聯網成為兆元產業\n",
            "\n",
            "加碼匡列\n",
            "\n",
            "20億→50億\n",
            "\n",
            "已通過131家企業， \n",
            "\n",
            "投資19.28億、\n",
            "\n",
            "帶動投資50.48億元\n",
            "\n",
            "形塑國家新創品牌\n",
            "__________\n"
          ]
        }
      ]
    },
    {
      "cell_type": "code",
      "source": [
        "def rag(splits, name):\n",
        "    db = FAISS.from_documents(splits, embeddings)\n",
        "    db.save_local(folder_path=\"/content/drive/MyDrive/office_db\",\n",
        "                  index_name=name)\n",
        "    new_db = FAISS.load_local(\n",
        "        folder_path=\"/content/drive/MyDrive/office_db\",\n",
        "        index_name=name,\n",
        "        embeddings=embeddings,\n",
        "        allow_dangerous_deserialization=True)\n",
        "    retriever=new_db.as_retriever()\n",
        "    chain = (\n",
        "        {\"context\": retriever, \"question\": RunnablePassthrough()}\n",
        "        | prompt\n",
        "        | chat_model\n",
        "        | str_parser\n",
        "    )\n",
        "    return chain"
      ],
      "metadata": {
        "id": "kcT_RwMf_-3s"
      },
      "execution_count": null,
      "outputs": []
    },
    {
      "cell_type": "code",
      "source": [
        "ppt_chain = rag(splits, 'ppt')"
      ],
      "metadata": {
        "id": "prhVEoBqWrJb"
      },
      "execution_count": null,
      "outputs": []
    },
    {
      "cell_type": "code",
      "source": [
        "print(ppt_chain.invoke(\"台灣的創新產業如何?\"))"
      ],
      "metadata": {
        "id": "6-C-tlZLWuVQ",
        "colab": {
          "base_uri": "https://localhost:8080/"
        },
        "outputId": "9d26ed40-0db8-4b6d-e24a-cfaa9ad1d631"
      },
      "execution_count": null,
      "outputs": [
        {
          "output_type": "stream",
          "name": "stdout",
          "text": [
            "根據提供的文件內容來看，台灣的創新產業發展相當活躍。台灣政府積極推動新創產業發展，通過擴大投融資、加速新創成長、形塑國家新創品牌、深化物聯網國際夥伴關係等策略來推動創新產業的發展。此外，台灣已成為全球經濟關鍵力量之一，延攬精英、成為國際人才匯集中心、提升施政效能等措施也有助於創新產業的蓬勃發展。综合來看，台灣的創新產業發展前景看好。\n"
          ]
        }
      ]
    },
    {
      "cell_type": "markdown",
      "source": [
        "### Word"
      ],
      "metadata": {
        "id": "eAxW7mPY9brE"
      }
    },
    {
      "cell_type": "code",
      "source": [
        "word_docs = office_file('/content/example_word.docx')\n",
        "pprint(word_docs)"
      ],
      "metadata": {
        "id": "kEbcc3yFhh-5",
        "colab": {
          "base_uri": "https://localhost:8080/",
          "height": 1000
        },
        "outputId": "59e2b6db-a001-499f-a48f-7980bf2cb0ab"
      },
      "execution_count": null,
      "outputs": [
        {
          "output_type": "display_data",
          "data": {
            "text/plain": [
              "\u001b[1m[\u001b[0m\n",
              "    \u001b[1;35mDocument\u001b[0m\u001b[1m(\u001b[0m\n",
              "        \u001b[33mmetadata\u001b[0m=\u001b[1m{\u001b[0m\u001b[32m'source'\u001b[0m: \u001b[32m'/content/example_word.docx'\u001b[0m\u001b[1m}\u001b[0m,\n",
              "        \u001b[33mpage_content\u001b[0m=\u001b[32m'常見詐騙手法話術解析與預防策略\\n\\n第一章\\u3000假網拍詐騙\\n\\n手法及話術解析：\\n\\n民眾透過臉書\u001b[0m\n",
              "\u001b[32m、LINE或知名拍賣網站從事網路購物，詐騙集團便利用當前最新款的3C產品、限量球鞋、名牌包或熱門演唱會門票等，以明顯低於\u001b[0m\n",
              "\u001b[32m市價之價格誘引民眾下單並要求以LINE或Messenger私下交易。等被害人匯款後卻不出貨，且失去聯繫；或以貨到付款方式取貨開箱\u001b[0m\n",
              "\u001b[32m後，才發現是劣質商品。\\n\\n預防策略\\n\\n網購商品應慎選優良有信用之網路商家，透過面交方式或選擇提供第三方支付之網購平\u001b[0m\n",
              "\u001b[32m臺，以保障雙方權益並減少消費糾紛。\\n\\n避免透過LINE、Messenger等通訊軟體與賣家私下聯繫交易，以免求助無門。\\n\\n應加強\u001b[0m\n",
              "\u001b[32m查核網路商家的真實性，如粉絲專頁成立時間短、粉絲或追蹤人數過少等，可立即至經濟部網站查詢公司名稱、地址等基本資料。\\\u001b[0m\n",
              "\u001b[32mn\\n第二章\\u3000假投資*新增\\n\\n手法及話術解析\\n\\n詐騙集團透過網路社群或交友軟體主動認識被害人，並假借股票、虛擬通貨\u001b[0m\n",
              "\u001b[32m、期貨、外匯及基金等名義，吸引民眾加入LINE投資群組，初期會先讓民眾小額獲利，再以資金越多獲利越多說詞，引誘民眾加入\u001b[0m\n",
              "\u001b[32m投資網站或下載APP並投入大量資金，後續再以洗碼量不足、繳保證金、IP異常等理由拒絕出金，民眾發現帳號遭凍結或網站關閉才\u001b[0m\n",
              "\u001b[32m發現遭詐。\\n\\n預防策略\\n\\n高獲利必定伴隨高風險，聽到「保證獲利」、「穩賺不賠」必定是詐騙，民眾應選擇自己有深入瞭解\u001b[0m\n",
              "\u001b[32m過的投資標的，不要輕信來源不明投資管道或網路連結，如遇到加「LINE」進行投資必為詐騙。\\n\\n「165防騙宣導」LINE官方帳號\u001b[0m\n",
              "\u001b[32m及165全民防騙網可查詢詐騙LINE \u001b[0m\n",
              "\u001b[32mID、假投資\u001b[0m\u001b[32m(\u001b[0m\u001b[32m博弈\u001b[0m\u001b[32m)\u001b[0m\u001b[32m網站及詐騙電話，同時與「165全民防騙」臉書粉絲專頁每週公布投資詐騙網站，提供民眾即時掌握最新詐騙訊息\u001b[0m\n",
              "\u001b[32m，或可至投信投顧公會網站\u001b[0m\u001b[32m(\u001b[0m\u001b[32mwww.sitca.org.tw\u001b[0m\u001b[32m)\u001b[0m\u001b[32m查詢合法投資管道。\\n\\n\\n\\n第三章\\u3000ATM解除分期付款詐騙\\n\\n手法及話術解\u001b[0m\n",
              "\u001b[32m析\\n\\n詐騙集團攻擊資安防護不足電子商務平臺或基金會之後臺資料庫，取得民眾的交易紀錄與個資，再假冒商家或基金會與銀行\u001b[0m\n",
              "\u001b[32m來電，謊稱因設定錯誤，將重複扣款，要求民眾操作ATM、網路銀行或至超商購買遊戲點數進行解除設定。民眾依照指示操作後，發\u001b[0m\n",
              "\u001b[32m現帳戶餘額減少，才知道上當受騙。\\n\\n預防策略\\n\\n接獲陌生來電或境外來電\u001b[0m\u001b[32m(\u001b[0m\u001b[32m開頭有+\u001b[0m\u001b[32m)\u001b[0m\u001b[32m必須提高警覺，不要因為能明確說出交易\u001b[0m\n",
              "\u001b[32m明細而相信。\\n\\n接到來電以「誤設為重複扣款」、「升級VIP會員」、「系統出錯」等詐騙關鍵字就要提高警覺，應將電話掛斷後\u001b[0m\n",
              "\u001b[32m，自行查詢客服電話並撥打確認，或撥打165反詐騙諮詢專線諮詢。\\n\\nATM只能「提款」與「轉帳」功能，不能解除分期付款或退\u001b[0m\n",
              "\u001b[32m款；遊戲點數亦只有儲值遊戲之功能，並無法解除任何設定或身分識別。\\n\\n第四章\\u3000假愛情交友*新增\\n\\n手法及話術解析\\n\u001b[0m\n",
              "\u001b[32m\\n詐騙集團透過社群網站或交友軟體等管道隨機加好友，並盜用網路上帥哥、美女照片，假冒戰地軍官、軍醫、服務於聯合國官員\u001b[0m\n",
              "\u001b[32m，讓民眾誤入情網，再以境外寄送跨境包裹、禮物需要關稅或儲存結婚基金介紹投資管道等方式詐騙民眾匯款，直到遭對方封鎖才\u001b[0m\n",
              "\u001b[32m知道受騙。\\n\\n預防策略\\n\\n接獲陌生人要求加好友，切勿在言談間透露太多個人資訊，避免個人資訊遭盜用。\\n\\n沒見過面的網\u001b[0m\n",
              "\u001b[32m友要求匯錢時，務必提高警覺，可要求開視訊聯繫通話確認本人身份，勿輕易將金錢交付他人。\\n\\n第五章\\u3000猜猜我是誰\\n\\n\u001b[0m\n",
              "\u001b[32m手法及話術解析\\n\\n詐騙集團假冒「兒女」、「親戚」或「多年不見的友人」，透過電話或通訊軟體\u001b[0m\u001b[32m(\u001b[0m\u001b[32m如LINE\u001b[0m\u001b[32m)\u001b[0m\u001b[32m與民眾聯繫，並以換\u001b[0m\n",
              "\u001b[32m過手機所以不是原來的號碼、暱稱等方式要求民眾加入新手機號碼或LINE \u001b[0m\n",
              "\u001b[32mID，過幾天後再以臨時急用、投資\\n\\n\\n\\n周轉等理由詐騙民眾匯款，事後民眾聯絡到當事人確認無此事後才知道被騙。\\n\\n預防\u001b[0m\n",
              "\u001b[32m策略\\n\\n接到以親友名義來電借錢，務必以舊有電話向當事人親自確認，切勿貿然前往銀行匯款，以免遭詐騙。\\n\\n提供的匯款帳\u001b[0m\n",
              "\u001b[32m戶名稱與親友本人名字不同，詐騙的可能性將大幅提高，更應主動查證。\\n\\n可與親友約定專屬密語，做為懷疑對方身分時的確認\u001b[0m\n",
              "\u001b[32m。\\n\\n第六章\\u3000假冒機構\u001b[0m\u001b[32m(\u001b[0m\u001b[32m公務員\u001b[0m\u001b[32m)\u001b[0m\u001b[32m\\n\\n手法及話術解析\\n\\n詐騙集團假冒健保局、醫院及中華電信或其他公務機關撥打市內電\u001b[0m\n",
              "\u001b[32m話予民眾，用語音的方式引導被害人轉接客服人員，並以被害人遭冒用身分辦理開戶、請領健保補助或申辦門號為由，主動協助轉\u001b[0m\n",
              "\u001b[32m接警察機關製作筆錄，另告知涉及洗錢或其他刑事案件，強調偵查不公開勿告知親友，再要求民眾至超商收取傳真或以LINE傳送法\u001b[0m\n",
              "\u001b[32m院偽造公文取信被害人，須被害人配合監管帳戶等話術行騙得逞。\\n\\n預防策略\\n\\n聽到「遭冒用身分」、「偵查不公開」、「接\u001b[0m\n",
              "\u001b[32m收法院偽造公文」、「監管帳戶」等關鍵字，就是假冒機構\u001b[0m\u001b[32m(\u001b[0m\u001b[32m公務員\u001b[0m\u001b[32m)\u001b[0m\u001b[32m詐騙。\\n\\n接獲陌生來電告知涉入刑案或收到疑為政府機關公\u001b[0m\n",
              "\u001b[32m文書，應小心求證，先詢問對方單位、職稱、姓名等，掛斷電話後再向該單位求證。\\n\\n警察機關不會在電話中做筆錄，檢警調等\u001b[0m\n",
              "\u001b[32m單位處理司法案件，會以通知書通知涉案人到案說明或至指定機關繳交款項。\\n\\n第七章\\u3000假求職*新增\\n\\n手法及話術解析\\n\u001b[0m\n",
              "\u001b[32m\\n於報章雜誌或網路訊息刊登求職訊息誘騙民眾，再以設定薪資轉帳等名義騙取被害人之金融帳戶及密碼，續遭詐騙集團作為人頭\u001b[0m\n",
              "\u001b[32m帳戶之用。\\n\\n刊登求職廣告向應徵者騙取訂金、保證金、治裝費、訓練費或替代保證金。\\n\\n利用社群網站或交友軟體刊登出國\u001b[0m\n",
              "\u001b[32m高薪打工等不實廣告，利用面試時機強行帶往銀行開戶並設定約定轉帳啟用網路銀行等功能，或以簽約出借帳戶或\\n\\n\\n\\n給付每\u001b[0m\n",
              "\u001b[32m日報酬為由，控制被害人人身自由，拘禁於民宅或旅館內，藉此取得並利用被害人銀行帳戶收取詐騙款項。\\n\\n預防策略\\n\\n合法\u001b[0m\n",
              "\u001b[32m公司徵才求職不會透過網路訊息貼文，更不會以私人帳號發訊息。\\n\\n切勿聽從指示申辦個人約定帳戶，對於個人銀行帳戶、網路\u001b[0m\n",
              "\u001b[32m銀行帳號密碼等，應自行妥善保管，絕對不可交付陌生人。\\n\\n對網路徵才公司多查、多問、多存疑，可去電確認真偽，面試前先\u001b[0m\n",
              "\u001b[32m告知家人朋友行蹤，簽訂工作合約前務必詳閱內容，如有疑慮的契約不要簽，以保護自身安全。\\n\\n如若自身或家人遇有類似情形\u001b[0m\n",
              "\u001b[32m，請即向我國各駐外領使館處尋求協助或撥打急難救助電話0800-085095，並儘速就近向警察機關報案\\n\\n第八章\\u3000盜\u001b[0m\u001b[32m(\u001b[0m\u001b[32m冒\u001b[0m\u001b[32m)\u001b[0m\u001b[32m用網\u001b[0m\n",
              "\u001b[32m路帳號\\n\\n手法及話術解析\\n\\n詐騙集團盜取民眾LINE、Facebook等社群軟體帳號，再以盜用帳號傳訊息給其親友：\\n\\n朋友參加\u001b[0m\n",
              "\u001b[32m攝影比賽，麻煩幫忙投票WWW.XXXX.COM？\\n\\n手機送修，麻煩提供手機號碼，以便接收簡訊認證碼…\\n\\n剛才出車禍急需用錢，可以\u001b[0m\n",
              "\u001b[32m匯款給我嗎？\\n\\n現在不方便繳錢或匯款，可以幫忙嗎？\\n\\n現在不方便買點數卡，可以幫忙買張點數卡嗎？\\n\\n預防策略\\n\\n當\u001b[0m\n",
              "\u001b[32m朋友傳送訊息要求協助匯款或代購遊戲點數時，務必提高警覺，撥通電話再行確認。\\n\\n多組帳號勿使用同組密碼，避免因其中一\u001b[0m\n",
              "\u001b[32m組帳號遭破解而其他帳號都被盜用，並應定期更改密碼。\\n\\n避免在公用電腦登入私人帳號密碼。\\n\\n如果訊息中帶有不明連結，\u001b[0m\n",
              "\u001b[32m請先向發送訊息的朋友確認。\\n\\n勿下載來源不明或非官方認證應用程式，以免個資外洩。'\u001b[0m\n",
              "    \u001b[1m)\u001b[0m\n",
              "\u001b[1m]\u001b[0m\n"
            ],
            "text/html": [
              "<pre style=\"white-space:pre;overflow-x:auto;line-height:normal;font-family:Menlo,'DejaVu Sans Mono',consolas,'Courier New',monospace\"><span style=\"font-weight: bold\">[</span>\n",
              "    <span style=\"color: #800080; text-decoration-color: #800080; font-weight: bold\">Document</span><span style=\"font-weight: bold\">(</span>\n",
              "        <span style=\"color: #808000; text-decoration-color: #808000\">metadata</span>=<span style=\"font-weight: bold\">{</span><span style=\"color: #008000; text-decoration-color: #008000\">'source'</span>: <span style=\"color: #008000; text-decoration-color: #008000\">'/content/example_word.docx'</span><span style=\"font-weight: bold\">}</span>,\n",
              "        <span style=\"color: #808000; text-decoration-color: #808000\">page_content</span>=<span style=\"color: #008000; text-decoration-color: #008000\">'常見詐騙手法話術解析與預防策略\\n\\n第一章\\u3000假網拍詐騙\\n\\n手法及話術解析：\\n\\n民眾透過臉書</span>\n",
              "<span style=\"color: #008000; text-decoration-color: #008000\">、LINE或知名拍賣網站從事網路購物，詐騙集團便利用當前最新款的3C產品、限量球鞋、名牌包或熱門演唱會門票等，以明顯低於</span>\n",
              "<span style=\"color: #008000; text-decoration-color: #008000\">市價之價格誘引民眾下單並要求以LINE或Messenger私下交易。等被害人匯款後卻不出貨，且失去聯繫；或以貨到付款方式取貨開箱</span>\n",
              "<span style=\"color: #008000; text-decoration-color: #008000\">後，才發現是劣質商品。\\n\\n預防策略\\n\\n網購商品應慎選優良有信用之網路商家，透過面交方式或選擇提供第三方支付之網購平</span>\n",
              "<span style=\"color: #008000; text-decoration-color: #008000\">臺，以保障雙方權益並減少消費糾紛。\\n\\n避免透過LINE、Messenger等通訊軟體與賣家私下聯繫交易，以免求助無門。\\n\\n應加強</span>\n",
              "<span style=\"color: #008000; text-decoration-color: #008000\">查核網路商家的真實性，如粉絲專頁成立時間短、粉絲或追蹤人數過少等，可立即至經濟部網站查詢公司名稱、地址等基本資料。\\</span>\n",
              "<span style=\"color: #008000; text-decoration-color: #008000\">n\\n第二章\\u3000假投資*新增\\n\\n手法及話術解析\\n\\n詐騙集團透過網路社群或交友軟體主動認識被害人，並假借股票、虛擬通貨</span>\n",
              "<span style=\"color: #008000; text-decoration-color: #008000\">、期貨、外匯及基金等名義，吸引民眾加入LINE投資群組，初期會先讓民眾小額獲利，再以資金越多獲利越多說詞，引誘民眾加入</span>\n",
              "<span style=\"color: #008000; text-decoration-color: #008000\">投資網站或下載APP並投入大量資金，後續再以洗碼量不足、繳保證金、IP異常等理由拒絕出金，民眾發現帳號遭凍結或網站關閉才</span>\n",
              "<span style=\"color: #008000; text-decoration-color: #008000\">發現遭詐。\\n\\n預防策略\\n\\n高獲利必定伴隨高風險，聽到「保證獲利」、「穩賺不賠」必定是詐騙，民眾應選擇自己有深入瞭解</span>\n",
              "<span style=\"color: #008000; text-decoration-color: #008000\">過的投資標的，不要輕信來源不明投資管道或網路連結，如遇到加「LINE」進行投資必為詐騙。\\n\\n「165防騙宣導」LINE官方帳號</span>\n",
              "<span style=\"color: #008000; text-decoration-color: #008000\">及165全民防騙網可查詢詐騙LINE </span>\n",
              "<span style=\"color: #008000; text-decoration-color: #008000\">ID、假投資(博弈)網站及詐騙電話，同時與「165全民防騙」臉書粉絲專頁每週公布投資詐騙網站，提供民眾即時掌握最新詐騙訊息</span>\n",
              "<span style=\"color: #008000; text-decoration-color: #008000\">，或可至投信投顧公會網站(www.sitca.org.tw)查詢合法投資管道。\\n\\n\\n\\n第三章\\u3000ATM解除分期付款詐騙\\n\\n手法及話術解</span>\n",
              "<span style=\"color: #008000; text-decoration-color: #008000\">析\\n\\n詐騙集團攻擊資安防護不足電子商務平臺或基金會之後臺資料庫，取得民眾的交易紀錄與個資，再假冒商家或基金會與銀行</span>\n",
              "<span style=\"color: #008000; text-decoration-color: #008000\">來電，謊稱因設定錯誤，將重複扣款，要求民眾操作ATM、網路銀行或至超商購買遊戲點數進行解除設定。民眾依照指示操作後，發</span>\n",
              "<span style=\"color: #008000; text-decoration-color: #008000\">現帳戶餘額減少，才知道上當受騙。\\n\\n預防策略\\n\\n接獲陌生來電或境外來電(開頭有+)必須提高警覺，不要因為能明確說出交易</span>\n",
              "<span style=\"color: #008000; text-decoration-color: #008000\">明細而相信。\\n\\n接到來電以「誤設為重複扣款」、「升級VIP會員」、「系統出錯」等詐騙關鍵字就要提高警覺，應將電話掛斷後</span>\n",
              "<span style=\"color: #008000; text-decoration-color: #008000\">，自行查詢客服電話並撥打確認，或撥打165反詐騙諮詢專線諮詢。\\n\\nATM只能「提款」與「轉帳」功能，不能解除分期付款或退</span>\n",
              "<span style=\"color: #008000; text-decoration-color: #008000\">款；遊戲點數亦只有儲值遊戲之功能，並無法解除任何設定或身分識別。\\n\\n第四章\\u3000假愛情交友*新增\\n\\n手法及話術解析\\n</span>\n",
              "<span style=\"color: #008000; text-decoration-color: #008000\">\\n詐騙集團透過社群網站或交友軟體等管道隨機加好友，並盜用網路上帥哥、美女照片，假冒戰地軍官、軍醫、服務於聯合國官員</span>\n",
              "<span style=\"color: #008000; text-decoration-color: #008000\">，讓民眾誤入情網，再以境外寄送跨境包裹、禮物需要關稅或儲存結婚基金介紹投資管道等方式詐騙民眾匯款，直到遭對方封鎖才</span>\n",
              "<span style=\"color: #008000; text-decoration-color: #008000\">知道受騙。\\n\\n預防策略\\n\\n接獲陌生人要求加好友，切勿在言談間透露太多個人資訊，避免個人資訊遭盜用。\\n\\n沒見過面的網</span>\n",
              "<span style=\"color: #008000; text-decoration-color: #008000\">友要求匯錢時，務必提高警覺，可要求開視訊聯繫通話確認本人身份，勿輕易將金錢交付他人。\\n\\n第五章\\u3000猜猜我是誰\\n\\n</span>\n",
              "<span style=\"color: #008000; text-decoration-color: #008000\">手法及話術解析\\n\\n詐騙集團假冒「兒女」、「親戚」或「多年不見的友人」，透過電話或通訊軟體(如LINE)與民眾聯繫，並以換</span>\n",
              "<span style=\"color: #008000; text-decoration-color: #008000\">過手機所以不是原來的號碼、暱稱等方式要求民眾加入新手機號碼或LINE </span>\n",
              "<span style=\"color: #008000; text-decoration-color: #008000\">ID，過幾天後再以臨時急用、投資\\n\\n\\n\\n周轉等理由詐騙民眾匯款，事後民眾聯絡到當事人確認無此事後才知道被騙。\\n\\n預防</span>\n",
              "<span style=\"color: #008000; text-decoration-color: #008000\">策略\\n\\n接到以親友名義來電借錢，務必以舊有電話向當事人親自確認，切勿貿然前往銀行匯款，以免遭詐騙。\\n\\n提供的匯款帳</span>\n",
              "<span style=\"color: #008000; text-decoration-color: #008000\">戶名稱與親友本人名字不同，詐騙的可能性將大幅提高，更應主動查證。\\n\\n可與親友約定專屬密語，做為懷疑對方身分時的確認</span>\n",
              "<span style=\"color: #008000; text-decoration-color: #008000\">。\\n\\n第六章\\u3000假冒機構(公務員)\\n\\n手法及話術解析\\n\\n詐騙集團假冒健保局、醫院及中華電信或其他公務機關撥打市內電</span>\n",
              "<span style=\"color: #008000; text-decoration-color: #008000\">話予民眾，用語音的方式引導被害人轉接客服人員，並以被害人遭冒用身分辦理開戶、請領健保補助或申辦門號為由，主動協助轉</span>\n",
              "<span style=\"color: #008000; text-decoration-color: #008000\">接警察機關製作筆錄，另告知涉及洗錢或其他刑事案件，強調偵查不公開勿告知親友，再要求民眾至超商收取傳真或以LINE傳送法</span>\n",
              "<span style=\"color: #008000; text-decoration-color: #008000\">院偽造公文取信被害人，須被害人配合監管帳戶等話術行騙得逞。\\n\\n預防策略\\n\\n聽到「遭冒用身分」、「偵查不公開」、「接</span>\n",
              "<span style=\"color: #008000; text-decoration-color: #008000\">收法院偽造公文」、「監管帳戶」等關鍵字，就是假冒機構(公務員)詐騙。\\n\\n接獲陌生來電告知涉入刑案或收到疑為政府機關公</span>\n",
              "<span style=\"color: #008000; text-decoration-color: #008000\">文書，應小心求證，先詢問對方單位、職稱、姓名等，掛斷電話後再向該單位求證。\\n\\n警察機關不會在電話中做筆錄，檢警調等</span>\n",
              "<span style=\"color: #008000; text-decoration-color: #008000\">單位處理司法案件，會以通知書通知涉案人到案說明或至指定機關繳交款項。\\n\\n第七章\\u3000假求職*新增\\n\\n手法及話術解析\\n</span>\n",
              "<span style=\"color: #008000; text-decoration-color: #008000\">\\n於報章雜誌或網路訊息刊登求職訊息誘騙民眾，再以設定薪資轉帳等名義騙取被害人之金融帳戶及密碼，續遭詐騙集團作為人頭</span>\n",
              "<span style=\"color: #008000; text-decoration-color: #008000\">帳戶之用。\\n\\n刊登求職廣告向應徵者騙取訂金、保證金、治裝費、訓練費或替代保證金。\\n\\n利用社群網站或交友軟體刊登出國</span>\n",
              "<span style=\"color: #008000; text-decoration-color: #008000\">高薪打工等不實廣告，利用面試時機強行帶往銀行開戶並設定約定轉帳啟用網路銀行等功能，或以簽約出借帳戶或\\n\\n\\n\\n給付每</span>\n",
              "<span style=\"color: #008000; text-decoration-color: #008000\">日報酬為由，控制被害人人身自由，拘禁於民宅或旅館內，藉此取得並利用被害人銀行帳戶收取詐騙款項。\\n\\n預防策略\\n\\n合法</span>\n",
              "<span style=\"color: #008000; text-decoration-color: #008000\">公司徵才求職不會透過網路訊息貼文，更不會以私人帳號發訊息。\\n\\n切勿聽從指示申辦個人約定帳戶，對於個人銀行帳戶、網路</span>\n",
              "<span style=\"color: #008000; text-decoration-color: #008000\">銀行帳號密碼等，應自行妥善保管，絕對不可交付陌生人。\\n\\n對網路徵才公司多查、多問、多存疑，可去電確認真偽，面試前先</span>\n",
              "<span style=\"color: #008000; text-decoration-color: #008000\">告知家人朋友行蹤，簽訂工作合約前務必詳閱內容，如有疑慮的契約不要簽，以保護自身安全。\\n\\n如若自身或家人遇有類似情形</span>\n",
              "<span style=\"color: #008000; text-decoration-color: #008000\">，請即向我國各駐外領使館處尋求協助或撥打急難救助電話0800-085095，並儘速就近向警察機關報案\\n\\n第八章\\u3000盜(冒)用網</span>\n",
              "<span style=\"color: #008000; text-decoration-color: #008000\">路帳號\\n\\n手法及話術解析\\n\\n詐騙集團盜取民眾LINE、Facebook等社群軟體帳號，再以盜用帳號傳訊息給其親友：\\n\\n朋友參加</span>\n",
              "<span style=\"color: #008000; text-decoration-color: #008000\">攝影比賽，麻煩幫忙投票WWW.XXXX.COM？\\n\\n手機送修，麻煩提供手機號碼，以便接收簡訊認證碼…\\n\\n剛才出車禍急需用錢，可以</span>\n",
              "<span style=\"color: #008000; text-decoration-color: #008000\">匯款給我嗎？\\n\\n現在不方便繳錢或匯款，可以幫忙嗎？\\n\\n現在不方便買點數卡，可以幫忙買張點數卡嗎？\\n\\n預防策略\\n\\n當</span>\n",
              "<span style=\"color: #008000; text-decoration-color: #008000\">朋友傳送訊息要求協助匯款或代購遊戲點數時，務必提高警覺，撥通電話再行確認。\\n\\n多組帳號勿使用同組密碼，避免因其中一</span>\n",
              "<span style=\"color: #008000; text-decoration-color: #008000\">組帳號遭破解而其他帳號都被盜用，並應定期更改密碼。\\n\\n避免在公用電腦登入私人帳號密碼。\\n\\n如果訊息中帶有不明連結，</span>\n",
              "<span style=\"color: #008000; text-decoration-color: #008000\">請先向發送訊息的朋友確認。\\n\\n勿下載來源不明或非官方認證應用程式，以免個資外洩。'</span>\n",
              "    <span style=\"font-weight: bold\">)</span>\n",
              "<span style=\"font-weight: bold\">]</span>\n",
              "</pre>\n"
            ]
          },
          "metadata": {}
        }
      ]
    },
    {
      "cell_type": "code",
      "source": [
        "text_splitter = RecursiveCharacterTextSplitter(\n",
        "    separators=[\"第[一二三四五六七八九十]+章\"],\n",
        "    is_separator_regex=True,\n",
        "    chunk_size=200,\n",
        "    chunk_overlap=10)\n",
        "splits = text_splitter.split_documents(word_docs)\n",
        "for i in splits[:3]:\n",
        "    print(i.page_content)\n",
        "    print('_'*10)"
      ],
      "metadata": {
        "id": "DZBumbo8A952",
        "colab": {
          "base_uri": "https://localhost:8080/"
        },
        "outputId": "e6765219-df9e-4b04-b748-380c9ca25f87"
      },
      "execution_count": null,
      "outputs": [
        {
          "output_type": "stream",
          "name": "stdout",
          "text": [
            "常見詐騙手法話術解析與預防策略\n",
            "__________\n",
            "第一章　假網拍詐騙\n",
            "\n",
            "手法及話術解析：\n",
            "\n",
            "民眾透過臉書、LINE或知名拍賣網站從事網路購物，詐騙集團便利用當前最新款的3C產品、限量球鞋、名牌包或熱門演唱會門票等，以明顯低於市價之價格誘引民眾下單並要求以LINE或Messenger私下交易。等被害人匯款後卻不出貨，且失去聯繫；或以貨到付款方式取貨開箱後，才發現是劣質商品。\n",
            "\n",
            "預防策略\n",
            "\n",
            "網購商品應慎選優良有信用之網路商家，透過面交方式或選擇提供第三方支付之網購平臺，以保障雙方權益並減少消費糾紛。\n",
            "\n",
            "避免透過LINE、Messenger等通訊軟體與賣家私下聯繫交易，以免求助無門。\n",
            "\n",
            "應加強查核網路商家的真實性，如粉絲專頁成立時間短、粉絲或追蹤人數過少等，可立即至經濟部網站查詢公司名稱、地址等基本資料。\n",
            "\n",
            "\n",
            "__________\n",
            "第二章　假投資*新增\n",
            "\n",
            "手法及話術解析\n",
            "\n",
            "詐騙集團透過網路社群或交友軟體主動認識被害人，並假借股票、虛擬通貨、期貨、外匯及基金等名義，吸引民眾加入LINE投資群組，初期會先讓民眾小額獲利，再以資金越多獲利越多說詞，引誘民眾加入投資網站或下載APP並投入大量資金，後續再以洗碼量不足、繳保證金、IP異常等理由拒絕出金，民眾發現帳號遭凍結或網站關閉才發現遭詐。\n",
            "\n",
            "預防策略\n",
            "\n",
            "高獲利必定伴隨高風險，聽到「保證獲利」、「穩賺不賠」必定是詐騙，民眾應選擇自己有深入瞭解過的投資標的，不要輕信來源不明投資管道或網路連結，如遇到加「LINE」進行投資必為詐騙。\n",
            "\n",
            "「165防騙宣導」LINE官方帳號及165全民防騙網可查詢詐騙LINE ID、假投資(博弈)網站及詐騙電話，同時與「165全民防騙」臉書粉絲專頁每週公布投資詐騙網站，提供民眾即時掌握最新詐騙訊息，或可至投信投顧公會網站(www.sitca.org.tw)查詢合法投資管道。\n",
            "\n",
            "\n",
            "\n",
            "\n",
            "__________\n"
          ]
        }
      ]
    },
    {
      "cell_type": "code",
      "source": [
        "word_chain = rag(splits, 'word')"
      ],
      "metadata": {
        "id": "CxCKGm9lBAcj"
      },
      "execution_count": null,
      "outputs": []
    },
    {
      "cell_type": "code",
      "source": [
        "print(word_chain.invoke(\"如何防治詐騙電話?\"))"
      ],
      "metadata": {
        "id": "OYFZrjadLe7I",
        "colab": {
          "base_uri": "https://localhost:8080/"
        },
        "outputId": "1ae87c95-76aa-48a2-f44e-7d8a9dec028e"
      },
      "execution_count": null,
      "outputs": [
        {
          "output_type": "stream",
          "name": "stdout",
          "text": [
            "根據資料中提供的內容，防治詐騙電話的方法包括：小心求證陌生來電的身份和目的，並向對方提問相關單位、職稱、姓名等資訊後再確認；警察機關不會在電話中做筆錄或要求民眾至超商收取傳真，應提高警覺；接到以親友名義來電要求匯款，應以原有電話向當事人親自確認，切勿貿然匯款。此外，務必多組帳號使用不同密碼，避免帳號被盜用。當朋友傳送訊息要求匯款或代購遊戲點數時，也應提高警覺，撥通電話再行確認。\n"
          ]
        }
      ]
    },
    {
      "cell_type": "markdown",
      "source": [
        "### Excel"
      ],
      "metadata": {
        "id": "lUtbY4JxD7G1"
      }
    },
    {
      "cell_type": "code",
      "source": [
        "excel_docs = office_file('/content/example_excel.xlsx')\n",
        "pprint(excel_docs)"
      ],
      "metadata": {
        "id": "8V4vZqVSyQMM",
        "colab": {
          "base_uri": "https://localhost:8080/",
          "height": 1000
        },
        "outputId": "1cd5937a-9d8b-4861-e131-dc328e1f30f0"
      },
      "execution_count": null,
      "outputs": [
        {
          "output_type": "display_data",
          "data": {
            "text/plain": [
              "\u001b[1m[\u001b[0m\n",
              "    \u001b[1;35mDocument\u001b[0m\u001b[1m(\u001b[0m\n",
              "        \u001b[33mmetadata\u001b[0m=\u001b[1m{\u001b[0m\u001b[32m'source'\u001b[0m: \u001b[32m'/content/example_excel.xlsx'\u001b[0m\u001b[1m}\u001b[0m,\n",
              "        \u001b[33mpage_content\u001b[0m=\u001b[32m'項次 項目 詳細說明 1 營運時間 \u001b[0m\n",
              "\u001b[32m1.週二至過五09:00~17:00。2.寒暑假期間及連續假期\u001b[0m\u001b[32m(\u001b[0m\u001b[32m收假日除外\u001b[0m\u001b[32m)\u001b[0m\u001b[32m延長營運至20:00。3.週六、週日或收假日延長營運至18:00。4.\u001b[0m\n",
              "\u001b[32m週一\u001b[0m\u001b[32m(\u001b[0m\u001b[32m寒暑假期及連續假期除外\u001b[0m\u001b[32m)\u001b[0m\u001b[32m及農曆除夕為休園日不對外開放。5.營運時間如有調整將另行公告。 2 門票資訊 \u001b[0m\n",
              "\u001b[32m全票：30元、優待票：15元、團體票：30人以上按票價打7折;◎全票：一般民眾◎優待票：1.年滿7歲而未滿12歲之兒童\u001b[0m\u001b[32m(\u001b[0m\u001b[32m出示身分證\u001b[0m\n",
              "\u001b[32m件\u001b[0m\u001b[32m)\u001b[0m\u001b[32m;2.持有效學生證之在學學生\u001b[0m\u001b[32m(\u001b[0m\u001b[32m外國在學學生須持有效期之國際數位學生證\u001b[0m\u001b[32m)\u001b[0m\u001b[32m;3.持有臺北市政府核發之低收入戶證明;◎免費入園：\u001b[0m\n",
              "\u001b[32m1.6歲\u001b[0m\u001b[32m(\u001b[0m\u001b[32m含\u001b[0m\u001b[32m)\u001b[0m\u001b[32m以下兒童;2.設籍臺北市之55歲\u001b[0m\u001b[32m(\u001b[0m\u001b[32m含\u001b[0m\u001b[32m)\u001b[0m\u001b[32m以上原住民;3.65歲\u001b[0m\u001b[32m(\u001b[0m\u001b[32m含\u001b[0m\u001b[32m)\u001b[0m\u001b[32m以上長者;4.臺北市退休公教人員持退休證者;5.身心障礙者及\u001b[0m\n",
              "\u001b[32m其必要之陪伴者1人;6.持志願服務榮譽卡之志工;7.持臺北市國小數位學生證者\u001b[0m\u001b[32m(\u001b[0m\u001b[32m私立學校為一般學生證\u001b[0m\u001b[32m)\u001b[0m\u001b[32m;8.週六及連續假期\u001b[0m\u001b[32m(\u001b[0m\u001b[32m連續假\u001b[0m\n",
              "\u001b[32m期最後一天除外\u001b[0m\u001b[32m)\u001b[0m\u001b[32m16:00後入園;9.平常日凡30人\u001b[0m\u001b[32m(\u001b[0m\u001b[32m含\u001b[0m\u001b[32m)\u001b[0m\u001b[32m以上之團體，依現行團體預約方式，於前1日17:00前完成預約作業;10.設籍臺北\u001b[0m\n",
              "\u001b[32m市之市民，於週三入園;11.持有臺北市之義勇人員\u001b[0m\u001b[32m(\u001b[0m\u001b[32m含交通、警察、消防\u001b[0m\u001b[32m)\u001b[0m\u001b[32m及民防人員身分證明。 3 K2小型遊樂設施介紹 \u001b[0m\n",
              "\u001b[32m鋼鐵碰碰車單次票價30元、身高未達90公分兒童或行動不便者請勿搭乘；每輛車限乘1人，限制體重60公斤以下之人員乘坐。 4 \u001b[0m\n",
              "\u001b[32m1號遊樂設施介紹 \u001b[0m\n",
              "\u001b[32m海洋總動員單次票價20元、身高未達100公分兒童必須由成人陪同。◎針對身高未滿85公分之幼童，或身高超過85公分但未滿2歲之幼\u001b[0m\n",
              "\u001b[32m童\u001b[0m\u001b[32m(\u001b[0m\u001b[32m須出示證明文件\u001b[0m\u001b[32m)\u001b[0m\u001b[32m，在親友陪同下可免費搭乘遊具，親友仍需付費。 5 2號遊樂設施介紹 \u001b[0m\n",
              "\u001b[32m水果摩天輪單次票價30元、身高未達120公分兒童必須由成人陪同，身高超過195公分請勿搭乘。◎針對身高未滿85公分之幼童，或身\u001b[0m\n",
              "\u001b[32m高超過85公分但未滿2歲之幼童\u001b[0m\u001b[32m(\u001b[0m\u001b[32m須出示證明文件\u001b[0m\u001b[32m)\u001b[0m\u001b[32m，在親友陪同下可免費搭乘遊具，親友仍需付費。 6 3號遊樂設施介紹 \u001b[0m\n",
              "\u001b[32m歐彼特菈星空號\u001b[0m\u001b[32m(\u001b[0m\u001b[32m銀河號\u001b[0m\u001b[32m)\u001b[0m\u001b[32m單次票價20元、身高未達100公分兒童必須由成人陪同。◎針對身高未滿85公分之幼童，或身高超過85公分\u001b[0m\n",
              "\u001b[32m但未滿2歲之幼童\u001b[0m\u001b[32m(\u001b[0m\u001b[32m須出示證明文件\u001b[0m\u001b[32m)\u001b[0m\u001b[32m，在親友陪同下可免費搭乘遊具，親友仍需付費。 7 4號遊樂設施介紹 \u001b[0m\n",
              "\u001b[32m飛天神奇號單次票價20元、身高未達90公分兒童請勿搭乘，身高達90公分未滿100公分之兒童，必須由成人陪同。 8 \u001b[0m\n",
              "\u001b[32m5號遊樂設施介紹 宇宙迴旋單次票價20元、身高未達90公分兒童請勿搭乘，身高達90公分未滿100公分之兒童，必須由成人陪同。 9\u001b[0m\n",
              "\u001b[32m6號遊樂設施介紹 星空小飛碟單次票價20元、身高未達90公分兒童及超過190公分之成人請勿搭乘 \u001b[0m\n",
              "\u001b[32m；身高達90公分未滿100公分之兒童，必須由成人陪同。 10 7號遊樂設施介紹 \u001b[0m\n",
              "\u001b[32m轉轉咖啡杯單次票價20元、身高未達90公分兒童請勿搭乘，身高達90公分未滿100公分之兒童，必須由成人陪同。 11 \u001b[0m\n",
              "\u001b[32m8號遊樂設施介紹 巡弋飛椅單次票價20元、身高未達90公分兒童請勿搭乘，身高達90公分未滿120公分之兒童，必須由成人陪同。 \u001b[0m\n",
              "\u001b[32m12 9號遊樂設施介紹 \u001b[0m\n",
              "\u001b[32m尋寶船單次票價30元、身高未達110公分兒童請勿搭乘，身高達110公分未滿130公分之兒童，必須由成人陪同。 13 \u001b[0m\n",
              "\u001b[32m10號遊樂設施介紹 \u001b[0m\n",
              "\u001b[32m魔法星際飛車單次票價30元、身高未達110公分兒童請勿搭乘，身高達110公分未滿130公分兒童，必須由成人陪同。 14 \u001b[0m\n",
              "\u001b[32m11號遊樂設施介紹 小飛龍單次票價20元、身高未達110公分兒童請勿搭乘，身高達110公分未滿130公分兒童，必須由成人陪同。 15\u001b[0m\n",
              "\u001b[32m12號遊樂設施介紹 \u001b[0m\n",
              "\u001b[32m幸福碰碰車單次票價30元、身高未達110公分兒童請勿搭乘，身高達110公分未滿130公分兒童，必須由成人陪同。 16 \u001b[0m\n",
              "\u001b[32m13號遊樂設施介紹 \u001b[0m\n",
              "\u001b[32m叢林吼吼樹屋單次票價30元、身高未達110公分兒童請勿搭乘，身高達110公分未滿140公分兒童，必須由成人陪同。 17 \u001b[0m\n",
              "\u001b[32m寶貝叢林歷險館遊戲場介紹 1. \u001b[0m\n",
              "\u001b[32m每場次遊戲時間50分鐘，可容納人數60名，提供給不同年齡層孩童盡情遊戲遊玩。【各場次時間與入場規範調整，詳依本園區 \u001b[0m\n",
              "\u001b[32m網頁及現場公告】。2. \u001b[0m\n",
              "\u001b[32m設施建議12歲以下兒童遊玩。未滿6歲（或120公分以下）之兒童須由成人陪同入場。每位成人最多可陪同10名兒童入場。3. \u001b[0m\n",
              "\u001b[32m票價：\\\\n\u001b[0m\u001b[32m(\u001b[0m\u001b[32m1\u001b[0m\u001b[32m)\u001b[0m\u001b[32m 兒童50元/次、成人30元/次。\\\\n\u001b[0m\u001b[32m(\u001b[0m\u001b[32m2\u001b[0m\u001b[32m)\u001b[0m\u001b[32m 臺北市敬老卡（限本人使用）適用於本場館使用，每場次最多可扣 30 點（1 \u001b[0m\n",
              "\u001b[32m元 1點），如遇點數不足時將以卡片餘額抵扣。\\\\n\u001b[0m\u001b[32m(\u001b[0m\u001b[32m3\u001b[0m\u001b[32m)\u001b[0m\u001b[32m 採無現金交易方式付費，提供悠遊卡、一卡通、愛金卡、信用卡、LINE \u001b[0m\n",
              "\u001b[32mPAY、一卡通MONEY、悠遊付、街口支付、Pi 錢包等多元支付方式，歡迎多加利用。\\\\n4. \u001b[0m\n",
              "\u001b[32m符合下列身份者得免費入場。\\\\n\u001b[0m\u001b[32m(\u001b[0m\u001b[32m1\u001b[0m\u001b[32m)\u001b[0m\u001b[32m2歲以下\u001b[0m\u001b[32m(\u001b[0m\u001b[32m須出示證明文件\u001b[0m\u001b[32m)\u001b[0m\u001b[32m或身高未滿85公分之幼童，得由成人陪同免費入場，惟陪同之成人仍\u001b[0m\n",
              "\u001b[32m須付費。\\\\n\u001b[0m\u001b[32m(\u001b[0m\u001b[32m2\u001b[0m\u001b[32m)\u001b[0m\u001b[32m身心障礙者本人，出示中華民國核發之身心障礙證明正本可免費入場，另註明註記有必要陪伴者資格者，陪伴者1人\u001b[0m\n",
              "\u001b[32m得免費入場。\\\\n5.本場館另提供學校、企業及各團體包場優惠方案，意者請聯絡\u001b[0m\u001b[32m(\u001b[0m\u001b[32m02\u001b[0m\u001b[32m)\u001b[0m\u001b[32m2833-3823 分機 622 \u001b[0m\n",
              "\u001b[32m翁小姐洽詢。\\\\n★注意事項 \u001b[0m\n",
              "\u001b[32m\\\\n1.為維護場內遊憩兒童安全及衛生，除進、離場走道及休憩區外，進入兒童遊戲區域內請先脫鞋，並穿著襪子遊玩。 \u001b[0m\n",
              "\u001b[32m\\\\n2.每場次結束後，將進行場內之互動或觸控設施清潔消毒，敬請配合清場。【場次時間與入場規範調整，詳依現場公告】 18 \u001b[0m\n",
              "\u001b[32m沙坑遊戲場介紹 1. \u001b[0m\n",
              "\u001b[32m位於奇幻森林與夢想海區之地面層，包含沙坑、融合式遊戲設施及滑梯，讓小朋友免費體會玩沙、融合式遊戲設施及滑梯的樂趣。2\u001b[0m\n",
              "\u001b[32m. \u001b[0m\n",
              "\u001b[32m造型滑梯區基於安全考量僅提供身高90公分至150公分以內兒童使用；融合式遊戲設施\u001b[0m\u001b[32m(\u001b[0m\u001b[32m玩沙盤、玩水盤提供2-12歲兒童使用，轉轉\u001b[0m\n",
              "\u001b[32m盤限定6歲以上且須有大人陪同方可使用\u001b[0m\u001b[32m)\u001b[0m\u001b[32m；沙坑區則沒有身高及年齡限制。3. \u001b[0m\n",
              "\u001b[32m兒童遊玩時請勿潑沙或做出危險動作，並須有20歲\u001b[0m\u001b[32m(\u001b[0m\u001b[32m含\u001b[0m\u001b[32m)\u001b[0m\u001b[32m以上成人在旁陪同指導正確使用方法及維護安全。 19 投幣式遊戲機介紹 \u001b[0m\n",
              "\u001b[32m1樓免費室內遊戲區左側及火山後方區域。2樓美食街右側區域、親子堡及劇場入口處。3樓碰碰車遊戲場右側區。 20 園區美食商店\u001b[0m\n",
              "\u001b[32m1樓美食及商店：轉轉蛋樂園、智慧無人超商、快樂屋、烤畫趣、化石先生、智慧商店;2樓美食及商店：統一多拿滋、?鋪、萃茶風\u001b[0m\n",
              "\u001b[32m、義品院義大利麵、四海遊龍、鴻屋蛋包飯、花蓮扁食、突厥、木槿花韓式食堂、呀咪食堂、熊大廚、統一超商、豆豆先生工作坊;\u001b[0m\n",
              "\u001b[32m3樓美食及商店：漢堡王、土耳其冰淇淋、葡兒飛、大眼蝦、瓦非屋、貓貓小站、鼎豐FOOD 21 兒童劇場 \u001b[0m\n",
              "\u001b[32m具有438個座位席並設有身心障礙平臺，由【如果兒童劇團】經營，每月定期更換演出劇目。在團長趙自強的帶領下，尊重孩子本能\u001b[0m\n",
              "\u001b[32m的思考與創造力，讓懂得欣賞表演藝術的孩子能在生活中感動、學習。我們深信，戲劇中的勇氣、樂觀、幽默……能夠陪伴孩子，成\u001b[0m\n",
              "\u001b[32m為他們人生中神奇的金鑰匙。讓所有進劇場看戲的小朋友都能帶回一點歡樂、感動、回憶，創造親子美好時光。票價資訊： \u001b[0m\n",
              "\u001b[32m◎演出票價：100元;◎購票地點：（1）兒童新樂園兒童劇場入口處;（2）如果兒童劇場售票系統網站;◎付款方式： \u001b[0m\n",
              "\u001b[32m（1）園內購票→可使用現金及悠遊卡;（2）網路購票→刷卡 \u001b[0m\n",
              "\u001b[32m;◎優惠方案規劃：（1）3歲以下兒童免費入場。（2）55歲以上，購票得享5折優待。（3）身心障礙人士及其必要之陪同人員（限一\u001b[0m\n",
              "\u001b[32m人），購票得享5折優待，並憑票券及身心障礙手冊入場，未出示手冊者需補足差額始得入場。\\\\n（4）團體購票另有優惠，請洽：\u001b[0m\n",
              "\u001b[32m02-28314567。◎退換票與注意事項：（1）為尊重大小觀眾權益，不論大人小孩均需持票入場。（2）退、換票最遲請於演出前10日\u001b[0m\n",
              "\u001b[32m辦理，並酌收票價10%手續費，逾期恕不受理。（3）遲到及中途離席的觀眾，請依主辦單位安排適當時間入場。（4）票券為無記名\u001b[0m\n",
              "\u001b[32m之有價券，請持票人妥善保管票券，如發生遺失、破壞、燒毀或無法辨識等情形，一概不重新發票。（5）請留意票券演出日期及時\u001b[0m\n",
              "\u001b[32m間，如有過期情事，恕不接受退款或更換。 22 樹蛙表演場 \u001b[0m\n",
              "\u001b[32m一座提供入園遊客免費觀賞藝文活動之戶外表演場地。為活絡場地使用及擴大民眾參與，提供場地予個人、學校、公司行號、機關\u001b[0m\n",
              "\u001b[32m團體等單位申請演出 \u001b[0m\n",
              "\u001b[32m，表演項目有戲劇、默劇、丑劇、舞蹈、歌唱、演奏、魔術、民俗技藝、雜耍、偶戲、朗誦詩文集、行動藝術等。 23 \u001b[0m\n",
              "\u001b[32m大眾運輸轉乘資訊 捷運轉乘公車：◎捷運劍潭站出口3→公車轉乘站 41，紅30，529\u001b[0m\u001b[32m(\u001b[0m\u001b[32m例假日停駛\u001b[0m\u001b[32m)\u001b[0m\u001b[32m，市民小巴８，兒樂2號線 \u001b[0m\n",
              "\u001b[32m→兒童新樂園◎捷運士林站出口1→公車轉乘站 255區，紅30，兒樂1號線\u001b[0m\u001b[32m(\u001b[0m\u001b[32m平日停駛\u001b[0m\u001b[32m)\u001b[0m\u001b[32m→兒童新樂園◎捷運芝山站出口1→公車轉乘站 \u001b[0m\n",
              "\u001b[32m兒樂１號線（平日停駛\u001b[0m\u001b[32m)\u001b[0m\u001b[32m=>兒童新樂園;註：兒童新樂園直達公車「兒樂1號線」及「兒樂2號線」為一般聯營公車路線（配合兒童新\u001b[0m\n",
              "\u001b[32m樂園開放時間行駛）並以1段票收費，行駛路線圖：（相關資訊以臺北市公共運輸處公告為主，請洽「我愛巴士5284臺北市公車資訊\u001b[0m\n",
              "\u001b[32m網」查詢）;◎捷運士林站出口1→公車轉乘站→紅12、557→國立科教館站下車，步行至兒童新樂園\u001b[0m\u001b[32m(\u001b[0m\u001b[32m步行約4分鐘\u001b[0m\u001b[32m)\u001b[0m\u001b[32m。◎捷運士林站出口1→\u001b[0m\n",
              "\u001b[32m公車轉乘站→北環幹線\u001b[0m\u001b[32m(\u001b[0m\u001b[32m原620\u001b[0m\u001b[32m)\u001b[0m\u001b[32m→士林監理站下車，步行至兒童新樂園\u001b[0m\u001b[32m(\u001b[0m\u001b[32m步行約3分鐘\u001b[0m\u001b[32m)\u001b[0m\u001b[32m。捷運轉乘公共自行車\u001b[0m\u001b[32m(\u001b[0m\u001b[32mYouBike\u001b[0m\u001b[32m)\u001b[0m\u001b[32m：◎捷運劍潭站\u001b[0m\n",
              "\u001b[32m出口2 YouBike租賃站→ 天文館YouBike租賃站→ 步行\u001b[0m\u001b[32m(\u001b[0m\u001b[32m約200公尺\u001b[0m\u001b[32m)\u001b[0m\u001b[32m →兒童新樂園;◎捷運士林站出口2 YouBike租賃站→ \u001b[0m\n",
              "\u001b[32m天文館YouBike租賃站→ 步行\u001b[0m\u001b[32m(\u001b[0m\u001b[32m約200公尺\u001b[0m\u001b[32m)\u001b[0m\u001b[32m \u001b[0m\n",
              "\u001b[32m→兒童新樂園;步行：◎捷運劍潭站出口1→直行基河路\u001b[0m\u001b[32m(\u001b[0m\u001b[32m距離約2公里\u001b[0m\u001b[32m)\u001b[0m\u001b[32m→兒童新樂園;◎捷運士林站出口1→直行中正路，右轉基河路\u001b[0m\u001b[32m(\u001b[0m\u001b[32m距離\u001b[0m\n",
              "\u001b[32m約1.5公里\u001b[0m\u001b[32m)\u001b[0m\u001b[32m →兒童新樂園;高鐵、臺鐵：◎搭乘至臺北車站轉捷運淡水信義線至劍潭站、士林站或芝山站轉乘公車 24 開車路線資訊 \u001b[0m\n",
              "\u001b[32m從國道一號：圓山\u001b[0m\u001b[32m(\u001b[0m\u001b[32m松江路\u001b[0m\u001b[32m)\u001b[0m\u001b[32m交流道→民族東路→民族西路→承德路→基河路→兒童新樂園，臺北\u001b[0m\u001b[32m(\u001b[0m\u001b[32m重慶北路\u001b[0m\u001b[32m)\u001b[0m\u001b[32m交流道→百齡橋→承德路→基河\u001b[0m\n",
              "\u001b[32m路→兒童新樂園。從國道三號：木柵交流道→國道3甲→辛亥路→建國高架道路→國道1號\u001b[0m\u001b[32m(\u001b[0m\u001b[32m往桃園方向\u001b[0m\u001b[32m)\u001b[0m\u001b[32m→臺北\u001b[0m\u001b[32m(\u001b[0m\u001b[32m重慶北路\u001b[0m\u001b[32m)\u001b[0m\u001b[32m交流道→百齡橋→\u001b[0m\n",
              "\u001b[32m承德路→基河路→兒童新樂園。GPS座標：東經-121°30’54.5”北緯-25°05’48.5”'\u001b[0m\n",
              "    \u001b[1m)\u001b[0m\n",
              "\u001b[1m]\u001b[0m\n"
            ],
            "text/html": [
              "<pre style=\"white-space:pre;overflow-x:auto;line-height:normal;font-family:Menlo,'DejaVu Sans Mono',consolas,'Courier New',monospace\"><span style=\"font-weight: bold\">[</span>\n",
              "    <span style=\"color: #800080; text-decoration-color: #800080; font-weight: bold\">Document</span><span style=\"font-weight: bold\">(</span>\n",
              "        <span style=\"color: #808000; text-decoration-color: #808000\">metadata</span>=<span style=\"font-weight: bold\">{</span><span style=\"color: #008000; text-decoration-color: #008000\">'source'</span>: <span style=\"color: #008000; text-decoration-color: #008000\">'/content/example_excel.xlsx'</span><span style=\"font-weight: bold\">}</span>,\n",
              "        <span style=\"color: #808000; text-decoration-color: #808000\">page_content</span>=<span style=\"color: #008000; text-decoration-color: #008000\">'項次 項目 詳細說明 1 營運時間 </span>\n",
              "<span style=\"color: #008000; text-decoration-color: #008000\">1.週二至過五09:00~17:00。2.寒暑假期間及連續假期(收假日除外)延長營運至20:00。3.週六、週日或收假日延長營運至18:00。4.</span>\n",
              "<span style=\"color: #008000; text-decoration-color: #008000\">週一(寒暑假期及連續假期除外)及農曆除夕為休園日不對外開放。5.營運時間如有調整將另行公告。 2 門票資訊 </span>\n",
              "<span style=\"color: #008000; text-decoration-color: #008000\">全票：30元、優待票：15元、團體票：30人以上按票價打7折;◎全票：一般民眾◎優待票：1.年滿7歲而未滿12歲之兒童(出示身分證</span>\n",
              "<span style=\"color: #008000; text-decoration-color: #008000\">件);2.持有效學生證之在學學生(外國在學學生須持有效期之國際數位學生證);3.持有臺北市政府核發之低收入戶證明;◎免費入園：</span>\n",
              "<span style=\"color: #008000; text-decoration-color: #008000\">1.6歲(含)以下兒童;2.設籍臺北市之55歲(含)以上原住民;3.65歲(含)以上長者;4.臺北市退休公教人員持退休證者;5.身心障礙者及</span>\n",
              "<span style=\"color: #008000; text-decoration-color: #008000\">其必要之陪伴者1人;6.持志願服務榮譽卡之志工;7.持臺北市國小數位學生證者(私立學校為一般學生證);8.週六及連續假期(連續假</span>\n",
              "<span style=\"color: #008000; text-decoration-color: #008000\">期最後一天除外)16:00後入園;9.平常日凡30人(含)以上之團體，依現行團體預約方式，於前1日17:00前完成預約作業;10.設籍臺北</span>\n",
              "<span style=\"color: #008000; text-decoration-color: #008000\">市之市民，於週三入園;11.持有臺北市之義勇人員(含交通、警察、消防)及民防人員身分證明。 3 K2小型遊樂設施介紹 </span>\n",
              "<span style=\"color: #008000; text-decoration-color: #008000\">鋼鐵碰碰車單次票價30元、身高未達90公分兒童或行動不便者請勿搭乘；每輛車限乘1人，限制體重60公斤以下之人員乘坐。 4 </span>\n",
              "<span style=\"color: #008000; text-decoration-color: #008000\">1號遊樂設施介紹 </span>\n",
              "<span style=\"color: #008000; text-decoration-color: #008000\">海洋總動員單次票價20元、身高未達100公分兒童必須由成人陪同。◎針對身高未滿85公分之幼童，或身高超過85公分但未滿2歲之幼</span>\n",
              "<span style=\"color: #008000; text-decoration-color: #008000\">童(須出示證明文件)，在親友陪同下可免費搭乘遊具，親友仍需付費。 5 2號遊樂設施介紹 </span>\n",
              "<span style=\"color: #008000; text-decoration-color: #008000\">水果摩天輪單次票價30元、身高未達120公分兒童必須由成人陪同，身高超過195公分請勿搭乘。◎針對身高未滿85公分之幼童，或身</span>\n",
              "<span style=\"color: #008000; text-decoration-color: #008000\">高超過85公分但未滿2歲之幼童(須出示證明文件)，在親友陪同下可免費搭乘遊具，親友仍需付費。 6 3號遊樂設施介紹 </span>\n",
              "<span style=\"color: #008000; text-decoration-color: #008000\">歐彼特菈星空號(銀河號)單次票價20元、身高未達100公分兒童必須由成人陪同。◎針對身高未滿85公分之幼童，或身高超過85公分</span>\n",
              "<span style=\"color: #008000; text-decoration-color: #008000\">但未滿2歲之幼童(須出示證明文件)，在親友陪同下可免費搭乘遊具，親友仍需付費。 7 4號遊樂設施介紹 </span>\n",
              "<span style=\"color: #008000; text-decoration-color: #008000\">飛天神奇號單次票價20元、身高未達90公分兒童請勿搭乘，身高達90公分未滿100公分之兒童，必須由成人陪同。 8 </span>\n",
              "<span style=\"color: #008000; text-decoration-color: #008000\">5號遊樂設施介紹 宇宙迴旋單次票價20元、身高未達90公分兒童請勿搭乘，身高達90公分未滿100公分之兒童，必須由成人陪同。 9</span>\n",
              "<span style=\"color: #008000; text-decoration-color: #008000\">6號遊樂設施介紹 星空小飛碟單次票價20元、身高未達90公分兒童及超過190公分之成人請勿搭乘 </span>\n",
              "<span style=\"color: #008000; text-decoration-color: #008000\">；身高達90公分未滿100公分之兒童，必須由成人陪同。 10 7號遊樂設施介紹 </span>\n",
              "<span style=\"color: #008000; text-decoration-color: #008000\">轉轉咖啡杯單次票價20元、身高未達90公分兒童請勿搭乘，身高達90公分未滿100公分之兒童，必須由成人陪同。 11 </span>\n",
              "<span style=\"color: #008000; text-decoration-color: #008000\">8號遊樂設施介紹 巡弋飛椅單次票價20元、身高未達90公分兒童請勿搭乘，身高達90公分未滿120公分之兒童，必須由成人陪同。 </span>\n",
              "<span style=\"color: #008000; text-decoration-color: #008000\">12 9號遊樂設施介紹 </span>\n",
              "<span style=\"color: #008000; text-decoration-color: #008000\">尋寶船單次票價30元、身高未達110公分兒童請勿搭乘，身高達110公分未滿130公分之兒童，必須由成人陪同。 13 </span>\n",
              "<span style=\"color: #008000; text-decoration-color: #008000\">10號遊樂設施介紹 </span>\n",
              "<span style=\"color: #008000; text-decoration-color: #008000\">魔法星際飛車單次票價30元、身高未達110公分兒童請勿搭乘，身高達110公分未滿130公分兒童，必須由成人陪同。 14 </span>\n",
              "<span style=\"color: #008000; text-decoration-color: #008000\">11號遊樂設施介紹 小飛龍單次票價20元、身高未達110公分兒童請勿搭乘，身高達110公分未滿130公分兒童，必須由成人陪同。 15</span>\n",
              "<span style=\"color: #008000; text-decoration-color: #008000\">12號遊樂設施介紹 </span>\n",
              "<span style=\"color: #008000; text-decoration-color: #008000\">幸福碰碰車單次票價30元、身高未達110公分兒童請勿搭乘，身高達110公分未滿130公分兒童，必須由成人陪同。 16 </span>\n",
              "<span style=\"color: #008000; text-decoration-color: #008000\">13號遊樂設施介紹 </span>\n",
              "<span style=\"color: #008000; text-decoration-color: #008000\">叢林吼吼樹屋單次票價30元、身高未達110公分兒童請勿搭乘，身高達110公分未滿140公分兒童，必須由成人陪同。 17 </span>\n",
              "<span style=\"color: #008000; text-decoration-color: #008000\">寶貝叢林歷險館遊戲場介紹 1. </span>\n",
              "<span style=\"color: #008000; text-decoration-color: #008000\">每場次遊戲時間50分鐘，可容納人數60名，提供給不同年齡層孩童盡情遊戲遊玩。【各場次時間與入場規範調整，詳依本園區 </span>\n",
              "<span style=\"color: #008000; text-decoration-color: #008000\">網頁及現場公告】。2. </span>\n",
              "<span style=\"color: #008000; text-decoration-color: #008000\">設施建議12歲以下兒童遊玩。未滿6歲（或120公分以下）之兒童須由成人陪同入場。每位成人最多可陪同10名兒童入場。3. </span>\n",
              "<span style=\"color: #008000; text-decoration-color: #008000\">票價：\\\\n(1) 兒童50元/次、成人30元/次。\\\\n(2) 臺北市敬老卡（限本人使用）適用於本場館使用，每場次最多可扣 30 點（1 </span>\n",
              "<span style=\"color: #008000; text-decoration-color: #008000\">元 1點），如遇點數不足時將以卡片餘額抵扣。\\\\n(3) 採無現金交易方式付費，提供悠遊卡、一卡通、愛金卡、信用卡、LINE </span>\n",
              "<span style=\"color: #008000; text-decoration-color: #008000\">PAY、一卡通MONEY、悠遊付、街口支付、Pi 錢包等多元支付方式，歡迎多加利用。\\\\n4. </span>\n",
              "<span style=\"color: #008000; text-decoration-color: #008000\">符合下列身份者得免費入場。\\\\n(1)2歲以下(須出示證明文件)或身高未滿85公分之幼童，得由成人陪同免費入場，惟陪同之成人仍</span>\n",
              "<span style=\"color: #008000; text-decoration-color: #008000\">須付費。\\\\n(2)身心障礙者本人，出示中華民國核發之身心障礙證明正本可免費入場，另註明註記有必要陪伴者資格者，陪伴者1人</span>\n",
              "<span style=\"color: #008000; text-decoration-color: #008000\">得免費入場。\\\\n5.本場館另提供學校、企業及各團體包場優惠方案，意者請聯絡(02)2833-3823 分機 622 </span>\n",
              "<span style=\"color: #008000; text-decoration-color: #008000\">翁小姐洽詢。\\\\n★注意事項 </span>\n",
              "<span style=\"color: #008000; text-decoration-color: #008000\">\\\\n1.為維護場內遊憩兒童安全及衛生，除進、離場走道及休憩區外，進入兒童遊戲區域內請先脫鞋，並穿著襪子遊玩。 </span>\n",
              "<span style=\"color: #008000; text-decoration-color: #008000\">\\\\n2.每場次結束後，將進行場內之互動或觸控設施清潔消毒，敬請配合清場。【場次時間與入場規範調整，詳依現場公告】 18 </span>\n",
              "<span style=\"color: #008000; text-decoration-color: #008000\">沙坑遊戲場介紹 1. </span>\n",
              "<span style=\"color: #008000; text-decoration-color: #008000\">位於奇幻森林與夢想海區之地面層，包含沙坑、融合式遊戲設施及滑梯，讓小朋友免費體會玩沙、融合式遊戲設施及滑梯的樂趣。2</span>\n",
              "<span style=\"color: #008000; text-decoration-color: #008000\">. </span>\n",
              "<span style=\"color: #008000; text-decoration-color: #008000\">造型滑梯區基於安全考量僅提供身高90公分至150公分以內兒童使用；融合式遊戲設施(玩沙盤、玩水盤提供2-12歲兒童使用，轉轉</span>\n",
              "<span style=\"color: #008000; text-decoration-color: #008000\">盤限定6歲以上且須有大人陪同方可使用)；沙坑區則沒有身高及年齡限制。3. </span>\n",
              "<span style=\"color: #008000; text-decoration-color: #008000\">兒童遊玩時請勿潑沙或做出危險動作，並須有20歲(含)以上成人在旁陪同指導正確使用方法及維護安全。 19 投幣式遊戲機介紹 </span>\n",
              "<span style=\"color: #008000; text-decoration-color: #008000\">1樓免費室內遊戲區左側及火山後方區域。2樓美食街右側區域、親子堡及劇場入口處。3樓碰碰車遊戲場右側區。 20 園區美食商店</span>\n",
              "<span style=\"color: #008000; text-decoration-color: #008000\">1樓美食及商店：轉轉蛋樂園、智慧無人超商、快樂屋、烤畫趣、化石先生、智慧商店;2樓美食及商店：統一多拿滋、?鋪、萃茶風</span>\n",
              "<span style=\"color: #008000; text-decoration-color: #008000\">、義品院義大利麵、四海遊龍、鴻屋蛋包飯、花蓮扁食、突厥、木槿花韓式食堂、呀咪食堂、熊大廚、統一超商、豆豆先生工作坊;</span>\n",
              "<span style=\"color: #008000; text-decoration-color: #008000\">3樓美食及商店：漢堡王、土耳其冰淇淋、葡兒飛、大眼蝦、瓦非屋、貓貓小站、鼎豐FOOD 21 兒童劇場 </span>\n",
              "<span style=\"color: #008000; text-decoration-color: #008000\">具有438個座位席並設有身心障礙平臺，由【如果兒童劇團】經營，每月定期更換演出劇目。在團長趙自強的帶領下，尊重孩子本能</span>\n",
              "<span style=\"color: #008000; text-decoration-color: #008000\">的思考與創造力，讓懂得欣賞表演藝術的孩子能在生活中感動、學習。我們深信，戲劇中的勇氣、樂觀、幽默……能夠陪伴孩子，成</span>\n",
              "<span style=\"color: #008000; text-decoration-color: #008000\">為他們人生中神奇的金鑰匙。讓所有進劇場看戲的小朋友都能帶回一點歡樂、感動、回憶，創造親子美好時光。票價資訊： </span>\n",
              "<span style=\"color: #008000; text-decoration-color: #008000\">◎演出票價：100元;◎購票地點：（1）兒童新樂園兒童劇場入口處;（2）如果兒童劇場售票系統網站;◎付款方式： </span>\n",
              "<span style=\"color: #008000; text-decoration-color: #008000\">（1）園內購票→可使用現金及悠遊卡;（2）網路購票→刷卡 </span>\n",
              "<span style=\"color: #008000; text-decoration-color: #008000\">;◎優惠方案規劃：（1）3歲以下兒童免費入場。（2）55歲以上，購票得享5折優待。（3）身心障礙人士及其必要之陪同人員（限一</span>\n",
              "<span style=\"color: #008000; text-decoration-color: #008000\">人），購票得享5折優待，並憑票券及身心障礙手冊入場，未出示手冊者需補足差額始得入場。\\\\n（4）團體購票另有優惠，請洽：</span>\n",
              "<span style=\"color: #008000; text-decoration-color: #008000\">02-28314567。◎退換票與注意事項：（1）為尊重大小觀眾權益，不論大人小孩均需持票入場。（2）退、換票最遲請於演出前10日</span>\n",
              "<span style=\"color: #008000; text-decoration-color: #008000\">辦理，並酌收票價10%手續費，逾期恕不受理。（3）遲到及中途離席的觀眾，請依主辦單位安排適當時間入場。（4）票券為無記名</span>\n",
              "<span style=\"color: #008000; text-decoration-color: #008000\">之有價券，請持票人妥善保管票券，如發生遺失、破壞、燒毀或無法辨識等情形，一概不重新發票。（5）請留意票券演出日期及時</span>\n",
              "<span style=\"color: #008000; text-decoration-color: #008000\">間，如有過期情事，恕不接受退款或更換。 22 樹蛙表演場 </span>\n",
              "<span style=\"color: #008000; text-decoration-color: #008000\">一座提供入園遊客免費觀賞藝文活動之戶外表演場地。為活絡場地使用及擴大民眾參與，提供場地予個人、學校、公司行號、機關</span>\n",
              "<span style=\"color: #008000; text-decoration-color: #008000\">團體等單位申請演出 </span>\n",
              "<span style=\"color: #008000; text-decoration-color: #008000\">，表演項目有戲劇、默劇、丑劇、舞蹈、歌唱、演奏、魔術、民俗技藝、雜耍、偶戲、朗誦詩文集、行動藝術等。 23 </span>\n",
              "<span style=\"color: #008000; text-decoration-color: #008000\">大眾運輸轉乘資訊 捷運轉乘公車：◎捷運劍潭站出口3→公車轉乘站 41，紅30，529(例假日停駛)，市民小巴８，兒樂2號線 </span>\n",
              "<span style=\"color: #008000; text-decoration-color: #008000\">→兒童新樂園◎捷運士林站出口1→公車轉乘站 255區，紅30，兒樂1號線(平日停駛)→兒童新樂園◎捷運芝山站出口1→公車轉乘站 </span>\n",
              "<span style=\"color: #008000; text-decoration-color: #008000\">兒樂１號線（平日停駛)=&gt;兒童新樂園;註：兒童新樂園直達公車「兒樂1號線」及「兒樂2號線」為一般聯營公車路線（配合兒童新</span>\n",
              "<span style=\"color: #008000; text-decoration-color: #008000\">樂園開放時間行駛）並以1段票收費，行駛路線圖：（相關資訊以臺北市公共運輸處公告為主，請洽「我愛巴士5284臺北市公車資訊</span>\n",
              "<span style=\"color: #008000; text-decoration-color: #008000\">網」查詢）;◎捷運士林站出口1→公車轉乘站→紅12、557→國立科教館站下車，步行至兒童新樂園(步行約4分鐘)。◎捷運士林站出口1→</span>\n",
              "<span style=\"color: #008000; text-decoration-color: #008000\">公車轉乘站→北環幹線(原620)→士林監理站下車，步行至兒童新樂園(步行約3分鐘)。捷運轉乘公共自行車(YouBike)：◎捷運劍潭站</span>\n",
              "<span style=\"color: #008000; text-decoration-color: #008000\">出口2 YouBike租賃站→ 天文館YouBike租賃站→ 步行(約200公尺) →兒童新樂園;◎捷運士林站出口2 YouBike租賃站→ </span>\n",
              "<span style=\"color: #008000; text-decoration-color: #008000\">天文館YouBike租賃站→ 步行(約200公尺) </span>\n",
              "<span style=\"color: #008000; text-decoration-color: #008000\">→兒童新樂園;步行：◎捷運劍潭站出口1→直行基河路(距離約2公里)→兒童新樂園;◎捷運士林站出口1→直行中正路，右轉基河路(距離</span>\n",
              "<span style=\"color: #008000; text-decoration-color: #008000\">約1.5公里) →兒童新樂園;高鐵、臺鐵：◎搭乘至臺北車站轉捷運淡水信義線至劍潭站、士林站或芝山站轉乘公車 24 開車路線資訊 </span>\n",
              "<span style=\"color: #008000; text-decoration-color: #008000\">從國道一號：圓山(松江路)交流道→民族東路→民族西路→承德路→基河路→兒童新樂園，臺北(重慶北路)交流道→百齡橋→承德路→基河</span>\n",
              "<span style=\"color: #008000; text-decoration-color: #008000\">路→兒童新樂園。從國道三號：木柵交流道→國道3甲→辛亥路→建國高架道路→國道1號(往桃園方向)→臺北(重慶北路)交流道→百齡橋→</span>\n",
              "<span style=\"color: #008000; text-decoration-color: #008000\">承德路→基河路→兒童新樂園。GPS座標：東經-121°30’54.5”北緯-25°05’48.5”'</span>\n",
              "    <span style=\"font-weight: bold\">)</span>\n",
              "<span style=\"font-weight: bold\">]</span>\n",
              "</pre>\n"
            ]
          },
          "metadata": {}
        }
      ]
    },
    {
      "cell_type": "code",
      "source": [
        "text_splitter = RecursiveCharacterTextSplitter(\n",
        "    separators=[\"\\n\\n\\n\"],\n",
        "    chunk_size=150,\n",
        "    chunk_overlap=0)\n",
        "splits = text_splitter.split_documents(excel_docs)\n",
        "for i in splits[:5]:\n",
        "    print(i.page_content)\n",
        "    print('_'*10)"
      ],
      "metadata": {
        "id": "TQY4inJ7yWaJ",
        "colab": {
          "base_uri": "https://localhost:8080/"
        },
        "outputId": "9bc77f93-c016-4cd3-cc7a-4877202f588e"
      },
      "execution_count": null,
      "outputs": [
        {
          "output_type": "stream",
          "name": "stdout",
          "text": [
            "項次 項目 詳細說明 1 營運時間 1.週二至過五09:00~17:00。2.寒暑假期間及連續假期(收假日除外)延長營運至20:00。3.週六、週日或收假日延長營運至18:00。4.週一(寒暑假期及連續假期除外)及農曆除夕為休園日不對外開放。5.營運時間如有調整將另行公告。 2 門票資訊 全票：30元、優待票：15元、團體票：30人以上按票價打7折;◎全票：一般民眾◎優待票：1.年滿7歲而未滿12歲之兒童(出示身分證件);2.持有效學生證之在學學生(外國在學學生須持有效期之國際數位學生證);3.持有臺北市政府核發之低收入戶證明;◎免費入園：1.6歲(含)以下兒童;2.設籍臺北市之55歲(含)以上原住民;3.65歲(含)以上長者;4.臺北市退休公教人員持退休證者;5.身心障礙者及其必要之陪伴者1人;6.持志願服務榮譽卡之志工;7.持臺北市國小數位學生證者(私立學校為一般學生證);8.週六及連續假期(連續假期最後一天除外)16:00後入園;9.平常日凡30人(含)以上之團體，依現行團體預約方式，於前1日17:00前完成預約作業;10.設籍臺北市之市民，於週三入園;11.持有臺北市之義勇人員(含交通、警察、消防)及民防人員身分證明。 3 K2小型遊樂設施介紹 鋼鐵碰碰車單次票價30元、身高未達90公分兒童或行動不便者請勿搭乘；每輛車限乘1人，限制體重60公斤以下之人員乘坐。 4 1號遊樂設施介紹 海洋總動員單次票價20元、身高未達100公分兒童必須由成人陪同。◎針對身高未滿85公分之幼童，或身高超過85公分但未滿2歲之幼童(須出示證明文件)，在親友陪同下可免費搭乘遊具，親友仍需付費。 5 2號遊樂設施介紹 水果摩天輪單次票價30元、身高未達120公分兒童必須由成人陪同，身高超過195公分請勿搭乘。◎針對身高未滿85公分之幼童，或身高超過85公分但未滿2歲之幼童(須出示證明文件)，在親友陪同下可免費搭乘遊具，親友仍需付費。 6 3號遊樂設施介紹 歐彼特菈星空號(銀河號)單次票價20元、身高未達100公分兒童必須由成人陪同。◎針對身高未滿85公分之幼童，或身高超過85公分但未滿2歲之幼童(須出示證明文件)，在親友陪同下可免費搭乘遊具，親友仍需付費。 7 4號遊樂設施介紹 飛天神奇號單次票價20元、身高未達90公分兒童請勿搭乘，身高達90公分未滿100公分之兒童，必須由成人陪同。 8 5號遊樂設施介紹 宇宙迴旋單次票價20元、身高未達90公分兒童請勿搭乘，身高達90公分未滿100公分之兒童，必須由成人陪同。 9 6號遊樂設施介紹 星空小飛碟單次票價20元、身高未達90公分兒童及超過190公分之成人請勿搭乘 ；身高達90公分未滿100公分之兒童，必須由成人陪同。 10 7號遊樂設施介紹 轉轉咖啡杯單次票價20元、身高未達90公分兒童請勿搭乘，身高達90公分未滿100公分之兒童，必須由成人陪同。 11 8號遊樂設施介紹 巡弋飛椅單次票價20元、身高未達90公分兒童請勿搭乘，身高達90公分未滿120公分之兒童，必須由成人陪同。 12 9號遊樂設施介紹 尋寶船單次票價30元、身高未達110公分兒童請勿搭乘，身高達110公分未滿130公分之兒童，必須由成人陪同。 13 10號遊樂設施介紹 魔法星際飛車單次票價30元、身高未達110公分兒童請勿搭乘，身高達110公分未滿130公分兒童，必須由成人陪同。 14 11號遊樂設施介紹 小飛龍單次票價20元、身高未達110公分兒童請勿搭乘，身高達110公分未滿130公分兒童，必須由成人陪同。 15 12號遊樂設施介紹 幸福碰碰車單次票價30元、身高未達110公分兒童請勿搭乘，身高達110公分未滿130公分兒童，必須由成人陪同。 16 13號遊樂設施介紹 叢林吼吼樹屋單次票價30元、身高未達110公分兒童請勿搭乘，身高達110公分未滿140公分兒童，必須由成人陪同。 17 寶貝叢林歷險館遊戲場介紹 1. 每場次遊戲時間50分鐘，可容納人數60名，提供給不同年齡層孩童盡情遊戲遊玩。【各場次時間與入場規範調整，詳依本園區 網頁及現場公告】。2. 設施建議12歲以下兒童遊玩。未滿6歲（或120公分以下）之兒童須由成人陪同入場。每位成人最多可陪同10名兒童入場。3. 票價：\\n(1) 兒童50元/次、成人30元/次。\\n(2) 臺北市敬老卡（限本人使用）適用於本場館使用，每場次最多可扣 30 點（1 元 1點），如遇點數不足時將以卡片餘額抵扣。\\n(3) 採無現金交易方式付費，提供悠遊卡、一卡通、愛金卡、信用卡、LINE PAY、一卡通MONEY、悠遊付、街口支付、Pi 錢包等多元支付方式，歡迎多加利用。\\n4. 符合下列身份者得免費入場。\\n(1)2歲以下(須出示證明文件)或身高未滿85公分之幼童，得由成人陪同免費入場，惟陪同之成人仍須付費。\\n(2)身心障礙者本人，出示中華民國核發之身心障礙證明正本可免費入場，另註明註記有必要陪伴者資格者，陪伴者1人得免費入場。\\n5.本場館另提供學校、企業及各團體包場優惠方案，意者請聯絡(02)2833-3823 分機 622 翁小姐洽詢。\\n★注意事項 \\n1.為維護場內遊憩兒童安全及衛生，除進、離場走道及休憩區外，進入兒童遊戲區域內請先脫鞋，並穿著襪子遊玩。 \\n2.每場次結束後，將進行場內之互動或觸控設施清潔消毒，敬請配合清場。【場次時間與入場規範調整，詳依現場公告】 18 沙坑遊戲場介紹 1. 位於奇幻森林與夢想海區之地面層，包含沙坑、融合式遊戲設施及滑梯，讓小朋友免費體會玩沙、融合式遊戲設施及滑梯的樂趣。2. 造型滑梯區基於安全考量僅提供身高90公分至150公分以內兒童使用；融合式遊戲設施(玩沙盤、玩水盤提供2-12歲兒童使用，轉轉盤限定6歲以上且須有大人陪同方可使用)；沙坑區則沒有身高及年齡限制。3. 兒童遊玩時請勿潑沙或做出危險動作，並須有20歲(含)以上成人在旁陪同指導正確使用方法及維護安全。 19 投幣式遊戲機介紹 1樓免費室內遊戲區左側及火山後方區域。2樓美食街右側區域、親子堡及劇場入口處。3樓碰碰車遊戲場右側區。 20 園區美食商店 1樓美食及商店：轉轉蛋樂園、智慧無人超商、快樂屋、烤畫趣、化石先生、智慧商店;2樓美食及商店：統一多拿滋、?鋪、萃茶風、義品院義大利麵、四海遊龍、鴻屋蛋包飯、花蓮扁食、突厥、木槿花韓式食堂、呀咪食堂、熊大廚、統一超商、豆豆先生工作坊;3樓美食及商店：漢堡王、土耳其冰淇淋、葡兒飛、大眼蝦、瓦非屋、貓貓小站、鼎豐FOOD 21 兒童劇場 具有438個座位席並設有身心障礙平臺，由【如果兒童劇團】經營，每月定期更換演出劇目。在團長趙自強的帶領下，尊重孩子本能的思考與創造力，讓懂得欣賞表演藝術的孩子能在生活中感動、學習。我們深信，戲劇中的勇氣、樂觀、幽默……能夠陪伴孩子，成為他們人生中神奇的金鑰匙。讓所有進劇場看戲的小朋友都能帶回一點歡樂、感動、回憶，創造親子美好時光。票價資訊： ◎演出票價：100元;◎購票地點：（1）兒童新樂園兒童劇場入口處;（2）如果兒童劇場售票系統網站;◎付款方式： （1）園內購票→可使用現金及悠遊卡;（2）網路購票→刷卡 ;◎優惠方案規劃：（1）3歲以下兒童免費入場。（2）55歲以上，購票得享5折優待。（3）身心障礙人士及其必要之陪同人員（限一人），購票得享5折優待，並憑票券及身心障礙手冊入場，未出示手冊者需補足差額始得入場。\\n（4）團體購票另有優惠，請洽：02-28314567。◎退換票與注意事項：（1）為尊重大小觀眾權益，不論大人小孩均需持票入場。（2）退、換票最遲請於演出前10日辦理，並酌收票價10%手續費，逾期恕不受理。（3）遲到及中途離席的觀眾，請依主辦單位安排適當時間入場。（4）票券為無記名之有價券，請持票人妥善保管票券，如發生遺失、破壞、燒毀或無法辨識等情形，一概不重新發票。（5）請留意票券演出日期及時間，如有過期情事，恕不接受退款或更換。 22 樹蛙表演場 一座提供入園遊客免費觀賞藝文活動之戶外表演場地。為活絡場地使用及擴大民眾參與，提供場地予個人、學校、公司行號、機關團體等單位申請演出 ，表演項目有戲劇、默劇、丑劇、舞蹈、歌唱、演奏、魔術、民俗技藝、雜耍、偶戲、朗誦詩文集、行動藝術等。 23 大眾運輸轉乘資訊 捷運轉乘公車：◎捷運劍潭站出口3→公車轉乘站 41，紅30，529(例假日停駛)，市民小巴８，兒樂2號線 →兒童新樂園◎捷運士林站出口1→公車轉乘站 255區，紅30，兒樂1號線(平日停駛)→兒童新樂園◎捷運芝山站出口1→公車轉乘站 兒樂１號線（平日停駛)=>兒童新樂園;註：兒童新樂園直達公車「兒樂1號線」及「兒樂2號線」為一般聯營公車路線（配合兒童新樂園開放時間行駛）並以1段票收費，行駛路線圖：（相關資訊以臺北市公共運輸處公告為主，請洽「我愛巴士5284臺北市公車資訊網」查詢）;◎捷運士林站出口1→公車轉乘站→紅12、557→國立科教館站下車，步行至兒童新樂園(步行約4分鐘)。◎捷運士林站出口1→公車轉乘站→北環幹線(原620)→士林監理站下車，步行至兒童新樂園(步行約3分鐘)。捷運轉乘公共自行車(YouBike)：◎捷運劍潭站出口2 YouBike租賃站→ 天文館YouBike租賃站→ 步行(約200公尺) →兒童新樂園;◎捷運士林站出口2 YouBike租賃站→ 天文館YouBike租賃站→ 步行(約200公尺) →兒童新樂園;步行：◎捷運劍潭站出口1→直行基河路(距離約2公里)→兒童新樂園;◎捷運士林站出口1→直行中正路，右轉基河路(距離約1.5公里) →兒童新樂園;高鐵、臺鐵：◎搭乘至臺北車站轉捷運淡水信義線至劍潭站、士林站或芝山站轉乘公車 24 開車路線資訊 從國道一號：圓山(松江路)交流道→民族東路→民族西路→承德路→基河路→兒童新樂園，臺北(重慶北路)交流道→百齡橋→承德路→基河路→兒童新樂園。從國道三號：木柵交流道→國道3甲→辛亥路→建國高架道路→國道1號(往桃園方向)→臺北(重慶北路)交流道→百齡橋→承德路→基河路→兒童新樂園。GPS座標：東經-121°30’54.5”北緯-25°05’48.5”\n",
            "__________\n"
          ]
        }
      ]
    },
    {
      "cell_type": "code",
      "source": [
        "excel_chain = rag(splits, 'excel')"
      ],
      "metadata": {
        "id": "SzfZeguvKBtD"
      },
      "execution_count": null,
      "outputs": []
    },
    {
      "cell_type": "code",
      "source": [
        "print(excel_chain.invoke(\"我身高超過 120 公分, 我可玩那些遊樂設施?\"))"
      ],
      "metadata": {
        "id": "LUS5k-HmLi9t",
        "colab": {
          "base_uri": "https://localhost:8080/"
        },
        "outputId": "dfd0629b-28b7-4eed-fd87-d3fdcced5b57"
      },
      "execution_count": null,
      "outputs": [
        {
          "output_type": "stream",
          "name": "stdout",
          "text": [
            "根據提供的資訊，您身高超過120公分可參加以下遊樂設施：\n",
            "- 1 號遊樂設施：海洋總動員\n",
            "- 2 號遊樂設施：水果摩天輪\n",
            "- 3 號遊樂設施：歐彼特菈星空號(銀河號)\n",
            "- 9 號遊樂設施：尋寶船\n",
            "- 10 號遊樂設施：魔法星際飛車\n",
            "- 13 號遊樂設施：叢林吼吼樹屋\n",
            "\n",
            "這些遊樂設施都適合身高超過120公分的您玩樂。\n"
          ]
        }
      ]
    },
    {
      "cell_type": "markdown",
      "source": [
        "### CSV"
      ],
      "metadata": {
        "id": "OvxPO7ikOji3"
      }
    },
    {
      "cell_type": "code",
      "source": [
        "import pandas as pd\n",
        "df = pd.read_csv(\"/content/example_csv.csv\", skiprows=1)\n",
        "df.head()"
      ],
      "metadata": {
        "id": "EQDAfppiO7FV",
        "colab": {
          "base_uri": "https://localhost:8080/",
          "height": 206
        },
        "outputId": "adc6ae04-c07d-493b-b5a6-314ccaf53817"
      },
      "execution_count": null,
      "outputs": [
        {
          "output_type": "execute_result",
          "data": {
            "text/plain": [
              "          日期        成交股數            成交金額    開盤價    最高價    最低價    收盤價 漲跌價差  \\\n",
              "0  113/03/01  24,167,721  16,699,995,060  697.0  697.0  688.0  689.0   -1   \n",
              "1  113/03/04  97,210,112  69,868,348,694  714.0  725.0  711.0  725.0   36   \n",
              "2  113/03/05  73,299,411  53,751,887,376  735.0  738.0  728.0  730.0    5   \n",
              "3  113/03/06  52,464,833  38,203,868,985  718.0  738.0  717.0  735.0    5   \n",
              "4  113/03/07  80,382,406  61,221,034,146  755.0  769.0  754.0  760.0   25   \n",
              "\n",
              "      成交筆數  \n",
              "0   26,282  \n",
              "1  125,799  \n",
              "2   69,851  \n",
              "3   49,897  \n",
              "4   96,348  "
            ],
            "text/html": [
              "\n",
              "  <div id=\"df-aa383bd7-710e-4009-a0df-f80c27325185\" class=\"colab-df-container\">\n",
              "    <div>\n",
              "<style scoped>\n",
              "    .dataframe tbody tr th:only-of-type {\n",
              "        vertical-align: middle;\n",
              "    }\n",
              "\n",
              "    .dataframe tbody tr th {\n",
              "        vertical-align: top;\n",
              "    }\n",
              "\n",
              "    .dataframe thead th {\n",
              "        text-align: right;\n",
              "    }\n",
              "</style>\n",
              "<table border=\"1\" class=\"dataframe\">\n",
              "  <thead>\n",
              "    <tr style=\"text-align: right;\">\n",
              "      <th></th>\n",
              "      <th>日期</th>\n",
              "      <th>成交股數</th>\n",
              "      <th>成交金額</th>\n",
              "      <th>開盤價</th>\n",
              "      <th>最高價</th>\n",
              "      <th>最低價</th>\n",
              "      <th>收盤價</th>\n",
              "      <th>漲跌價差</th>\n",
              "      <th>成交筆數</th>\n",
              "    </tr>\n",
              "  </thead>\n",
              "  <tbody>\n",
              "    <tr>\n",
              "      <th>0</th>\n",
              "      <td>113/03/01</td>\n",
              "      <td>24,167,721</td>\n",
              "      <td>16,699,995,060</td>\n",
              "      <td>697.0</td>\n",
              "      <td>697.0</td>\n",
              "      <td>688.0</td>\n",
              "      <td>689.0</td>\n",
              "      <td>-1</td>\n",
              "      <td>26,282</td>\n",
              "    </tr>\n",
              "    <tr>\n",
              "      <th>1</th>\n",
              "      <td>113/03/04</td>\n",
              "      <td>97,210,112</td>\n",
              "      <td>69,868,348,694</td>\n",
              "      <td>714.0</td>\n",
              "      <td>725.0</td>\n",
              "      <td>711.0</td>\n",
              "      <td>725.0</td>\n",
              "      <td>36</td>\n",
              "      <td>125,799</td>\n",
              "    </tr>\n",
              "    <tr>\n",
              "      <th>2</th>\n",
              "      <td>113/03/05</td>\n",
              "      <td>73,299,411</td>\n",
              "      <td>53,751,887,376</td>\n",
              "      <td>735.0</td>\n",
              "      <td>738.0</td>\n",
              "      <td>728.0</td>\n",
              "      <td>730.0</td>\n",
              "      <td>5</td>\n",
              "      <td>69,851</td>\n",
              "    </tr>\n",
              "    <tr>\n",
              "      <th>3</th>\n",
              "      <td>113/03/06</td>\n",
              "      <td>52,464,833</td>\n",
              "      <td>38,203,868,985</td>\n",
              "      <td>718.0</td>\n",
              "      <td>738.0</td>\n",
              "      <td>717.0</td>\n",
              "      <td>735.0</td>\n",
              "      <td>5</td>\n",
              "      <td>49,897</td>\n",
              "    </tr>\n",
              "    <tr>\n",
              "      <th>4</th>\n",
              "      <td>113/03/07</td>\n",
              "      <td>80,382,406</td>\n",
              "      <td>61,221,034,146</td>\n",
              "      <td>755.0</td>\n",
              "      <td>769.0</td>\n",
              "      <td>754.0</td>\n",
              "      <td>760.0</td>\n",
              "      <td>25</td>\n",
              "      <td>96,348</td>\n",
              "    </tr>\n",
              "  </tbody>\n",
              "</table>\n",
              "</div>\n",
              "    <div class=\"colab-df-buttons\">\n",
              "\n",
              "  <div class=\"colab-df-container\">\n",
              "    <button class=\"colab-df-convert\" onclick=\"convertToInteractive('df-aa383bd7-710e-4009-a0df-f80c27325185')\"\n",
              "            title=\"Convert this dataframe to an interactive table.\"\n",
              "            style=\"display:none;\">\n",
              "\n",
              "  <svg xmlns=\"http://www.w3.org/2000/svg\" height=\"24px\" viewBox=\"0 -960 960 960\">\n",
              "    <path d=\"M120-120v-720h720v720H120Zm60-500h600v-160H180v160Zm220 220h160v-160H400v160Zm0 220h160v-160H400v160ZM180-400h160v-160H180v160Zm440 0h160v-160H620v160ZM180-180h160v-160H180v160Zm440 0h160v-160H620v160Z\"/>\n",
              "  </svg>\n",
              "    </button>\n",
              "\n",
              "  <style>\n",
              "    .colab-df-container {\n",
              "      display:flex;\n",
              "      gap: 12px;\n",
              "    }\n",
              "\n",
              "    .colab-df-convert {\n",
              "      background-color: #E8F0FE;\n",
              "      border: none;\n",
              "      border-radius: 50%;\n",
              "      cursor: pointer;\n",
              "      display: none;\n",
              "      fill: #1967D2;\n",
              "      height: 32px;\n",
              "      padding: 0 0 0 0;\n",
              "      width: 32px;\n",
              "    }\n",
              "\n",
              "    .colab-df-convert:hover {\n",
              "      background-color: #E2EBFA;\n",
              "      box-shadow: 0px 1px 2px rgba(60, 64, 67, 0.3), 0px 1px 3px 1px rgba(60, 64, 67, 0.15);\n",
              "      fill: #174EA6;\n",
              "    }\n",
              "\n",
              "    .colab-df-buttons div {\n",
              "      margin-bottom: 4px;\n",
              "    }\n",
              "\n",
              "    [theme=dark] .colab-df-convert {\n",
              "      background-color: #3B4455;\n",
              "      fill: #D2E3FC;\n",
              "    }\n",
              "\n",
              "    [theme=dark] .colab-df-convert:hover {\n",
              "      background-color: #434B5C;\n",
              "      box-shadow: 0px 1px 3px 1px rgba(0, 0, 0, 0.15);\n",
              "      filter: drop-shadow(0px 1px 2px rgba(0, 0, 0, 0.3));\n",
              "      fill: #FFFFFF;\n",
              "    }\n",
              "  </style>\n",
              "\n",
              "    <script>\n",
              "      const buttonEl =\n",
              "        document.querySelector('#df-aa383bd7-710e-4009-a0df-f80c27325185 button.colab-df-convert');\n",
              "      buttonEl.style.display =\n",
              "        google.colab.kernel.accessAllowed ? 'block' : 'none';\n",
              "\n",
              "      async function convertToInteractive(key) {\n",
              "        const element = document.querySelector('#df-aa383bd7-710e-4009-a0df-f80c27325185');\n",
              "        const dataTable =\n",
              "          await google.colab.kernel.invokeFunction('convertToInteractive',\n",
              "                                                    [key], {});\n",
              "        if (!dataTable) return;\n",
              "\n",
              "        const docLinkHtml = 'Like what you see? Visit the ' +\n",
              "          '<a target=\"_blank\" href=https://colab.research.google.com/notebooks/data_table.ipynb>data table notebook</a>'\n",
              "          + ' to learn more about interactive tables.';\n",
              "        element.innerHTML = '';\n",
              "        dataTable['output_type'] = 'display_data';\n",
              "        await google.colab.output.renderOutput(dataTable, element);\n",
              "        const docLink = document.createElement('div');\n",
              "        docLink.innerHTML = docLinkHtml;\n",
              "        element.appendChild(docLink);\n",
              "      }\n",
              "    </script>\n",
              "  </div>\n",
              "\n",
              "\n",
              "<div id=\"df-5865ec63-d421-404b-89c5-9d4b46a1e308\">\n",
              "  <button class=\"colab-df-quickchart\" onclick=\"quickchart('df-5865ec63-d421-404b-89c5-9d4b46a1e308')\"\n",
              "            title=\"Suggest charts\"\n",
              "            style=\"display:none;\">\n",
              "\n",
              "<svg xmlns=\"http://www.w3.org/2000/svg\" height=\"24px\"viewBox=\"0 0 24 24\"\n",
              "     width=\"24px\">\n",
              "    <g>\n",
              "        <path d=\"M19 3H5c-1.1 0-2 .9-2 2v14c0 1.1.9 2 2 2h14c1.1 0 2-.9 2-2V5c0-1.1-.9-2-2-2zM9 17H7v-7h2v7zm4 0h-2V7h2v10zm4 0h-2v-4h2v4z\"/>\n",
              "    </g>\n",
              "</svg>\n",
              "  </button>\n",
              "\n",
              "<style>\n",
              "  .colab-df-quickchart {\n",
              "      --bg-color: #E8F0FE;\n",
              "      --fill-color: #1967D2;\n",
              "      --hover-bg-color: #E2EBFA;\n",
              "      --hover-fill-color: #174EA6;\n",
              "      --disabled-fill-color: #AAA;\n",
              "      --disabled-bg-color: #DDD;\n",
              "  }\n",
              "\n",
              "  [theme=dark] .colab-df-quickchart {\n",
              "      --bg-color: #3B4455;\n",
              "      --fill-color: #D2E3FC;\n",
              "      --hover-bg-color: #434B5C;\n",
              "      --hover-fill-color: #FFFFFF;\n",
              "      --disabled-bg-color: #3B4455;\n",
              "      --disabled-fill-color: #666;\n",
              "  }\n",
              "\n",
              "  .colab-df-quickchart {\n",
              "    background-color: var(--bg-color);\n",
              "    border: none;\n",
              "    border-radius: 50%;\n",
              "    cursor: pointer;\n",
              "    display: none;\n",
              "    fill: var(--fill-color);\n",
              "    height: 32px;\n",
              "    padding: 0;\n",
              "    width: 32px;\n",
              "  }\n",
              "\n",
              "  .colab-df-quickchart:hover {\n",
              "    background-color: var(--hover-bg-color);\n",
              "    box-shadow: 0 1px 2px rgba(60, 64, 67, 0.3), 0 1px 3px 1px rgba(60, 64, 67, 0.15);\n",
              "    fill: var(--button-hover-fill-color);\n",
              "  }\n",
              "\n",
              "  .colab-df-quickchart-complete:disabled,\n",
              "  .colab-df-quickchart-complete:disabled:hover {\n",
              "    background-color: var(--disabled-bg-color);\n",
              "    fill: var(--disabled-fill-color);\n",
              "    box-shadow: none;\n",
              "  }\n",
              "\n",
              "  .colab-df-spinner {\n",
              "    border: 2px solid var(--fill-color);\n",
              "    border-color: transparent;\n",
              "    border-bottom-color: var(--fill-color);\n",
              "    animation:\n",
              "      spin 1s steps(1) infinite;\n",
              "  }\n",
              "\n",
              "  @keyframes spin {\n",
              "    0% {\n",
              "      border-color: transparent;\n",
              "      border-bottom-color: var(--fill-color);\n",
              "      border-left-color: var(--fill-color);\n",
              "    }\n",
              "    20% {\n",
              "      border-color: transparent;\n",
              "      border-left-color: var(--fill-color);\n",
              "      border-top-color: var(--fill-color);\n",
              "    }\n",
              "    30% {\n",
              "      border-color: transparent;\n",
              "      border-left-color: var(--fill-color);\n",
              "      border-top-color: var(--fill-color);\n",
              "      border-right-color: var(--fill-color);\n",
              "    }\n",
              "    40% {\n",
              "      border-color: transparent;\n",
              "      border-right-color: var(--fill-color);\n",
              "      border-top-color: var(--fill-color);\n",
              "    }\n",
              "    60% {\n",
              "      border-color: transparent;\n",
              "      border-right-color: var(--fill-color);\n",
              "    }\n",
              "    80% {\n",
              "      border-color: transparent;\n",
              "      border-right-color: var(--fill-color);\n",
              "      border-bottom-color: var(--fill-color);\n",
              "    }\n",
              "    90% {\n",
              "      border-color: transparent;\n",
              "      border-bottom-color: var(--fill-color);\n",
              "    }\n",
              "  }\n",
              "</style>\n",
              "\n",
              "  <script>\n",
              "    async function quickchart(key) {\n",
              "      const quickchartButtonEl =\n",
              "        document.querySelector('#' + key + ' button');\n",
              "      quickchartButtonEl.disabled = true;  // To prevent multiple clicks.\n",
              "      quickchartButtonEl.classList.add('colab-df-spinner');\n",
              "      try {\n",
              "        const charts = await google.colab.kernel.invokeFunction(\n",
              "            'suggestCharts', [key], {});\n",
              "      } catch (error) {\n",
              "        console.error('Error during call to suggestCharts:', error);\n",
              "      }\n",
              "      quickchartButtonEl.classList.remove('colab-df-spinner');\n",
              "      quickchartButtonEl.classList.add('colab-df-quickchart-complete');\n",
              "    }\n",
              "    (() => {\n",
              "      let quickchartButtonEl =\n",
              "        document.querySelector('#df-5865ec63-d421-404b-89c5-9d4b46a1e308 button');\n",
              "      quickchartButtonEl.style.display =\n",
              "        google.colab.kernel.accessAllowed ? 'block' : 'none';\n",
              "    })();\n",
              "  </script>\n",
              "</div>\n",
              "\n",
              "    </div>\n",
              "  </div>\n"
            ],
            "application/vnd.google.colaboratory.intrinsic+json": {
              "type": "dataframe",
              "variable_name": "df",
              "summary": "{\n  \"name\": \"df\",\n  \"rows\": 26,\n  \"fields\": [\n    {\n      \"column\": \"\\u65e5\\u671f\",\n      \"properties\": {\n        \"dtype\": \"string\",\n        \"num_unique_values\": 26,\n        \"samples\": [\n          \"113/03/13\",\n          \"113/03/25\",\n          \"113/03/01\"\n        ],\n        \"semantic_type\": \"\",\n        \"description\": \"\"\n      }\n    },\n    {\n      \"column\": \"\\u6210\\u4ea4\\u80a1\\u6578\",\n      \"properties\": {\n        \"dtype\": \"string\",\n        \"num_unique_values\": 21,\n        \"samples\": [\n          \"24,167,721\",\n          \"43,103,294\",\n          \"32,629,749\"\n        ],\n        \"semantic_type\": \"\",\n        \"description\": \"\"\n      }\n    },\n    {\n      \"column\": \"\\u6210\\u4ea4\\u91d1\\u984d\",\n      \"properties\": {\n        \"dtype\": \"string\",\n        \"num_unique_values\": 21,\n        \"samples\": [\n          \"16,699,995,060\",\n          \"33,847,261,033\",\n          \"25,521,571,701\"\n        ],\n        \"semantic_type\": \"\",\n        \"description\": \"\"\n      }\n    },\n    {\n      \"column\": \"\\u958b\\u76e4\\u50f9\",\n      \"properties\": {\n        \"dtype\": \"number\",\n        \"std\": 26.465970963628354,\n        \"min\": 697.0,\n        \"max\": 795.0,\n        \"num_unique_values\": 19,\n        \"samples\": [\n          697.0,\n          795.0,\n          754.0\n        ],\n        \"semantic_type\": \"\",\n        \"description\": \"\"\n      }\n    },\n    {\n      \"column\": \"\\u6700\\u9ad8\\u50f9\",\n      \"properties\": {\n        \"dtype\": \"number\",\n        \"std\": 24.927131900038255,\n        \"min\": 697.0,\n        \"max\": 796.0,\n        \"num_unique_values\": 16,\n        \"samples\": [\n          697.0,\n          725.0,\n          778.0\n        ],\n        \"semantic_type\": \"\",\n        \"description\": \"\"\n      }\n    },\n    {\n      \"column\": \"\\u6700\\u4f4e\\u50f9\",\n      \"properties\": {\n        \"dtype\": \"number\",\n        \"std\": 24.76383692095429,\n        \"min\": 688.0,\n        \"max\": 779.0,\n        \"num_unique_values\": 16,\n        \"samples\": [\n          688.0,\n          711.0,\n          772.0\n        ],\n        \"semantic_type\": \"\",\n        \"description\": \"\"\n      }\n    },\n    {\n      \"column\": \"\\u6536\\u76e4\\u50f9\",\n      \"properties\": {\n        \"dtype\": \"number\",\n        \"std\": 24.744985061912764,\n        \"min\": 689.0,\n        \"max\": 785.0,\n        \"num_unique_values\": 17,\n        \"samples\": [\n          689.0,\n          725.0,\n          784.0\n        ],\n        \"semantic_type\": \"\",\n        \"description\": \"\"\n      }\n    },\n    {\n      \"column\": \"\\u6f32\\u8dcc\\u50f9\\u5dee\",\n      \"properties\": {\n        \"dtype\": \"string\",\n        \"num_unique_values\": 19,\n        \"samples\": [\n          \"-1\",\n          \"-18\",\n          \"-4\"\n        ],\n        \"semantic_type\": \"\",\n        \"description\": \"\"\n      }\n    },\n    {\n      \"column\": \"\\u6210\\u4ea4\\u7b46\\u6578\",\n      \"properties\": {\n        \"dtype\": \"string\",\n        \"num_unique_values\": 21,\n        \"samples\": [\n          \"26,282\",\n          \"35,046\",\n          \"33,054\"\n        ],\n        \"semantic_type\": \"\",\n        \"description\": \"\"\n      }\n    }\n  ]\n}"
            }
          },
          "metadata": {},
          "execution_count": 41
        }
      ]
    },
    {
      "cell_type": "code",
      "source": [
        "!pip install langchain_experimental"
      ],
      "metadata": {
        "id": "aYOMOVzORrQ6",
        "colab": {
          "base_uri": "https://localhost:8080/"
        },
        "outputId": "42ccade1-5f28-4da2-b6a9-c9777e1e2e2e"
      },
      "execution_count": null,
      "outputs": [
        {
          "output_type": "stream",
          "name": "stdout",
          "text": [
            "Collecting langchain_experimental\n",
            "  Downloading langchain_experimental-0.3.4-py3-none-any.whl.metadata (1.7 kB)\n",
            "Requirement already satisfied: langchain-community<0.4.0,>=0.3.0 in /usr/local/lib/python3.11/dist-packages (from langchain_experimental) (0.3.15)\n",
            "Requirement already satisfied: langchain-core<0.4.0,>=0.3.28 in /usr/local/lib/python3.11/dist-packages (from langchain_experimental) (0.3.31)\n",
            "Requirement already satisfied: PyYAML>=5.3 in /usr/local/lib/python3.11/dist-packages (from langchain-community<0.4.0,>=0.3.0->langchain_experimental) (6.0.2)\n",
            "Requirement already satisfied: SQLAlchemy<3,>=1.4 in /usr/local/lib/python3.11/dist-packages (from langchain-community<0.4.0,>=0.3.0->langchain_experimental) (2.0.37)\n",
            "Requirement already satisfied: aiohttp<4.0.0,>=3.8.3 in /usr/local/lib/python3.11/dist-packages (from langchain-community<0.4.0,>=0.3.0->langchain_experimental) (3.11.11)\n",
            "Requirement already satisfied: dataclasses-json<0.7,>=0.5.7 in /usr/local/lib/python3.11/dist-packages (from langchain-community<0.4.0,>=0.3.0->langchain_experimental) (0.6.7)\n",
            "Requirement already satisfied: httpx-sse<0.5.0,>=0.4.0 in /usr/local/lib/python3.11/dist-packages (from langchain-community<0.4.0,>=0.3.0->langchain_experimental) (0.4.0)\n",
            "Requirement already satisfied: langchain<0.4.0,>=0.3.15 in /usr/local/lib/python3.11/dist-packages (from langchain-community<0.4.0,>=0.3.0->langchain_experimental) (0.3.15)\n",
            "Requirement already satisfied: langsmith<0.4,>=0.1.125 in /usr/local/lib/python3.11/dist-packages (from langchain-community<0.4.0,>=0.3.0->langchain_experimental) (0.2.10)\n",
            "Requirement already satisfied: numpy<2,>=1.22.4 in /usr/local/lib/python3.11/dist-packages (from langchain-community<0.4.0,>=0.3.0->langchain_experimental) (1.26.4)\n",
            "Requirement already satisfied: pydantic-settings<3.0.0,>=2.4.0 in /usr/local/lib/python3.11/dist-packages (from langchain-community<0.4.0,>=0.3.0->langchain_experimental) (2.7.1)\n",
            "Requirement already satisfied: requests<3,>=2 in /usr/local/lib/python3.11/dist-packages (from langchain-community<0.4.0,>=0.3.0->langchain_experimental) (2.32.3)\n",
            "Requirement already satisfied: tenacity!=8.4.0,<10,>=8.1.0 in /usr/local/lib/python3.11/dist-packages (from langchain-community<0.4.0,>=0.3.0->langchain_experimental) (9.0.0)\n",
            "Requirement already satisfied: jsonpatch<2.0,>=1.33 in /usr/local/lib/python3.11/dist-packages (from langchain-core<0.4.0,>=0.3.28->langchain_experimental) (1.33)\n",
            "Requirement already satisfied: packaging<25,>=23.2 in /usr/local/lib/python3.11/dist-packages (from langchain-core<0.4.0,>=0.3.28->langchain_experimental) (24.2)\n",
            "Requirement already satisfied: pydantic<3.0.0,>=2.5.2 in /usr/local/lib/python3.11/dist-packages (from langchain-core<0.4.0,>=0.3.28->langchain_experimental) (2.10.5)\n",
            "Requirement already satisfied: typing-extensions>=4.7 in /usr/local/lib/python3.11/dist-packages (from langchain-core<0.4.0,>=0.3.28->langchain_experimental) (4.12.2)\n",
            "Requirement already satisfied: aiohappyeyeballs>=2.3.0 in /usr/local/lib/python3.11/dist-packages (from aiohttp<4.0.0,>=3.8.3->langchain-community<0.4.0,>=0.3.0->langchain_experimental) (2.4.4)\n",
            "Requirement already satisfied: aiosignal>=1.1.2 in /usr/local/lib/python3.11/dist-packages (from aiohttp<4.0.0,>=3.8.3->langchain-community<0.4.0,>=0.3.0->langchain_experimental) (1.3.2)\n",
            "Requirement already satisfied: attrs>=17.3.0 in /usr/local/lib/python3.11/dist-packages (from aiohttp<4.0.0,>=3.8.3->langchain-community<0.4.0,>=0.3.0->langchain_experimental) (24.3.0)\n",
            "Requirement already satisfied: frozenlist>=1.1.1 in /usr/local/lib/python3.11/dist-packages (from aiohttp<4.0.0,>=3.8.3->langchain-community<0.4.0,>=0.3.0->langchain_experimental) (1.5.0)\n",
            "Requirement already satisfied: multidict<7.0,>=4.5 in /usr/local/lib/python3.11/dist-packages (from aiohttp<4.0.0,>=3.8.3->langchain-community<0.4.0,>=0.3.0->langchain_experimental) (6.1.0)\n",
            "Requirement already satisfied: propcache>=0.2.0 in /usr/local/lib/python3.11/dist-packages (from aiohttp<4.0.0,>=3.8.3->langchain-community<0.4.0,>=0.3.0->langchain_experimental) (0.2.1)\n",
            "Requirement already satisfied: yarl<2.0,>=1.17.0 in /usr/local/lib/python3.11/dist-packages (from aiohttp<4.0.0,>=3.8.3->langchain-community<0.4.0,>=0.3.0->langchain_experimental) (1.18.3)\n",
            "Requirement already satisfied: marshmallow<4.0.0,>=3.18.0 in /usr/local/lib/python3.11/dist-packages (from dataclasses-json<0.7,>=0.5.7->langchain-community<0.4.0,>=0.3.0->langchain_experimental) (3.25.1)\n",
            "Requirement already satisfied: typing-inspect<1,>=0.4.0 in /usr/local/lib/python3.11/dist-packages (from dataclasses-json<0.7,>=0.5.7->langchain-community<0.4.0,>=0.3.0->langchain_experimental) (0.9.0)\n",
            "Requirement already satisfied: jsonpointer>=1.9 in /usr/local/lib/python3.11/dist-packages (from jsonpatch<2.0,>=1.33->langchain-core<0.4.0,>=0.3.28->langchain_experimental) (3.0.0)\n",
            "Requirement already satisfied: langchain-text-splitters<0.4.0,>=0.3.3 in /usr/local/lib/python3.11/dist-packages (from langchain<0.4.0,>=0.3.15->langchain-community<0.4.0,>=0.3.0->langchain_experimental) (0.3.5)\n",
            "Requirement already satisfied: httpx<1,>=0.23.0 in /usr/local/lib/python3.11/dist-packages (from langsmith<0.4,>=0.1.125->langchain-community<0.4.0,>=0.3.0->langchain_experimental) (0.28.1)\n",
            "Requirement already satisfied: orjson<4.0.0,>=3.9.14 in /usr/local/lib/python3.11/dist-packages (from langsmith<0.4,>=0.1.125->langchain-community<0.4.0,>=0.3.0->langchain_experimental) (3.10.14)\n",
            "Requirement already satisfied: requests-toolbelt<2.0.0,>=1.0.0 in /usr/local/lib/python3.11/dist-packages (from langsmith<0.4,>=0.1.125->langchain-community<0.4.0,>=0.3.0->langchain_experimental) (1.0.0)\n",
            "Requirement already satisfied: annotated-types>=0.6.0 in /usr/local/lib/python3.11/dist-packages (from pydantic<3.0.0,>=2.5.2->langchain-core<0.4.0,>=0.3.28->langchain_experimental) (0.7.0)\n",
            "Requirement already satisfied: pydantic-core==2.27.2 in /usr/local/lib/python3.11/dist-packages (from pydantic<3.0.0,>=2.5.2->langchain-core<0.4.0,>=0.3.28->langchain_experimental) (2.27.2)\n",
            "Requirement already satisfied: python-dotenv>=0.21.0 in /usr/local/lib/python3.11/dist-packages (from pydantic-settings<3.0.0,>=2.4.0->langchain-community<0.4.0,>=0.3.0->langchain_experimental) (1.0.1)\n",
            "Requirement already satisfied: charset-normalizer<4,>=2 in /usr/local/lib/python3.11/dist-packages (from requests<3,>=2->langchain-community<0.4.0,>=0.3.0->langchain_experimental) (3.4.1)\n",
            "Requirement already satisfied: idna<4,>=2.5 in /usr/local/lib/python3.11/dist-packages (from requests<3,>=2->langchain-community<0.4.0,>=0.3.0->langchain_experimental) (3.10)\n",
            "Requirement already satisfied: urllib3<3,>=1.21.1 in /usr/local/lib/python3.11/dist-packages (from requests<3,>=2->langchain-community<0.4.0,>=0.3.0->langchain_experimental) (2.3.0)\n",
            "Requirement already satisfied: certifi>=2017.4.17 in /usr/local/lib/python3.11/dist-packages (from requests<3,>=2->langchain-community<0.4.0,>=0.3.0->langchain_experimental) (2024.12.14)\n",
            "Requirement already satisfied: greenlet!=0.4.17 in /usr/local/lib/python3.11/dist-packages (from SQLAlchemy<3,>=1.4->langchain-community<0.4.0,>=0.3.0->langchain_experimental) (3.1.1)\n",
            "Requirement already satisfied: anyio in /usr/local/lib/python3.11/dist-packages (from httpx<1,>=0.23.0->langsmith<0.4,>=0.1.125->langchain-community<0.4.0,>=0.3.0->langchain_experimental) (3.7.1)\n",
            "Requirement already satisfied: httpcore==1.* in /usr/local/lib/python3.11/dist-packages (from httpx<1,>=0.23.0->langsmith<0.4,>=0.1.125->langchain-community<0.4.0,>=0.3.0->langchain_experimental) (1.0.7)\n",
            "Requirement already satisfied: h11<0.15,>=0.13 in /usr/local/lib/python3.11/dist-packages (from httpcore==1.*->httpx<1,>=0.23.0->langsmith<0.4,>=0.1.125->langchain-community<0.4.0,>=0.3.0->langchain_experimental) (0.14.0)\n",
            "Requirement already satisfied: mypy-extensions>=0.3.0 in /usr/local/lib/python3.11/dist-packages (from typing-inspect<1,>=0.4.0->dataclasses-json<0.7,>=0.5.7->langchain-community<0.4.0,>=0.3.0->langchain_experimental) (1.0.0)\n",
            "Requirement already satisfied: sniffio>=1.1 in /usr/local/lib/python3.11/dist-packages (from anyio->httpx<1,>=0.23.0->langsmith<0.4,>=0.1.125->langchain-community<0.4.0,>=0.3.0->langchain_experimental) (1.3.1)\n",
            "Downloading langchain_experimental-0.3.4-py3-none-any.whl (209 kB)\n",
            "\u001b[2K   \u001b[90m━━━━━━━━━━━━━━━━━━━━━━━━━━━━━━━━━━━━━━━━\u001b[0m \u001b[32m209.2/209.2 kB\u001b[0m \u001b[31m3.4 MB/s\u001b[0m eta \u001b[36m0:00:00\u001b[0m\n",
            "\u001b[?25hInstalling collected packages: langchain_experimental\n",
            "Successfully installed langchain_experimental-0.3.4\n"
          ]
        }
      ]
    },
    {
      "cell_type": "markdown",
      "source": [
        "LangChain 2.0 要求 `create_pandas_dataframe_agent` 必須明確指定 `allow_dangerous_code=True`, 否則會出現錯誤：\n",
        "\n",
        "```\n",
        "ValueError: This agent relies on access to a python repl tool which can execute arbitrary code. This can be dangerous and requires a specially sandboxed environment to be safely used. Please read the security notice in the doc-string of this function. You must opt-in to use this functionality by setting allow_dangerous_code=True.For general security guidelines, please see: https://python.langchain.com/v0.2/docs/security/\n",
        "```"
      ],
      "metadata": {
        "id": "vpoa-6NwDSVj"
      }
    },
    {
      "cell_type": "code",
      "source": [
        "from langchain_experimental.agents import (\n",
        "    create_pandas_dataframe_agent)\n",
        "\n",
        "agent = create_pandas_dataframe_agent(llm=chat_model,\n",
        "                    df=df,\n",
        "                    prefix='回答請使用繁體中文',\n",
        "                    agent_type=\"openai-tools\",\n",
        "                    # langchain 2.0 要求加上這一行\n",
        "                    allow_dangerous_code=True,\n",
        "                    verbose=True)"
      ],
      "metadata": {
        "id": "QG76hZTdP7TD"
      },
      "execution_count": null,
      "outputs": []
    },
    {
      "cell_type": "code",
      "source": [
        "result = agent.invoke({\"3月收盤價的平均值是?\"})\n",
        "print(result['output'])"
      ],
      "metadata": {
        "id": "yWq-iw73R4Dh",
        "colab": {
          "base_uri": "https://localhost:8080/"
        },
        "outputId": "03b137ae-6097-4819-af95-9c1dc09bab0c"
      },
      "execution_count": null,
      "outputs": [
        {
          "output_type": "stream",
          "name": "stdout",
          "text": [
            "\n",
            "\n",
            "\u001b[1m> Entering new AgentExecutor chain...\u001b[0m\n",
            "\u001b[32;1m\u001b[1;3m\n",
            "Invoking: `python_repl_ast` with `{'query': \"df['收盤價'].mean()\"}`\n",
            "\n",
            "\n",
            "\u001b[0m\u001b[36;1m\u001b[1;3m762.7142857142857\u001b[0m\u001b[32;1m\u001b[1;3m3月收盤價的平均值是762.71。\u001b[0m\n",
            "\n",
            "\u001b[1m> Finished chain.\u001b[0m\n",
            "3月收盤價的平均值是762.71。\n"
          ]
        }
      ]
    },
    {
      "cell_type": "code",
      "source": [
        "print(df['收盤價'].mean())"
      ],
      "metadata": {
        "id": "Gs2GpDlGW6vs",
        "colab": {
          "base_uri": "https://localhost:8080/"
        },
        "outputId": "6e7a1e93-7a30-4f39-f785-a73f4b11d717"
      },
      "execution_count": null,
      "outputs": [
        {
          "output_type": "stream",
          "name": "stdout",
          "text": [
            "762.7142857142857\n"
          ]
        }
      ]
    },
    {
      "cell_type": "markdown",
      "source": [
        "[Replit 專案](https://replit.com/@flagtech/Officefilebot)\n",
        "\n",
        "[GitHub 可讀圖片 PDF 的 Source code](https://github.com/FlagTech/F4763)"
      ],
      "metadata": {
        "id": "Kw_TlEZsYwbj"
      }
    }
  ],
  "metadata": {
    "colab": {
      "provenance": [],
      "include_colab_link": true
    },
    "kernelspec": {
      "display_name": "Python 3",
      "name": "python3"
    },
    "language_info": {
      "name": "python"
    }
  },
  "nbformat": 4,
  "nbformat_minor": 0
}